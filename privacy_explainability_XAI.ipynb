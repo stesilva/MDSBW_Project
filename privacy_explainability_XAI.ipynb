{
 "cells": [
  {
   "cell_type": "code",
   "execution_count": 1,
   "id": "4fd6594f",
   "metadata": {},
   "outputs": [],
   "source": [
    "import warnings\n",
    "warnings.filterwarnings(\"ignore\")\n",
    "\n",
    "import sys\n",
    "sys.path.append(\"dependencies\")\n",
    "\n",
    "from omnixai.data.tabular import Tabular\n",
    "from omnixai.preprocessing.tabular import TabularTransform\n",
    "from omnixai.explainers.tabular import TabularExplainer\n",
    "import xgboost as xgboost\n",
    "from itertools import cycle, islice\n",
    "\n",
    "import pandas as pd\n",
    "import numpy as np\n",
    "import sklearn\n",
    "import lightgbm as lgb\n",
    "from lightgbm import early_stopping, log_evaluation\n",
    "from sklearn.metrics import classification_report\n",
    "import random"
   ]
  },
  {
   "cell_type": "markdown",
   "id": "55553f99-b8a1-441f-9455-d385acc8413f",
   "metadata": {},
   "source": [
    "## Load the dataset\n",
    "\n",
    "We also show some of the rows."
   ]
  },
  {
   "cell_type": "code",
   "execution_count": 16,
   "id": "8eda0f88",
   "metadata": {},
   "outputs": [
    {
     "data": {
      "text/html": [
       "<div>\n",
       "<style scoped>\n",
       "    .dataframe tbody tr th:only-of-type {\n",
       "        vertical-align: middle;\n",
       "    }\n",
       "\n",
       "    .dataframe tbody tr th {\n",
       "        vertical-align: top;\n",
       "    }\n",
       "\n",
       "    .dataframe thead th {\n",
       "        text-align: right;\n",
       "    }\n",
       "</style>\n",
       "<table border=\"1\" class=\"dataframe\">\n",
       "  <thead>\n",
       "    <tr style=\"text-align: right;\">\n",
       "      <th></th>\n",
       "      <th>Age</th>\n",
       "      <th>Workclass</th>\n",
       "      <th>Education</th>\n",
       "      <th>Occupation</th>\n",
       "      <th>Relationship</th>\n",
       "      <th>Race</th>\n",
       "      <th>Sex</th>\n",
       "      <th>Capital Gain</th>\n",
       "      <th>Capital Loss</th>\n",
       "      <th>Hours per week</th>\n",
       "      <th>Country</th>\n",
       "      <th>label</th>\n",
       "    </tr>\n",
       "  </thead>\n",
       "  <tbody>\n",
       "    <tr>\n",
       "      <th>1</th>\n",
       "      <td>25</td>\n",
       "      <td>Private</td>\n",
       "      <td>11th</td>\n",
       "      <td>Machine-op-inspct</td>\n",
       "      <td>Own-child</td>\n",
       "      <td>Black</td>\n",
       "      <td>Male</td>\n",
       "      <td>0</td>\n",
       "      <td>0</td>\n",
       "      <td>40</td>\n",
       "      <td>United-States</td>\n",
       "      <td>&lt;=50K</td>\n",
       "    </tr>\n",
       "    <tr>\n",
       "      <th>2</th>\n",
       "      <td>38</td>\n",
       "      <td>Private</td>\n",
       "      <td>HS-grad</td>\n",
       "      <td>Farming-fishing</td>\n",
       "      <td>Husband</td>\n",
       "      <td>White</td>\n",
       "      <td>Male</td>\n",
       "      <td>0</td>\n",
       "      <td>0</td>\n",
       "      <td>50</td>\n",
       "      <td>United-States</td>\n",
       "      <td>&lt;=50K</td>\n",
       "    </tr>\n",
       "    <tr>\n",
       "      <th>3</th>\n",
       "      <td>28</td>\n",
       "      <td>Local-gov</td>\n",
       "      <td>Assoc-acdm</td>\n",
       "      <td>Protective-serv</td>\n",
       "      <td>Husband</td>\n",
       "      <td>White</td>\n",
       "      <td>Male</td>\n",
       "      <td>0</td>\n",
       "      <td>0</td>\n",
       "      <td>40</td>\n",
       "      <td>United-States</td>\n",
       "      <td>&gt;50K</td>\n",
       "    </tr>\n",
       "    <tr>\n",
       "      <th>4</th>\n",
       "      <td>44</td>\n",
       "      <td>Private</td>\n",
       "      <td>Some-college</td>\n",
       "      <td>Machine-op-inspct</td>\n",
       "      <td>Husband</td>\n",
       "      <td>Black</td>\n",
       "      <td>Male</td>\n",
       "      <td>7688</td>\n",
       "      <td>0</td>\n",
       "      <td>40</td>\n",
       "      <td>United-States</td>\n",
       "      <td>&gt;50K</td>\n",
       "    </tr>\n",
       "    <tr>\n",
       "      <th>5</th>\n",
       "      <td>18</td>\n",
       "      <td>?</td>\n",
       "      <td>Some-college</td>\n",
       "      <td>?</td>\n",
       "      <td>Own-child</td>\n",
       "      <td>White</td>\n",
       "      <td>Female</td>\n",
       "      <td>0</td>\n",
       "      <td>0</td>\n",
       "      <td>30</td>\n",
       "      <td>United-States</td>\n",
       "      <td>&lt;=50K</td>\n",
       "    </tr>\n",
       "  </tbody>\n",
       "</table>\n",
       "</div>"
      ],
      "text/plain": [
       "  Age  Workclass     Education         Occupation Relationship   Race     Sex  \\\n",
       "1  25    Private          11th  Machine-op-inspct    Own-child  Black    Male   \n",
       "2  38    Private       HS-grad    Farming-fishing      Husband  White    Male   \n",
       "3  28  Local-gov    Assoc-acdm    Protective-serv      Husband  White    Male   \n",
       "4  44    Private  Some-college  Machine-op-inspct      Husband  Black    Male   \n",
       "5  18          ?  Some-college                  ?    Own-child  White  Female   \n",
       "\n",
       "  Capital Gain Capital Loss Hours per week        Country  label  \n",
       "1            0            0             40  United-States  <=50K  \n",
       "2            0            0             50  United-States  <=50K  \n",
       "3            0            0             40  United-States   >50K  \n",
       "4         7688            0             40  United-States   >50K  \n",
       "5            0            0             30  United-States  <=50K  "
      ]
     },
     "execution_count": 16,
     "metadata": {},
     "output_type": "execute_result"
    }
   ],
   "source": [
    "feature_names = [\n",
    "    \"Age\", \"Workclass\", \"Education\", \"Occupation\",\n",
    "    \"Relationship\", \"Race\", \"Sex\", \"Capital Gain\",\n",
    "    \"Capital Loss\", \"Hours per week\", \"Country\", \"label\"\n",
    "]\n",
    "df = pd.DataFrame(\n",
    "    np.genfromtxt('adult.csv', delimiter=',', dtype=str, usecols=(0,1,3,6,7,8,9,10,11,12,13,14)),\n",
    "    columns=feature_names\n",
    ")\n",
    "\n",
    "# Drop the first row as it is just the column names\n",
    "df = df.drop(0)\n",
    "\n",
    "df.head()"
   ]
  },
  {
   "cell_type": "markdown",
   "id": "5bbdedad-897d-446e-acd1-91a86240f012",
   "metadata": {},
   "source": [
    "## Preprocessing\n",
    "\n",
    "We begin with some light preprocessing of the data.\n",
    "\n",
    "- We omit some of the columns because they are redundant. For example, `Education-Num` is the same as `Education`, the only difference is that one is in string and the other in numerals.\n",
    "- We drop all rows that contain missing values.\n",
    "- Define which rows are categorical and which are numerical.\n",
    "- We discretize the `Age` and `Hours per week` features into bins (e.g. ages 15-25)."
   ]
  },
  {
   "cell_type": "code",
   "execution_count": 17,
   "id": "2c18cecd",
   "metadata": {},
   "outputs": [
    {
     "data": {
      "text/html": [
       "<div>\n",
       "<style scoped>\n",
       "    .dataframe tbody tr th:only-of-type {\n",
       "        vertical-align: middle;\n",
       "    }\n",
       "\n",
       "    .dataframe tbody tr th {\n",
       "        vertical-align: top;\n",
       "    }\n",
       "\n",
       "    .dataframe thead th {\n",
       "        text-align: right;\n",
       "    }\n",
       "</style>\n",
       "<table border=\"1\" class=\"dataframe\">\n",
       "  <thead>\n",
       "    <tr style=\"text-align: right;\">\n",
       "      <th></th>\n",
       "      <th>Age</th>\n",
       "      <th>Workclass</th>\n",
       "      <th>Education</th>\n",
       "      <th>Occupation</th>\n",
       "      <th>Relationship</th>\n",
       "      <th>Race</th>\n",
       "      <th>Sex</th>\n",
       "      <th>Capital Gain</th>\n",
       "      <th>Capital Loss</th>\n",
       "      <th>Hours per week</th>\n",
       "      <th>Country</th>\n",
       "      <th>label</th>\n",
       "    </tr>\n",
       "  </thead>\n",
       "  <tbody>\n",
       "    <tr>\n",
       "      <th>31610</th>\n",
       "      <td>Aged</td>\n",
       "      <td>Private</td>\n",
       "      <td>HS-grad</td>\n",
       "      <td>Handlers-cleaners</td>\n",
       "      <td>Married</td>\n",
       "      <td>White</td>\n",
       "      <td>Male</td>\n",
       "      <td>0</td>\n",
       "      <td>0</td>\n",
       "      <td>FullTime</td>\n",
       "      <td>United-States</td>\n",
       "      <td>0</td>\n",
       "    </tr>\n",
       "    <tr>\n",
       "      <th>8247</th>\n",
       "      <td>Aged</td>\n",
       "      <td>Local-gov</td>\n",
       "      <td>Some-college</td>\n",
       "      <td>Adm-clerical</td>\n",
       "      <td>Not-in-family</td>\n",
       "      <td>White</td>\n",
       "      <td>Female</td>\n",
       "      <td>0</td>\n",
       "      <td>0</td>\n",
       "      <td>FullTime</td>\n",
       "      <td>United-States</td>\n",
       "      <td>0</td>\n",
       "    </tr>\n",
       "    <tr>\n",
       "      <th>18910</th>\n",
       "      <td>Aged</td>\n",
       "      <td>Private</td>\n",
       "      <td>11th</td>\n",
       "      <td>Craft-repair</td>\n",
       "      <td>Married</td>\n",
       "      <td>White</td>\n",
       "      <td>Male</td>\n",
       "      <td>0</td>\n",
       "      <td>1485</td>\n",
       "      <td>OverTime</td>\n",
       "      <td>United-States</td>\n",
       "      <td>1</td>\n",
       "    </tr>\n",
       "    <tr>\n",
       "      <th>9683</th>\n",
       "      <td>Aged</td>\n",
       "      <td>State-gov</td>\n",
       "      <td>Bachelors</td>\n",
       "      <td>Adm-clerical</td>\n",
       "      <td>Married</td>\n",
       "      <td>White</td>\n",
       "      <td>Male</td>\n",
       "      <td>0</td>\n",
       "      <td>0</td>\n",
       "      <td>MidTime</td>\n",
       "      <td>United-States</td>\n",
       "      <td>1</td>\n",
       "    </tr>\n",
       "    <tr>\n",
       "      <th>8502</th>\n",
       "      <td>Young</td>\n",
       "      <td>Private</td>\n",
       "      <td>HS-grad</td>\n",
       "      <td>Handlers-cleaners</td>\n",
       "      <td>Own-child</td>\n",
       "      <td>White</td>\n",
       "      <td>Male</td>\n",
       "      <td>0</td>\n",
       "      <td>0</td>\n",
       "      <td>PartTime</td>\n",
       "      <td>United-States</td>\n",
       "      <td>0</td>\n",
       "    </tr>\n",
       "  </tbody>\n",
       "</table>\n",
       "</div>"
      ],
      "text/plain": [
       "         Age  Workclass     Education         Occupation   Relationship  \\\n",
       "31610   Aged    Private       HS-grad  Handlers-cleaners        Married   \n",
       "8247    Aged  Local-gov  Some-college       Adm-clerical  Not-in-family   \n",
       "18910   Aged    Private          11th       Craft-repair        Married   \n",
       "9683    Aged  State-gov     Bachelors       Adm-clerical        Married   \n",
       "8502   Young    Private       HS-grad  Handlers-cleaners      Own-child   \n",
       "\n",
       "        Race     Sex  Capital Gain  Capital Loss Hours per week  \\\n",
       "31610  White    Male             0             0       FullTime   \n",
       "8247   White  Female             0             0       FullTime   \n",
       "18910  White    Male             0          1485       OverTime   \n",
       "9683   White    Male             0             0        MidTime   \n",
       "8502   White    Male             0             0       PartTime   \n",
       "\n",
       "             Country label  \n",
       "31610  United-States     0  \n",
       "8247   United-States     0  \n",
       "18910  United-States     1  \n",
       "9683   United-States     1  \n",
       "8502   United-States     0  "
      ]
     },
     "execution_count": 17,
     "metadata": {},
     "output_type": "execute_result"
    }
   ],
   "source": [
    "#Keep only needed columns\n",
    "feature_names = [\n",
    "    \"Age\", \"Workclass\", \"Education\", \"Occupation\", \"Relationship\", \n",
    "    \"Race\", \"Sex\", \"Capital Gain\",\"Capital Loss\", \"Hours per week\", \"Country\", \n",
    "    \"label\"\n",
    "]\n",
    "\n",
    "df = pd.DataFrame(\n",
    "  np.genfromtxt('adult.data', delimiter=', ', dtype=str, usecols=(0,1,3,6,7,8,9,10,11,12,13,14)),    \n",
    "  columns=feature_names\n",
    ")\n",
    "\n",
    "#Drop missing values denoted as ?\n",
    "cols = list(df.columns)\n",
    "df[cols] = df[cols].replace(['?'], np.nan)\n",
    "df = df.dropna()\n",
    "\n",
    "\n",
    "#Declare categorical columns\n",
    "categorical_columns=[\n",
    "   \"Workclass\", \"Education\", \"Occupation\", \"Relationship\", \"Race\", \"Sex\", \"Country\", \"label\"\n",
    "]\n",
    "\n",
    "\n",
    "for feature in feature_names:\n",
    "    if feature in categorical_columns:\n",
    "        df[feature] = df[feature].astype(\"category\")\n",
    "    else:\n",
    "        df[feature] = df[feature].astype(\"int\")\n",
    "\n",
    "#Make bins for age and hours per week\n",
    "df['Age'] = pd.cut(df['Age'], bins=[16, 35 , 90],labels=['Young','Aged'])\n",
    "df[\"Hours per week\"] = pd.cut(\n",
    "            x=df[\"Hours per week\"],\n",
    "            bins=[0.9, 25, 39, 40, 55, 100],\n",
    "            labels=[\"PartTime\", \"MidTime\", \"FullTime\", \"OverTime\", \"BrainDrain\"])\n",
    "\n",
    "# replace \"Husband\" and \"Wife\" values with the unisex \"Married\"\n",
    "df[\"Relationship\"] = df[\"Relationship\"].replace('Husband','Married')\n",
    "df[\"Relationship\"] = df[\"Relationship\"].replace('Wife','Married')\n",
    "\n",
    "df[\"label\"] = df[\"label\"].replace('>50K',1)\n",
    "df[\"label\"] = df[\"label\"].replace('<=50K',0)\n",
    "\n",
    "df.sample(5)"
   ]
  },
  {
   "cell_type": "markdown",
   "id": "95501f9b",
   "metadata": {},
   "source": [
    "## Generating a private dataset"
   ]
  },
  {
   "cell_type": "code",
   "execution_count": 18,
   "id": "246f21ac",
   "metadata": {},
   "outputs": [
    {
     "data": {
      "text/html": [
       "<div>\n",
       "<style scoped>\n",
       "    .dataframe tbody tr th:only-of-type {\n",
       "        vertical-align: middle;\n",
       "    }\n",
       "\n",
       "    .dataframe tbody tr th {\n",
       "        vertical-align: top;\n",
       "    }\n",
       "\n",
       "    .dataframe thead th {\n",
       "        text-align: right;\n",
       "    }\n",
       "</style>\n",
       "<table border=\"1\" class=\"dataframe\">\n",
       "  <thead>\n",
       "    <tr style=\"text-align: right;\">\n",
       "      <th></th>\n",
       "      <th>Age</th>\n",
       "      <th>Workclass</th>\n",
       "      <th>Education</th>\n",
       "      <th>Occupation</th>\n",
       "      <th>Relationship</th>\n",
       "      <th>Race</th>\n",
       "      <th>Sex</th>\n",
       "      <th>Capital Gain</th>\n",
       "      <th>Capital Loss</th>\n",
       "      <th>Hours per week</th>\n",
       "      <th>Country</th>\n",
       "      <th>label</th>\n",
       "    </tr>\n",
       "  </thead>\n",
       "  <tbody>\n",
       "    <tr>\n",
       "      <th>0</th>\n",
       "      <td>Aged</td>\n",
       "      <td>State-gov</td>\n",
       "      <td>Bachelors</td>\n",
       "      <td>Adm-clerical</td>\n",
       "      <td>Not-in-family</td>\n",
       "      <td>White</td>\n",
       "      <td>Male</td>\n",
       "      <td>2174</td>\n",
       "      <td>0</td>\n",
       "      <td>FullTime</td>\n",
       "      <td>United-States</td>\n",
       "      <td>0</td>\n",
       "    </tr>\n",
       "    <tr>\n",
       "      <th>1</th>\n",
       "      <td>Aged</td>\n",
       "      <td>Self-emp-not-inc</td>\n",
       "      <td>Bachelors</td>\n",
       "      <td>Exec-managerial</td>\n",
       "      <td>Married</td>\n",
       "      <td>White</td>\n",
       "      <td>Male</td>\n",
       "      <td>0</td>\n",
       "      <td>0</td>\n",
       "      <td>PartTime</td>\n",
       "      <td>United-States</td>\n",
       "      <td>0</td>\n",
       "    </tr>\n",
       "    <tr>\n",
       "      <th>2</th>\n",
       "      <td>Aged</td>\n",
       "      <td>Private</td>\n",
       "      <td>HS-grad</td>\n",
       "      <td>Handlers-cleaners</td>\n",
       "      <td>Not-in-family</td>\n",
       "      <td>White</td>\n",
       "      <td>Male</td>\n",
       "      <td>0</td>\n",
       "      <td>0</td>\n",
       "      <td>FullTime</td>\n",
       "      <td>United-States</td>\n",
       "      <td>0</td>\n",
       "    </tr>\n",
       "    <tr>\n",
       "      <th>3</th>\n",
       "      <td>Aged</td>\n",
       "      <td>Private</td>\n",
       "      <td>11th</td>\n",
       "      <td>Handlers-cleaners</td>\n",
       "      <td>Married</td>\n",
       "      <td>Black</td>\n",
       "      <td>Male</td>\n",
       "      <td>0</td>\n",
       "      <td>0</td>\n",
       "      <td>FullTime</td>\n",
       "      <td>United-States</td>\n",
       "      <td>0</td>\n",
       "    </tr>\n",
       "    <tr>\n",
       "      <th>4</th>\n",
       "      <td>Young</td>\n",
       "      <td>Private</td>\n",
       "      <td>Bachelors</td>\n",
       "      <td>Prof-specialty</td>\n",
       "      <td>Married</td>\n",
       "      <td>Black</td>\n",
       "      <td>Female</td>\n",
       "      <td>0</td>\n",
       "      <td>0</td>\n",
       "      <td>FullTime</td>\n",
       "      <td>Cuba</td>\n",
       "      <td>0</td>\n",
       "    </tr>\n",
       "  </tbody>\n",
       "</table>\n",
       "</div>"
      ],
      "text/plain": [
       "     Age         Workclass  Education         Occupation   Relationship  \\\n",
       "0   Aged         State-gov  Bachelors       Adm-clerical  Not-in-family   \n",
       "1   Aged  Self-emp-not-inc  Bachelors    Exec-managerial        Married   \n",
       "2   Aged           Private    HS-grad  Handlers-cleaners  Not-in-family   \n",
       "3   Aged           Private       11th  Handlers-cleaners        Married   \n",
       "4  Young           Private  Bachelors     Prof-specialty        Married   \n",
       "\n",
       "    Race     Sex  Capital Gain  Capital Loss Hours per week        Country  \\\n",
       "0  White    Male          2174             0       FullTime  United-States   \n",
       "1  White    Male             0             0       PartTime  United-States   \n",
       "2  White    Male             0             0       FullTime  United-States   \n",
       "3  Black    Male             0             0       FullTime  United-States   \n",
       "4  Black  Female             0             0       FullTime           Cuba   \n",
       "\n",
       "  label  \n",
       "0     0  \n",
       "1     0  \n",
       "2     0  \n",
       "3     0  \n",
       "4     0  "
      ]
     },
     "execution_count": 18,
     "metadata": {},
     "output_type": "execute_result"
    }
   ],
   "source": [
    "def rand_resp(x, p=0.75, q=0.75):\n",
    "    \"\"\"\n",
    "    Function to return randomized response\n",
    "    \"\"\"\n",
    "    toss = random.random()\n",
    "    # For Age variable\n",
    "    if x in ['Young', 'Aged']:\n",
    "    # if x in ['Young']:\n",
    "        if toss <= p:\n",
    "            return x  # Return true value with probability p\n",
    "        else:\n",
    "            return 'Aged' if x == 'Young' else 'Young'  # Return other category\n",
    "            \n",
    "    # For Sex variable\n",
    "    elif x in ['Male', 'Female']:\n",
    "    # elif x in ['Male']:\n",
    "        if toss <= p:\n",
    "            return x  # Return true value with probability p\n",
    "        else:\n",
    "            return 'Female' if x == 'Male' else 'Male'  # Return other category\n",
    "            \n",
    "    else:\n",
    "        return x\n",
    "    \n",
    "# Create private dataset\n",
    "random.seed(42)\n",
    "pdf = df.copy()\n",
    "pdf['Age'] = pdf['Age'].apply(lambda x: rand_resp(x, 0.90, 0.90))\n",
    "pdf['Sex'] = pdf['Sex'].apply(lambda x: rand_resp(x, 0.90, 0.90))\n",
    "\n",
    "pdf.head()\n",
    "\n"
   ]
  },
  {
   "cell_type": "markdown",
   "id": "5f6d17e7-a199-419a-80d0-7e96f48cd5d3",
   "metadata": {},
   "source": [
    "## \"Tabular\" wrapper, train-test split and model training\n",
    "\n",
    "For convenience, we use the `Tabular` class and relative helpers from the `omnixai` package.\n",
    "\n",
    "The machine learning model we use are gradient boosted trees (links for reference: [1](https://en.wikipedia.org/wiki/Gradient_boosting), [2](https://xgboost.readthedocs.io/en/latest/tutorials/model.html)). We chose this model class because they perform well on tabular data, but the specifics are not relevant. We are interested only in assessing the fairness of the model a posteriori.\n",
    "\n",
    "Train-test splitting and model training are performed in the standard (`scikit-learn` - like) way."
   ]
  },
  {
   "cell_type": "code",
   "execution_count": 24,
   "id": "a8a8adea",
   "metadata": {},
   "outputs": [],
   "source": [
    "def tabular_convert(df):\n",
    "   # Convert the Tabular instances to transformed data \n",
    "   tabular_data = Tabular(\n",
    "      df,\n",
    "      categorical_columns=[\n",
    "   \"Age\", \"Workclass\", \"Education\", \"Occupation\", \"Relationship\", \"Race\", \"Sex\", \"Hours per week\", \"Country\"\n",
    "   ],\n",
    "      target_column='label'\n",
    "   )\n",
    "   transformer = TabularTransform().fit(tabular_data)\n",
    "   class_names = transformer.class_names\n",
    "   x = transformer.transform(tabular_data)\n",
    "\n",
    "   return tabular_data, transformer, class_names, x\n",
    "\n",
    "def split_data(x):\n",
    "   temp, test, temp_labels, test_labels = \\\n",
    "      sklearn.model_selection.train_test_split(x[:, :-1], x[:, -1], train_size=0.80,random_state = 42)\n",
    "\n",
    "   train, val, train_labels, val_labels = \\\n",
    "      sklearn.model_selection.train_test_split(temp, temp_labels, train_size=0.75,random_state = 42)\n",
    "\n",
    "   test_labels = test_labels.astype(int)\n",
    "\n",
    "   print('Training data shape: {}'.format(train.shape))\n",
    "   print('Training data shape: {}'.format(val.shape))\n",
    "   print('Test data shape:     {}'.format(test.shape))\n",
    "\n",
    "   return train, val, train_labels, val_labels, test, test_labels\n",
    "\n",
    "def train_model(train, val, train_labels, val_labels):\n",
    "   model = lgb.LGBMClassifier(\n",
    "      n_estimators=1000,\n",
    "      learning_rate=0.05,\n",
    "      num_leaves=32,\n",
    "      max_depth=6,\n",
    "      class_weight='balanced',\n",
    "      min_child_samples=20,  # Add minimum number of samples required in a child\n",
    "      verbose=-1,  # Suppress warnings\n",
    "      random_state=42\n",
    "   )\n",
    "   # Train with early stopping\n",
    "   model.fit(\n",
    "      train, train_labels,\n",
    "      eval_set=[(val, val_labels)],\n",
    "      eval_metric='auc',\n",
    "      callbacks=[\n",
    "            early_stopping(stopping_rounds=50),\n",
    "            log_evaluation(period=100)\n",
    "      ]\n",
    "   )\n",
    "   return model\n",
    "\n",
    "def tabular_revert(tabular_data, transformer, model, train, train_labels, test):\n",
    "   predict_function = lambda z: model.predict_proba(transformer.transform(z))\n",
    "\n",
    "   # Convert the transformed data back to Tabular instances\n",
    "   train_data = transformer.invert(train)\n",
    "   test_data = transformer.invert(test)\n",
    "\n",
    "   display(tabular_data.target_column)\n",
    "   display(train_labels[:2])\n",
    "   return predict_function, train_data, test_data"
   ]
  },
  {
   "cell_type": "markdown",
   "id": "2a8fadbd",
   "metadata": {},
   "source": [
    "Here are the model predictions."
   ]
  },
  {
   "cell_type": "code",
   "execution_count": 75,
   "id": "6c4fb89b",
   "metadata": {},
   "outputs": [
    {
     "name": "stdout",
     "output_type": "stream",
     "text": [
      "Training data shape: (18096, 99)\n",
      "Training data shape: (6033, 99)\n",
      "Test data shape:     (6033, 99)\n",
      "Training until validation scores don't improve for 50 rounds\n",
      "[100]\tvalid_0's auc: 0.914616\tvalid_0's binary_logloss: 0.3701\n",
      "[200]\tvalid_0's auc: 0.920512\tvalid_0's binary_logloss: 0.352971\n",
      "[300]\tvalid_0's auc: 0.921363\tvalid_0's binary_logloss: 0.349189\n",
      "[400]\tvalid_0's auc: 0.92169\tvalid_0's binary_logloss: 0.347702\n",
      "Early stopping, best iteration is:\n",
      "[399]\tvalid_0's auc: 0.921702\tvalid_0's binary_logloss: 0.347721\n"
     ]
    },
    {
     "data": {
      "text/plain": [
       "'label'"
      ]
     },
     "metadata": {},
     "output_type": "display_data"
    },
    {
     "data": {
      "text/plain": [
       "array([1., 0.])"
      ]
     },
     "metadata": {},
     "output_type": "display_data"
    }
   ],
   "source": [
    "# original data pipeline\n",
    "tabular_data, transformer, x = tabular_convert(df)\n",
    "train, val, train_labels, val_labels, test, test_labels = split_data(x)\n",
    "model = train_model(train, val, train_labels, val_labels)\n",
    "predict_function, train_data, test_data = tabular_revert(tabular_data, transformer, model, train, train_labels, test)"
   ]
  },
  {
   "cell_type": "code",
   "execution_count": 25,
   "id": "7b59a34a",
   "metadata": {},
   "outputs": [
    {
     "name": "stdout",
     "output_type": "stream",
     "text": [
      "Training data shape: (18096, 99)\n",
      "Training data shape: (6033, 99)\n",
      "Test data shape:     (6033, 99)\n",
      "Training until validation scores don't improve for 50 rounds\n",
      "[100]\tvalid_0's auc: 0.914616\tvalid_0's binary_logloss: 0.3701\n",
      "[200]\tvalid_0's auc: 0.920512\tvalid_0's binary_logloss: 0.352971\n",
      "[300]\tvalid_0's auc: 0.921363\tvalid_0's binary_logloss: 0.349189\n",
      "[400]\tvalid_0's auc: 0.92169\tvalid_0's binary_logloss: 0.347702\n",
      "Early stopping, best iteration is:\n",
      "[399]\tvalid_0's auc: 0.921702\tvalid_0's binary_logloss: 0.347721\n"
     ]
    },
    {
     "data": {
      "text/plain": [
       "'label'"
      ]
     },
     "metadata": {},
     "output_type": "display_data"
    },
    {
     "data": {
      "text/plain": [
       "array([1., 0.])"
      ]
     },
     "metadata": {},
     "output_type": "display_data"
    }
   ],
   "source": [
    "# private data pipeline\n",
    "tabular_data, transformer,class_names, x = tabular_convert(pdf)\n",
    "train, val, train_labels, val_labels, test, test_labels = split_data(x)\n",
    "model = train_model(train, val, train_labels, val_labels)\n",
    "predict_function, train_data, test_data = tabular_revert(tabular_data, transformer, model, train, train_labels, test)"
   ]
  },
  {
   "cell_type": "markdown",
   "id": "33da4e02",
   "metadata": {},
   "source": [
    "Let's estimate the effectiveness of the model."
   ]
  },
  {
   "cell_type": "code",
   "execution_count": 32,
   "id": "914b5acb",
   "metadata": {},
   "outputs": [
    {
     "name": "stdout",
     "output_type": "stream",
     "text": [
      "Test: accuracy=0.8284\n",
      "Test: TP=1316, TN=3682, FP=821, FN=214\n"
     ]
    },
    {
     "data": {
      "image/png": "[encoded data removed]",
      "text/plain": [
       "<Figure size 640x480 with 2 Axes>"
      ]
     },
     "metadata": {},
     "output_type": "display_data"
    }
   ],
   "source": [
    "def evaluate(model, test_data, test, test_labels):\n",
    "    test_df = test_data.to_pd()\n",
    "    test_df[\"label\"] = test_labels\n",
    "    predictions = model.predict(test)\n",
    "    test_df[\"prediction\"] = predictions\n",
    "\n",
    "    # test_df.sample(5)\n",
    "\n",
    "    accuracy = sklearn.metrics.accuracy_score(test_labels, predictions)\n",
    "    print(f'Test: {accuracy=:.4f}')\n",
    "\n",
    "    cm = sklearn.metrics.confusion_matrix(test_labels, predictions)\n",
    "\n",
    "    TN = cm[0][0]\n",
    "    FN = cm[1][0]\n",
    "    TP = cm[1][1]\n",
    "    FP = cm[0][1]\n",
    "    print(f\"Test: {TP=}, {TN=}, {FP=}, {FN=}\")\n",
    "\n",
    "    disp = sklearn.metrics.ConfusionMatrixDisplay(confusion_matrix=cm, )\n",
    "    disp.plot()\n",
    "\n",
    "    return test_labels, predictions\n",
    "\n",
    "    # generate classification report\n",
    "    print(classification_report(test_labels, predictions))\n",
    "\n",
    "test_labels, predictions = evaluate(model, test_data, test, test_labels)"
   ]
  },
  {
   "cell_type": "markdown",
   "id": "2e713a95",
   "metadata": {},
   "source": [
    "# Global Explainability\n",
    "\n",
    "We will see 2 global explainability methods:\n",
    "- Accumulated Local Effects plots (ale): Visualize how features influence the average prediction of a model.\n",
    "- Shapley Global values (shap_global): Calculate the contribution of each feature to the model."
   ]
  },
  {
   "cell_type": "code",
   "execution_count": 27,
   "id": "bf6fa02c",
   "metadata": {},
   "outputs": [
    {
     "name": "stderr",
     "output_type": "stream",
     "text": [
      "100%|██████████| 100/100 [00:13<00:00,  7.30it/s]\n"
     ]
    }
   ],
   "source": [
    "explainers = TabularExplainer(\n",
    "  explainers=[\"ale\", \"shap_global\"],                 # The explainers to apply\n",
    "  mode=\"classification\",                             # The task type\n",
    "  data=train_data,                                   # The data for initializing the explainers\n",
    "  model=model,                                       # The ML model to explain\n",
    "  preprocess=lambda z: transformer.transform(z),     # Converts raw features into the model inputs\n",
    ")\n",
    "\n",
    "global_explanations = explainers.explain_global()"
   ]
  },
  {
   "cell_type": "code",
   "execution_count": 28,
   "id": "6276f92b",
   "metadata": {},
   "outputs": [
    {
     "name": "stdout",
     "output_type": "stream",
     "text": [
      "ALE results:\n"
     ]
    },
    {
     "data": {
      "application/vnd.plotly.v1+json": {
       "config": {
        "linkText": "Export to plot.ly",
        "plotlyServerURL": "https://plot.ly",
        "showLink": false
       },
       "data": [
        {
         "legendgroup": "0",
         "legendgrouptitle": {
          "text": "0"
         },
         "name": "Age",
         "type": "scatter",
         "x": [
          "Aged",
          "Young"
         ],
         "xaxis": "x",
         "y": [
          -0.04971145008785453,
          0.058710678493503435
         ],
         "yaxis": "y"
        },
        {
         "legendgroup": "1",
         "legendgrouptitle": {
          "text": "1"
         },
         "name": "Age",
         "type": "scatter",
         "x": [
          "Aged",
          "Young"
         ],
         "xaxis": "x",
         "y": [
          0.04971145008785454,
          -0.05871067849350344
         ],
         "yaxis": "y"
        },
        {
         "legendgroup": "0",
         "line": {
          "color": "#808080"
         },
         "mode": "lines",
         "opacity": 0.1,
         "showlegend": false,
         "type": "scatter",
         "x": [
          "Aged",
          "Young"
         ],
         "xaxis": "x",
         "y": [
          -0.04822207952972288,
          0.05694742570304076
         ],
         "yaxis": "y"
        },
        {
         "legendgroup": "1",
         "line": {
          "color": "#808080"
         },
         "mode": "lines",
         "opacity": 0.1,
         "showlegend": false,
         "type": "scatter",
         "x": [
          "Aged",
          "Young"
         ],
         "xaxis": "x",
         "y": [
          0.04822207952972288,
          -0.05694742570304076
         ],
         "yaxis": "y"
        },
        {
         "legendgroup": "0",
         "line": {
          "color": "#808080"
         },
         "mode": "lines",
         "opacity": 0.1,
         "showlegend": false,
         "type": "scatter",
         "x": [
          "Aged",
          "Young"
         ],
         "xaxis": "x",
         "y": [
          -0.050541264434883326,
          0.059686245997939744
         ],
         "yaxis": "y"
        },
        {
         "legendgroup": "1",
         "line": {
          "color": "#808080"
         },
         "mode": "lines",
         "opacity": 0.1,
         "showlegend": false,
         "type": "scatter",
         "x": [
          "Aged",
          "Young"
         ],
         "xaxis": "x",
         "y": [
          0.050541264434883326,
          -0.059686245997939744
         ],
         "yaxis": "y"
        },
        {
         "legendgroup": "0",
         "line": {
          "color": "#808080"
         },
         "mode": "lines",
         "opacity": 0.1,
         "showlegend": false,
         "type": "scatter",
         "x": [
          "Aged",
          "Young"
         ],
         "xaxis": "x",
         "y": [
          -0.05203506682007157,
          0.061450338321936235
         ],
         "yaxis": "y"
        },
        {
         "legendgroup": "1",
         "line": {
          "color": "#808080"
         },
         "mode": "lines",
         "opacity": 0.1,
         "showlegend": false,
         "type": "scatter",
         "x": [
          "Aged",
          "Young"
         ],
         "xaxis": "x",
         "y": [
          0.05203506682007157,
          -0.061450338321936235
         ],
         "yaxis": "y"
        },
        {
         "legendgroup": "0",
         "line": {
          "color": "#808080"
         },
         "mode": "lines",
         "opacity": 0.1,
         "showlegend": false,
         "type": "scatter",
         "x": [
          "Aged",
          "Young"
         ],
         "xaxis": "x",
         "y": [
          -0.048807072286181453,
          0.05763826757174755
         ],
         "yaxis": "y"
        },
        {
         "legendgroup": "1",
         "line": {
          "color": "#808080"
         },
         "mode": "lines",
         "opacity": 0.1,
         "showlegend": false,
         "type": "scatter",
         "x": [
          "Aged",
          "Young"
         ],
         "xaxis": "x",
         "y": [
          0.048807072286181453,
          -0.05763826757174755
         ],
         "yaxis": "y"
        },
        {
         "legendgroup": "0",
         "line": {
          "color": "#808080"
         },
         "mode": "lines",
         "opacity": 0.1,
         "showlegend": false,
         "type": "scatter",
         "x": [
          "Aged",
          "Young"
         ],
         "xaxis": "x",
         "y": [
          -0.05105883861804153,
          0.06029747051643125
         ],
         "yaxis": "y"
        },
        {
         "legendgroup": "1",
         "line": {
          "color": "#808080"
         },
         "mode": "lines",
         "opacity": 0.1,
         "showlegend": false,
         "type": "scatter",
         "x": [
          "Aged",
          "Young"
         ],
         "xaxis": "x",
         "y": [
          0.05105883861804153,
          -0.06029747051643125
         ],
         "yaxis": "y"
        },
        {
         "legendgroup": "0",
         "line": {
          "color": "#808080"
         },
         "mode": "lines",
         "opacity": 0.1,
         "showlegend": false,
         "type": "scatter",
         "x": [
          "Aged",
          "Young"
         ],
         "xaxis": "x",
         "y": [
          -0.04836353750444847,
          0.057114479210155125
         ],
         "yaxis": "y"
        },
        {
         "legendgroup": "1",
         "line": {
          "color": "#808080"
         },
         "mode": "lines",
         "opacity": 0.1,
         "showlegend": false,
         "type": "scatter",
         "x": [
          "Aged",
          "Young"
         ],
         "xaxis": "x",
         "y": [
          0.04836353750444847,
          -0.057114479210155125
         ],
         "yaxis": "y"
        },
        {
         "legendgroup": "0",
         "line": {
          "color": "#808080"
         },
         "mode": "lines",
         "opacity": 0.1,
         "showlegend": false,
         "type": "scatter",
         "x": [
          "Aged",
          "Young"
         ],
         "xaxis": "x",
         "y": [
          -0.04827081954586228,
          0.05700498478126659
         ],
         "yaxis": "y"
        },
        {
         "legendgroup": "1",
         "line": {
          "color": "#808080"
         },
         "mode": "lines",
         "opacity": 0.1,
         "showlegend": false,
         "type": "scatter",
         "x": [
          "Aged",
          "Young"
         ],
         "xaxis": "x",
         "y": [
          0.04827081954586228,
          -0.05700498478126659
         ],
         "yaxis": "y"
        },
        {
         "legendgroup": "0",
         "line": {
          "color": "#808080"
         },
         "mode": "lines",
         "opacity": 0.1,
         "showlegend": false,
         "type": "scatter",
         "x": [
          "Aged",
          "Young"
         ],
         "xaxis": "x",
         "y": [
          -0.04789609748536162,
          0.05656246017619437
         ],
         "yaxis": "y"
        },
        {
         "legendgroup": "1",
         "line": {
          "color": "#808080"
         },
         "mode": "lines",
         "opacity": 0.1,
         "showlegend": false,
         "type": "scatter",
         "x": [
          "Aged",
          "Young"
         ],
         "xaxis": "x",
         "y": [
          0.04789609748536162,
          -0.05656246017619437
         ],
         "yaxis": "y"
        },
        {
         "legendgroup": "0",
         "line": {
          "color": "#808080"
         },
         "mode": "lines",
         "opacity": 0.1,
         "showlegend": false,
         "type": "scatter",
         "x": [
          "Aged",
          "Young"
         ],
         "xaxis": "x",
         "y": [
          -0.05153793920342982,
          0.06086325998998281
         ],
         "yaxis": "y"
        },
        {
         "legendgroup": "1",
         "line": {
          "color": "#808080"
         },
         "mode": "lines",
         "opacity": 0.1,
         "showlegend": false,
         "type": "scatter",
         "x": [
          "Aged",
          "Young"
         ],
         "xaxis": "x",
         "y": [
          0.05153793920342982,
          -0.06086325998998281
         ],
         "yaxis": "y"
        },
        {
         "legendgroup": "0",
         "line": {
          "color": "#808080"
         },
         "mode": "lines",
         "opacity": 0.1,
         "showlegend": false,
         "type": "scatter",
         "x": [
          "Aged",
          "Young"
         ],
         "xaxis": "x",
         "y": [
          -0.04864924744310906,
          0.05745188576049822
         ],
         "yaxis": "y"
        },
        {
         "legendgroup": "1",
         "line": {
          "color": "#808080"
         },
         "mode": "lines",
         "opacity": 0.1,
         "showlegend": false,
         "type": "scatter",
         "x": [
          "Aged",
          "Young"
         ],
         "xaxis": "x",
         "y": [
          0.04864924744310906,
          -0.05745188576049822
         ],
         "yaxis": "y"
        },
        {
         "legendgroup": "0",
         "legendgrouptitle": {
          "text": "0"
         },
         "name": "Workclass",
         "type": "scatter",
         "x": [
          "Federal-gov",
          "Local-gov",
          "Private",
          "Self-emp-inc",
          "Self-emp-not-in*",
          "State-gov",
          "Without-pay"
         ],
         "xaxis": "x2",
         "y": [
          -0.05646587873647005,
          0.023808399155050782,
          -0.002677431181893973,
          -0.02793940133663367,
          0.03652963932017972,
          0.001096191585057086,
          -0.01722141297377571
         ],
         "yaxis": "y2"
        },
        {
         "legendgroup": "1",
         "legendgrouptitle": {
          "text": "1"
         },
         "name": "Workclass",
         "type": "scatter",
         "x": [
          "Federal-gov",
          "Local-gov",
          "Private",
          "Self-emp-inc",
          "Self-emp-not-in*",
          "State-gov",
          "Without-pay"
         ],
         "xaxis": "x2",
         "y": [
          0.05646587873647005,
          -0.023808399155050782,
          0.002677431181893973,
          0.02793940133663367,
          -0.03652963932017972,
          -0.0010961915850570894,
          0.01722141297377571
         ],
         "yaxis": "y2"
        },
        {
         "legendgroup": "0",
         "line": {
          "color": "#808080"
         },
         "mode": "lines",
         "opacity": 0.1,
         "showlegend": false,
         "type": "scatter",
         "x": [
          "Federal-gov",
          "Local-gov",
          "Private",
          "Self-emp-inc",
          "Self-emp-not-in*",
          "State-gov",
          "Without-pay"
         ],
         "xaxis": "x2",
         "y": [
          -0.0428684608400712,
          0.02546612868500548,
          -0.0037938123306343816,
          -0.023014671113666826,
          0.03759612888473806,
          0.0017776251905178113,
          -0.01279038770677136
         ],
         "yaxis": "y2"
        },
        {
         "legendgroup": "1",
         "line": {
          "color": "#808080"
         },
         "mode": "lines",
         "opacity": 0.1,
         "showlegend": false,
         "type": "scatter",
         "x": [
          "Federal-gov",
          "Local-gov",
          "Private",
          "Self-emp-inc",
          "Self-emp-not-in*",
          "State-gov",
          "Without-pay"
         ],
         "xaxis": "x2",
         "y": [
          0.04286846084007119,
          -0.025466128685005474,
          0.003793812330634385,
          0.02301467111366682,
          -0.03759612888473807,
          -0.0017776251905178078,
          0.012790387706771364
         ],
         "yaxis": "y2"
        },
        {
         "legendgroup": "0",
         "line": {
          "color": "#808080"
         },
         "mode": "lines",
         "opacity": 0.1,
         "showlegend": false,
         "type": "scatter",
         "x": [
          "Federal-gov",
          "Local-gov",
          "Private",
          "Self-emp-inc",
          "Self-emp-not-in*",
          "State-gov",
          "Without-pay"
         ],
         "xaxis": "x2",
         "y": [
          -0.055838327491051096,
          0.020832712988515658,
          -0.0028778185492784603,
          -0.02220879458973529,
          0.03822305848483555,
          0.00041414251895527734,
          -0.01605409721629675
         ],
         "yaxis": "y2"
        },
        {
         "legendgroup": "1",
         "line": {
          "color": "#808080"
         },
         "mode": "lines",
         "opacity": 0.1,
         "showlegend": false,
         "type": "scatter",
         "x": [
          "Federal-gov",
          "Local-gov",
          "Private",
          "Self-emp-inc",
          "Self-emp-not-in*",
          "State-gov",
          "Without-pay"
         ],
         "xaxis": "x2",
         "y": [
          0.0558383274910511,
          -0.020832712988515655,
          0.002877818549278457,
          0.022208794589735292,
          -0.038223058484835544,
          -0.0004141425189552843,
          0.016054097216296744
         ],
         "yaxis": "y2"
        },
        {
         "legendgroup": "0",
         "line": {
          "color": "#808080"
         },
         "mode": "lines",
         "opacity": 0.1,
         "showlegend": false,
         "type": "scatter",
         "x": [
          "Federal-gov",
          "Local-gov",
          "Private",
          "Self-emp-inc",
          "Self-emp-not-in*",
          "State-gov",
          "Without-pay"
         ],
         "xaxis": "x2",
         "y": [
          -0.05430954528811286,
          0.026540675961839906,
          -0.0027139034802004455,
          -0.027442871921798187,
          0.03297287377121715,
          0.0022011249315997267,
          -0.011717928732190054
         ],
         "yaxis": "y2"
        },
        {
         "legendgroup": "1",
         "line": {
          "color": "#808080"
         },
         "mode": "lines",
         "opacity": 0.1,
         "showlegend": false,
         "type": "scatter",
         "x": [
          "Federal-gov",
          "Local-gov",
          "Private",
          "Self-emp-inc",
          "Self-emp-not-in*",
          "State-gov",
          "Without-pay"
         ],
         "xaxis": "x2",
         "y": [
          0.05430954528811287,
          -0.02654067596183991,
          0.002713903480200442,
          0.027442871921798197,
          -0.032972873771217145,
          -0.00220112493159973,
          0.011717928732190065
         ],
         "yaxis": "y2"
        },
        {
         "legendgroup": "0",
         "line": {
          "color": "#808080"
         },
         "mode": "lines",
         "opacity": 0.1,
         "showlegend": false,
         "type": "scatter",
         "x": [
          "Federal-gov",
          "Local-gov",
          "Private",
          "Self-emp-inc",
          "Self-emp-not-in*",
          "State-gov",
          "Without-pay"
         ],
         "xaxis": "x2",
         "y": [
          -0.049088402826157895,
          0.021433683808623066,
          -0.003676487404790072,
          -0.020040541097335184,
          0.04186724850729004,
          -0.0004225061773765054,
          -0.01584033449067345
         ],
         "yaxis": "y2"
        },
        {
         "legendgroup": "1",
         "line": {
          "color": "#808080"
         },
         "mode": "lines",
         "opacity": 0.1,
         "showlegend": false,
         "type": "scatter",
         "x": [
          "Federal-gov",
          "Local-gov",
          "Private",
          "Self-emp-inc",
          "Self-emp-not-in*",
          "State-gov",
          "Without-pay"
         ],
         "xaxis": "x2",
         "y": [
          0.049088402826157895,
          -0.021433683808623066,
          0.003676487404790072,
          0.020040541097335184,
          -0.04186724850729004,
          0.0004225061773765054,
          0.015840334490673444
         ],
         "yaxis": "y2"
        },
        {
         "legendgroup": "0",
         "line": {
          "color": "#808080"
         },
         "mode": "lines",
         "opacity": 0.1,
         "showlegend": false,
         "type": "scatter",
         "x": [
          "Federal-gov",
          "Local-gov",
          "Private",
          "Self-emp-inc",
          "Self-emp-not-in*",
          "State-gov",
          "Without-pay"
         ],
         "xaxis": "x2",
         "y": [
          -0.04985349551528451,
          0.025486098530965604,
          -0.0029911921985758157,
          -0.032249993640481256,
          0.037264178001890316,
          0.0012844526010789697,
          -0.014000956902257423
         ],
         "yaxis": "y2"
        },
        {
         "legendgroup": "1",
         "line": {
          "color": "#808080"
         },
         "mode": "lines",
         "opacity": 0.1,
         "showlegend": false,
         "type": "scatter",
         "x": [
          "Federal-gov",
          "Local-gov",
          "Private",
          "Self-emp-inc",
          "Self-emp-not-in*",
          "State-gov",
          "Without-pay"
         ],
         "xaxis": "x2",
         "y": [
          0.04985349551528451,
          -0.025486098530965604,
          0.0029911921985758157,
          0.03224999364048127,
          -0.037264178001890316,
          -0.0012844526010789697,
          0.014000956902257427
         ],
         "yaxis": "y2"
        },
        {
         "legendgroup": "0",
         "line": {
          "color": "#808080"
         },
         "mode": "lines",
         "opacity": 0.1,
         "showlegend": false,
         "type": "scatter",
         "x": [
          "Federal-gov",
          "Local-gov",
          "Private",
          "Self-emp-inc",
          "Self-emp-not-in*",
          "State-gov",
          "Without-pay"
         ],
         "xaxis": "x2",
         "y": [
          -0.06209091187588196,
          0.02267736296289279,
          -0.00162366073853688,
          -0.029093726055168582,
          0.03028498166424425,
          0.0015441016287028285,
          -0.013092639098928185
         ],
         "yaxis": "y2"
        },
        {
         "legendgroup": "1",
         "line": {
          "color": "#808080"
         },
         "mode": "lines",
         "opacity": 0.1,
         "showlegend": false,
         "type": "scatter",
         "x": [
          "Federal-gov",
          "Local-gov",
          "Private",
          "Self-emp-inc",
          "Self-emp-not-in*",
          "State-gov",
          "Without-pay"
         ],
         "xaxis": "x2",
         "y": [
          0.06209091187588196,
          -0.02267736296289279,
          0.00162366073853688,
          0.029093726055168582,
          -0.03028498166424425,
          -0.001544101628702832,
          0.013092639098928192
         ],
         "yaxis": "y2"
        },
        {
         "legendgroup": "0",
         "line": {
          "color": "#808080"
         },
         "mode": "lines",
         "opacity": 0.1,
         "showlegend": false,
         "type": "scatter",
         "x": [
          "Federal-gov",
          "Local-gov",
          "Private",
          "Self-emp-inc",
          "Self-emp-not-in*",
          "State-gov",
          "Without-pay"
         ],
         "xaxis": "x2",
         "y": [
          -0.04735733167452896,
          0.02322334919713914,
          -0.00462378088916255,
          -0.02603913971710416,
          0.05109805427359278,
          -0.0010678247522960052,
          -0.01002590958608372
         ],
         "yaxis": "y2"
        },
        {
         "legendgroup": "1",
         "line": {
          "color": "#808080"
         },
         "mode": "lines",
         "opacity": 0.1,
         "showlegend": false,
         "type": "scatter",
         "x": [
          "Federal-gov",
          "Local-gov",
          "Private",
          "Self-emp-inc",
          "Self-emp-not-in*",
          "State-gov",
          "Without-pay"
         ],
         "xaxis": "x2",
         "y": [
          0.04735733167452896,
          -0.02322334919713914,
          0.00462378088916255,
          0.02603913971710416,
          -0.05109805427359278,
          0.0010678247522960017,
          0.010025909586083712
         ],
         "yaxis": "y2"
        },
        {
         "legendgroup": "0",
         "line": {
          "color": "#808080"
         },
         "mode": "lines",
         "opacity": 0.1,
         "showlegend": false,
         "type": "scatter",
         "x": [
          "Federal-gov",
          "Local-gov",
          "Private",
          "Self-emp-inc",
          "Self-emp-not-in*",
          "State-gov",
          "Without-pay"
         ],
         "xaxis": "x2",
         "y": [
          -0.0564224951034704,
          0.02280124466759784,
          -0.0032786106571783095,
          -0.027045631984304163,
          0.04282967541433094,
          -0.00009665570236156926,
          -0.026358081386920144
         ],
         "yaxis": "y2"
        },
        {
         "legendgroup": "1",
         "line": {
          "color": "#808080"
         },
         "mode": "lines",
         "opacity": 0.1,
         "showlegend": false,
         "type": "scatter",
         "x": [
          "Federal-gov",
          "Local-gov",
          "Private",
          "Self-emp-inc",
          "Self-emp-not-in*",
          "State-gov",
          "Without-pay"
         ],
         "xaxis": "x2",
         "y": [
          0.0564224951034704,
          -0.022801244667597833,
          0.0032786106571783095,
          0.02704563198430417,
          -0.04282967541433094,
          0.00009665570236156926,
          0.026358081386920144
         ],
         "yaxis": "y2"
        },
        {
         "legendgroup": "0",
         "line": {
          "color": "#808080"
         },
         "mode": "lines",
         "opacity": 0.1,
         "showlegend": false,
         "type": "scatter",
         "x": [
          "Federal-gov",
          "Local-gov",
          "Private",
          "Self-emp-inc",
          "Self-emp-not-in*",
          "State-gov",
          "Without-pay"
         ],
         "xaxis": "x2",
         "y": [
          -0.06275090775951205,
          0.02597907662227543,
          -0.0018593086218638179,
          -0.027953263563924066,
          0.030038707181264238,
          0.0002720309468194973,
          -0.006606414628958487
         ],
         "yaxis": "y2"
        },
        {
         "legendgroup": "1",
         "line": {
          "color": "#808080"
         },
         "mode": "lines",
         "opacity": 0.1,
         "showlegend": false,
         "type": "scatter",
         "x": [
          "Federal-gov",
          "Local-gov",
          "Private",
          "Self-emp-inc",
          "Self-emp-not-in*",
          "State-gov",
          "Without-pay"
         ],
         "xaxis": "x2",
         "y": [
          0.06275090775951205,
          -0.02597907662227543,
          0.0018593086218638179,
          0.027953263563924073,
          -0.030038707181264238,
          -0.0002720309468194973,
          0.006606414628958491
         ],
         "yaxis": "y2"
        },
        {
         "legendgroup": "0",
         "line": {
          "color": "#808080"
         },
         "mode": "lines",
         "opacity": 0.1,
         "showlegend": false,
         "type": "scatter",
         "x": [
          "Federal-gov",
          "Local-gov",
          "Private",
          "Self-emp-inc",
          "Self-emp-not-in*",
          "State-gov",
          "Without-pay"
         ],
         "xaxis": "x2",
         "y": [
          -0.05567599960067733,
          0.02203231974507028,
          -0.004533352570213346,
          -0.023498053014401967,
          0.052573629390379434,
          0.00014045721565052877,
          -0.018767907974897118
         ],
         "yaxis": "y2"
        },
        {
         "legendgroup": "1",
         "line": {
          "color": "#808080"
         },
         "mode": "lines",
         "opacity": 0.1,
         "showlegend": false,
         "type": "scatter",
         "x": [
          "Federal-gov",
          "Local-gov",
          "Private",
          "Self-emp-inc",
          "Self-emp-not-in*",
          "State-gov",
          "Without-pay"
         ],
         "xaxis": "x2",
         "y": [
          0.05567599960067733,
          -0.02203231974507028,
          0.004533352570213346,
          0.023498053014401967,
          -0.052573629390379434,
          -0.00014045721565052877,
          0.018767907974897125
         ],
         "yaxis": "y2"
        },
        {
         "legendgroup": "0",
         "legendgrouptitle": {
          "text": "0"
         },
         "name": "Education",
         "type": "scatter",
         "x": [
          "10th",
          "11th",
          "12th",
          "1st-4th",
          "5th-6th",
          "7th-8th",
          "9th",
          "Assoc-acdm",
          "Assoc-voc",
          "Bachelors",
          "Doctorate",
          "HS-grad",
          "Masters",
          "Preschool",
          "Prof-school",
          "Some-college"
         ],
         "xaxis": "x3",
         "y": [
          0.10794367072848647,
          0.09353101747788434,
          0.07886646850366316,
          0.08187243706645879,
          0.1066992366066764,
          0.14152387273003114,
          0.11363492699861057,
          -0.006217670580640926,
          0.00342245701958792,
          -0.06245503419070497,
          -0.19519850186279214,
          0.01857609309488245,
          -0.10655882237638178,
          -0.0020340032270120822,
          -0.16613967060830437,
          0.012008676744073549
         ],
         "yaxis": "y3"
        },
        {
         "legendgroup": "1",
         "legendgrouptitle": {
          "text": "1"
         },
         "name": "Education",
         "type": "scatter",
         "x": [
          "10th",
          "11th",
          "12th",
          "1st-4th",
          "5th-6th",
          "7th-8th",
          "9th",
          "Assoc-acdm",
          "Assoc-voc",
          "Bachelors",
          "Doctorate",
          "HS-grad",
          "Masters",
          "Preschool",
          "Prof-school",
          "Some-college"
         ],
         "xaxis": "x3",
         "y": [
          -0.10794367072848646,
          -0.09353101747788434,
          -0.07886646850366316,
          -0.0818724370664588,
          -0.1066992366066764,
          -0.14152387273003114,
          -0.11363492699861055,
          0.006217670580640919,
          -0.003422457019587927,
          0.062455034190704965,
          0.19519850186279214,
          -0.018576093094882444,
          0.10655882237638178,
          0.0020340032270120753,
          0.16613967060830437,
          -0.012008676744073556
         ],
         "yaxis": "y3"
        },
        {
         "legendgroup": "0",
         "line": {
          "color": "#808080"
         },
         "mode": "lines",
         "opacity": 0.1,
         "showlegend": false,
         "type": "scatter",
         "x": [
          "10th",
          "11th",
          "12th",
          "1st-4th",
          "5th-6th",
          "7th-8th",
          "9th",
          "Assoc-acdm",
          "Assoc-voc",
          "Bachelors",
          "Doctorate",
          "HS-grad",
          "Masters",
          "Preschool",
          "Prof-school",
          "Some-college"
         ],
         "xaxis": "x3",
         "y": [
          0.10999956840968544,
          0.10219441715295205,
          0.08800420348716398,
          0.08261714110065377,
          0.09668653311518896,
          0.14236306792042466,
          0.133874508180263,
          -0.007319866473761795,
          -0.0001944409003327291,
          -0.06442415392713599,
          -0.21121967083491563,
          0.02237167600040927,
          -0.1076840768963079,
          -0.02978607492211146,
          -0.17101634615075342,
          0.007703803990475079
         ],
         "yaxis": "y3"
        },
        {
         "legendgroup": "1",
         "line": {
          "color": "#808080"
         },
         "mode": "lines",
         "opacity": 0.1,
         "showlegend": false,
         "type": "scatter",
         "x": [
          "10th",
          "11th",
          "12th",
          "1st-4th",
          "5th-6th",
          "7th-8th",
          "9th",
          "Assoc-acdm",
          "Assoc-voc",
          "Bachelors",
          "Doctorate",
          "HS-grad",
          "Masters",
          "Preschool",
          "Prof-school",
          "Some-college"
         ],
         "xaxis": "x3",
         "y": [
          -0.10999956840968546,
          -0.10219441715295206,
          -0.08800420348716398,
          -0.08261714110065374,
          -0.09668653311518895,
          -0.1423630679204247,
          -0.13387450818026303,
          0.007319866473761788,
          0.00019444090033272216,
          0.06442415392713599,
          0.2112196708349156,
          -0.022371676000409277,
          0.1076840768963079,
          0.02978607492211148,
          0.1710163461507534,
          -0.007703803990475086
         ],
         "yaxis": "y3"
        },
        {
         "legendgroup": "0",
         "line": {
          "color": "#808080"
         },
         "mode": "lines",
         "opacity": 0.1,
         "showlegend": false,
         "type": "scatter",
         "x": [
          "10th",
          "11th",
          "12th",
          "1st-4th",
          "5th-6th",
          "7th-8th",
          "9th",
          "Assoc-acdm",
          "Assoc-voc",
          "Bachelors",
          "Doctorate",
          "HS-grad",
          "Masters",
          "Preschool",
          "Prof-school",
          "Some-college"
         ],
         "xaxis": "x3",
         "y": [
          0.10330134707851187,
          0.099771121173621,
          0.0837263680144096,
          0.115812643387844,
          0.12364321983875465,
          0.1444714712134697,
          0.1047825347088488,
          -0.004767022577338825,
          0.001605996101189916,
          -0.05805513485756653,
          -0.18592178812139304,
          0.016858910491236778,
          -0.10451438872896615,
          0.04499806178892516,
          -0.162614618849597,
          0.008440438171946653
         ],
         "yaxis": "y3"
        },
        {
         "legendgroup": "1",
         "line": {
          "color": "#808080"
         },
         "mode": "lines",
         "opacity": 0.1,
         "showlegend": false,
         "type": "scatter",
         "x": [
          "10th",
          "11th",
          "12th",
          "1st-4th",
          "5th-6th",
          "7th-8th",
          "9th",
          "Assoc-acdm",
          "Assoc-voc",
          "Bachelors",
          "Doctorate",
          "HS-grad",
          "Masters",
          "Preschool",
          "Prof-school",
          "Some-college"
         ],
         "xaxis": "x3",
         "y": [
          -0.10330134707851188,
          -0.09977112117362102,
          -0.08372636801440961,
          -0.115812643387844,
          -0.12364321983875468,
          -0.1444714712134697,
          -0.10478253470884882,
          0.004767022577338825,
          -0.001605996101189916,
          0.05805513485756653,
          0.185921788121393,
          -0.016858910491236785,
          0.10451438872896612,
          -0.044998061788925174,
          0.16261461884959696,
          -0.008440438171946653
         ],
         "yaxis": "y3"
        },
        {
         "legendgroup": "0",
         "line": {
          "color": "#808080"
         },
         "mode": "lines",
         "opacity": 0.1,
         "showlegend": false,
         "type": "scatter",
         "x": [
          "10th",
          "11th",
          "12th",
          "1st-4th",
          "5th-6th",
          "7th-8th",
          "9th",
          "Assoc-acdm",
          "Assoc-voc",
          "Bachelors",
          "Doctorate",
          "HS-grad",
          "Masters",
          "Preschool",
          "Prof-school",
          "Some-college"
         ],
         "xaxis": "x3",
         "y": [
          0.10420106328277377,
          0.10131230828842286,
          0.07918085216185014,
          0.11244944914989202,
          0.11290254969701864,
          0.13789938754865522,
          0.10897977122777147,
          -0.007380721597397192,
          0.0014407934697221723,
          -0.05818437530208759,
          -0.1964421331871623,
          0.01679458664186198,
          -0.10131131310853365,
          -0.00038964224904387704,
          -0.15325148814438322,
          0.009015736339840362
         ],
         "yaxis": "y3"
        },
        {
         "legendgroup": "1",
         "line": {
          "color": "#808080"
         },
         "mode": "lines",
         "opacity": 0.1,
         "showlegend": false,
         "type": "scatter",
         "x": [
          "10th",
          "11th",
          "12th",
          "1st-4th",
          "5th-6th",
          "7th-8th",
          "9th",
          "Assoc-acdm",
          "Assoc-voc",
          "Bachelors",
          "Doctorate",
          "HS-grad",
          "Masters",
          "Preschool",
          "Prof-school",
          "Some-college"
         ],
         "xaxis": "x3",
         "y": [
          -0.10420106328277377,
          -0.10131230828842287,
          -0.07918085216185014,
          -0.11244944914989202,
          -0.11290254969701864,
          -0.13789938754865522,
          -0.10897977122777146,
          0.007380721597397194,
          -0.0014407934697221723,
          0.05818437530208759,
          0.1964421331871623,
          -0.01679458664186198,
          0.10131131310853365,
          0.00038964224904387704,
          0.15325148814438322,
          -0.009015736339840362
         ],
         "yaxis": "y3"
        },
        {
         "legendgroup": "0",
         "line": {
          "color": "#808080"
         },
         "mode": "lines",
         "opacity": 0.1,
         "showlegend": false,
         "type": "scatter",
         "x": [
          "10th",
          "11th",
          "12th",
          "1st-4th",
          "5th-6th",
          "7th-8th",
          "9th",
          "Assoc-acdm",
          "Assoc-voc",
          "Bachelors",
          "Doctorate",
          "HS-grad",
          "Masters",
          "Preschool",
          "Prof-school",
          "Some-college"
         ],
         "xaxis": "x3",
         "y": [
          0.10964551291808436,
          0.09725741867085858,
          0.08065556108600674,
          0.07410535466618917,
          0.11231741163679732,
          0.145027189727654,
          0.1237607883706957,
          -0.01442590294352679,
          -0.00023706900826511723,
          -0.06964144923177498,
          -0.1757797179816376,
          0.02429703897597254,
          -0.11124948681443328,
          -0.0229837755231928,
          -0.1630259809067218,
          0.009435734676609749
         ],
         "yaxis": "y3"
        },
        {
         "legendgroup": "1",
         "line": {
          "color": "#808080"
         },
         "mode": "lines",
         "opacity": 0.1,
         "showlegend": false,
         "type": "scatter",
         "x": [
          "10th",
          "11th",
          "12th",
          "1st-4th",
          "5th-6th",
          "7th-8th",
          "9th",
          "Assoc-acdm",
          "Assoc-voc",
          "Bachelors",
          "Doctorate",
          "HS-grad",
          "Masters",
          "Preschool",
          "Prof-school",
          "Some-college"
         ],
         "xaxis": "x3",
         "y": [
          -0.10964551291808436,
          -0.09725741867085855,
          -0.08065556108600674,
          -0.07410535466618914,
          -0.11231741163679729,
          -0.14502718972765402,
          -0.1237607883706957,
          0.014425902943526777,
          0.00023706900826510335,
          0.06964144923177498,
          0.17577971798163758,
          -0.024297038975972525,
          0.11124948681443328,
          0.02298377552319284,
          0.16302598090672177,
          -0.009435734676609762
         ],
         "yaxis": "y3"
        },
        {
         "legendgroup": "0",
         "line": {
          "color": "#808080"
         },
         "mode": "lines",
         "opacity": 0.1,
         "showlegend": false,
         "type": "scatter",
         "x": [
          "10th",
          "11th",
          "12th",
          "1st-4th",
          "5th-6th",
          "7th-8th",
          "9th",
          "Assoc-acdm",
          "Assoc-voc",
          "Bachelors",
          "Doctorate",
          "HS-grad",
          "Masters",
          "Preschool",
          "Prof-school",
          "Some-college"
         ],
         "xaxis": "x3",
         "y": [
          0.11463132034176354,
          0.06994762554078673,
          0.0607749821620163,
          0.03523705125772151,
          0.0906387575304626,
          0.14335246166778856,
          0.10993352742834839,
          -0.014803500632218783,
          0.0026215499591834297,
          -0.06525650241739323,
          -0.21521261308065734,
          0.028282294077723584,
          -0.10977360698180635,
          -0.012294014468109215,
          -0.20288478932869838,
          0.01231458647691302
         ],
         "yaxis": "y3"
        },
        {
         "legendgroup": "1",
         "line": {
          "color": "#808080"
         },
         "mode": "lines",
         "opacity": 0.1,
         "showlegend": false,
         "type": "scatter",
         "x": [
          "10th",
          "11th",
          "12th",
          "1st-4th",
          "5th-6th",
          "7th-8th",
          "9th",
          "Assoc-acdm",
          "Assoc-voc",
          "Bachelors",
          "Doctorate",
          "HS-grad",
          "Masters",
          "Preschool",
          "Prof-school",
          "Some-college"
         ],
         "xaxis": "x3",
         "y": [
          -0.11463132034176354,
          -0.06994762554078673,
          -0.0607749821620163,
          -0.03523705125772151,
          -0.0906387575304626,
          -0.14335246166778856,
          -0.10993352742834839,
          0.014803500632218785,
          -0.0026215499591834314,
          0.06525650241739323,
          0.21521261308065734,
          -0.028282294077723584,
          0.10977360698180635,
          0.012294014468109215,
          0.20288478932869838,
          -0.01231458647691302
         ],
         "yaxis": "y3"
        },
        {
         "legendgroup": "0",
         "line": {
          "color": "#808080"
         },
         "mode": "lines",
         "opacity": 0.1,
         "showlegend": false,
         "type": "scatter",
         "x": [
          "10th",
          "11th",
          "12th",
          "1st-4th",
          "5th-6th",
          "7th-8th",
          "9th",
          "Assoc-acdm",
          "Assoc-voc",
          "Bachelors",
          "Doctorate",
          "HS-grad",
          "Masters",
          "Preschool",
          "Prof-school",
          "Some-college"
         ],
         "xaxis": "x3",
         "y": [
          0.10513365547547232,
          0.1064156336972809,
          0.0999095882654063,
          0.14091935004853956,
          0.13307317733023866,
          0.13798763138173298,
          0.10906504286253679,
          -0.007367716616055328,
          -0.002428738537356527,
          -0.06268435716603533,
          -0.19342464866218795,
          0.019660100654152877,
          -0.10088354199091783,
          0.05908175129107414,
          -0.14903814723166675,
          0.004624317368307887
         ],
         "yaxis": "y3"
        },
        {
         "legendgroup": "1",
         "line": {
          "color": "#808080"
         },
         "mode": "lines",
         "opacity": 0.1,
         "showlegend": false,
         "type": "scatter",
         "x": [
          "10th",
          "11th",
          "12th",
          "1st-4th",
          "5th-6th",
          "7th-8th",
          "9th",
          "Assoc-acdm",
          "Assoc-voc",
          "Bachelors",
          "Doctorate",
          "HS-grad",
          "Masters",
          "Preschool",
          "Prof-school",
          "Some-college"
         ],
         "xaxis": "x3",
         "y": [
          -0.10513365547547236,
          -0.10641563369728092,
          -0.09990958826540633,
          -0.1409193500485396,
          -0.13307317733023868,
          -0.13798763138173298,
          -0.10906504286253683,
          0.007367716616055314,
          0.00242873853735652,
          0.06268435716603533,
          0.19342464866218795,
          -0.019660100654152912,
          0.10088354199091783,
          -0.05908175129107417,
          0.1490381472316668,
          -0.004624317368307887
         ],
         "yaxis": "y3"
        },
        {
         "legendgroup": "0",
         "line": {
          "color": "#808080"
         },
         "mode": "lines",
         "opacity": 0.1,
         "showlegend": false,
         "type": "scatter",
         "x": [
          "10th",
          "11th",
          "12th",
          "1st-4th",
          "5th-6th",
          "7th-8th",
          "9th",
          "Assoc-acdm",
          "Assoc-voc",
          "Bachelors",
          "Doctorate",
          "HS-grad",
          "Masters",
          "Preschool",
          "Prof-school",
          "Some-college"
         ],
         "xaxis": "x3",
         "y": [
          0.11290796552343538,
          0.10387106522233988,
          0.08295492941393566,
          0.10027611107553464,
          0.10091350628953555,
          0.142197195781061,
          0.13044574977383053,
          -0.01227795668693673,
          -0.0008865964498423612,
          -0.06868992286713618,
          -0.19366364452350537,
          0.023903648648952565,
          -0.11275308014458924,
          0.0519502193872381,
          -0.169621090677967,
          0.008683505096956722
         ],
         "yaxis": "y3"
        },
        {
         "legendgroup": "1",
         "line": {
          "color": "#808080"
         },
         "mode": "lines",
         "opacity": 0.1,
         "showlegend": false,
         "type": "scatter",
         "x": [
          "10th",
          "11th",
          "12th",
          "1st-4th",
          "5th-6th",
          "7th-8th",
          "9th",
          "Assoc-acdm",
          "Assoc-voc",
          "Bachelors",
          "Doctorate",
          "HS-grad",
          "Masters",
          "Preschool",
          "Prof-school",
          "Some-college"
         ],
         "xaxis": "x3",
         "y": [
          -0.11290796552343538,
          -0.10387106522233991,
          -0.08295492941393569,
          -0.10027611107553466,
          -0.10091350628953558,
          -0.142197195781061,
          -0.13044574977383055,
          0.01227795668693673,
          0.0008865964498423751,
          0.06868992286713618,
          0.19366364452350537,
          -0.023903648648952572,
          0.11275308014458924,
          -0.0519502193872381,
          0.169621090677967,
          -0.008683505096956708
         ],
         "yaxis": "y3"
        },
        {
         "legendgroup": "0",
         "line": {
          "color": "#808080"
         },
         "mode": "lines",
         "opacity": 0.1,
         "showlegend": false,
         "type": "scatter",
         "x": [
          "10th",
          "11th",
          "12th",
          "1st-4th",
          "5th-6th",
          "7th-8th",
          "9th",
          "Assoc-acdm",
          "Assoc-voc",
          "Bachelors",
          "Doctorate",
          "HS-grad",
          "Masters",
          "Preschool",
          "Prof-school",
          "Some-college"
         ],
         "xaxis": "x3",
         "y": [
          0.1046444968509295,
          0.0820838293393224,
          0.06559589681914617,
          0.09002205368562947,
          0.12299071932810093,
          0.13311862964765883,
          0.12334755870361541,
          -0.0030064985336831045,
          0.006823955773411427,
          -0.054399803577054,
          -0.19350936664879678,
          0.013446624307868055,
          -0.09819993233208658,
          0.007387107745707139,
          -0.18627448081033662,
          0.014171502107541326
         ],
         "yaxis": "y3"
        },
        {
         "legendgroup": "1",
         "line": {
          "color": "#808080"
         },
         "mode": "lines",
         "opacity": 0.1,
         "showlegend": false,
         "type": "scatter",
         "x": [
          "10th",
          "11th",
          "12th",
          "1st-4th",
          "5th-6th",
          "7th-8th",
          "9th",
          "Assoc-acdm",
          "Assoc-voc",
          "Bachelors",
          "Doctorate",
          "HS-grad",
          "Masters",
          "Preschool",
          "Prof-school",
          "Some-college"
         ],
         "xaxis": "x3",
         "y": [
          -0.1046444968509295,
          -0.0820838293393224,
          -0.06559589681914617,
          -0.09002205368562946,
          -0.12299071932810093,
          -0.13311862964765883,
          -0.12334755870361541,
          0.0030064985336831045,
          -0.006823955773411425,
          0.05439980357705399,
          0.19350936664879675,
          -0.013446624307868053,
          0.09819993233208657,
          -0.007387107745707137,
          0.1862744808103366,
          -0.014171502107541324
         ],
         "yaxis": "y3"
        },
        {
         "legendgroup": "0",
         "line": {
          "color": "#808080"
         },
         "mode": "lines",
         "opacity": 0.1,
         "showlegend": false,
         "type": "scatter",
         "x": [
          "10th",
          "11th",
          "12th",
          "1st-4th",
          "5th-6th",
          "7th-8th",
          "9th",
          "Assoc-acdm",
          "Assoc-voc",
          "Bachelors",
          "Doctorate",
          "HS-grad",
          "Masters",
          "Preschool",
          "Prof-school",
          "Some-college"
         ],
         "xaxis": "x3",
         "y": [
          0.10707233925717383,
          0.10339157170194674,
          0.08608603336990214,
          0.12239481383832494,
          0.13453574385274658,
          0.13868317373300276,
          0.11590449083694006,
          -0.004804626404637705,
          0.0033722459209793304,
          -0.06539375702838761,
          -0.20351632154512,
          0.018717502554940424,
          -0.11033190096162475,
          0.04499863493936197,
          -0.15936647408341081,
          0.01101092567599958
         ],
         "yaxis": "y3"
        },
        {
         "legendgroup": "1",
         "line": {
          "color": "#808080"
         },
         "mode": "lines",
         "opacity": 0.1,
         "showlegend": false,
         "type": "scatter",
         "x": [
          "10th",
          "11th",
          "12th",
          "1st-4th",
          "5th-6th",
          "7th-8th",
          "9th",
          "Assoc-acdm",
          "Assoc-voc",
          "Bachelors",
          "Doctorate",
          "HS-grad",
          "Masters",
          "Preschool",
          "Prof-school",
          "Some-college"
         ],
         "xaxis": "x3",
         "y": [
          -0.10707233925717381,
          -0.10339157170194675,
          -0.08608603336990214,
          -0.12239481383832496,
          -0.13453574385274658,
          -0.13868317373300276,
          -0.11590449083694004,
          0.004804626404637712,
          -0.0033722459209793304,
          0.06539375702838761,
          0.20351632154512,
          -0.018717502554940424,
          0.11033190096162475,
          -0.04499863493936197,
          0.15936647408341081,
          -0.01101092567599958
         ],
         "yaxis": "y3"
        },
        {
         "legendgroup": "0",
         "line": {
          "color": "#808080"
         },
         "mode": "lines",
         "opacity": 0.1,
         "showlegend": false,
         "type": "scatter",
         "x": [
          "10th",
          "11th",
          "12th",
          "1st-4th",
          "5th-6th",
          "7th-8th",
          "9th",
          "Assoc-acdm",
          "Assoc-voc",
          "Bachelors",
          "Doctorate",
          "HS-grad",
          "Masters",
          "Preschool",
          "Prof-school",
          "Some-college"
         ],
         "xaxis": "x3",
         "y": [
          0.11462791928326183,
          0.0718583603904281,
          0.0708960766509258,
          0.09552362551549853,
          0.11653202063119632,
          0.15159487118606577,
          0.10865017763368759,
          -0.001181971432932704,
          0.006375516533688636,
          -0.06031193577146238,
          -0.1912586333526715,
          0.0170414693134384,
          -0.10142369411474161,
          0.026035758916718745,
          -0.18672682557312648,
          0.013516703382904473
         ],
         "yaxis": "y3"
        },
        {
         "legendgroup": "1",
         "line": {
          "color": "#808080"
         },
         "mode": "lines",
         "opacity": 0.1,
         "showlegend": false,
         "type": "scatter",
         "x": [
          "10th",
          "11th",
          "12th",
          "1st-4th",
          "5th-6th",
          "7th-8th",
          "9th",
          "Assoc-acdm",
          "Assoc-voc",
          "Bachelors",
          "Doctorate",
          "HS-grad",
          "Masters",
          "Preschool",
          "Prof-school",
          "Some-college"
         ],
         "xaxis": "x3",
         "y": [
          -0.11462791928326183,
          -0.07185836039042812,
          -0.0708960766509258,
          -0.09552362551549853,
          -0.11653202063119632,
          -0.15159487118606577,
          -0.10865017763368759,
          0.0011819714329327075,
          -0.006375516533688636,
          0.06031193577146239,
          0.1912586333526715,
          -0.0170414693134384,
          0.10142369411474161,
          -0.026035758916718745,
          0.18672682557312648,
          -0.013516703382904473
         ],
         "yaxis": "y3"
        },
        {
         "legendgroup": "0",
         "legendgrouptitle": {
          "text": "0"
         },
         "name": "Occupation",
         "type": "scatter",
         "x": [
          "Adm-clerical",
          "Armed-Forces",
          "Craft-repair",
          "Exec-managerial",
          "Farming-fishing",
          "Handlers-cleane*",
          "Machine-op-insp*",
          "Other-service",
          "Priv-house-serv",
          "Prof-specialty",
          "Protective-serv",
          "Sales",
          "Tech-support",
          "Transport-movin*"
         ],
         "xaxis": "x4",
         "y": [
          0.025215635004188885,
          0.056718321217502865,
          0.024068504822185796,
          -0.0849983359390015,
          0.13741677945104896,
          0.06978555702291343,
          0.07022498382209999,
          0.06540592922776867,
          0.06031834601336708,
          -0.07597365213699955,
          -0.02460897589633193,
          -0.02836545535908845,
          -0.06313086826017716,
          0.02049491118821739
         ],
         "yaxis": "y4"
        },
        {
         "legendgroup": "1",
         "legendgrouptitle": {
          "text": "1"
         },
         "name": "Occupation",
         "type": "scatter",
         "x": [
          "Adm-clerical",
          "Armed-Forces",
          "Craft-repair",
          "Exec-managerial",
          "Farming-fishing",
          "Handlers-cleane*",
          "Machine-op-insp*",
          "Other-service",
          "Priv-house-serv",
          "Prof-specialty",
          "Protective-serv",
          "Sales",
          "Tech-support",
          "Transport-movin*"
         ],
         "xaxis": "x4",
         "y": [
          -0.025215635004188885,
          -0.056718321217502865,
          -0.024068504822185796,
          0.0849983359390015,
          -0.13741677945104896,
          -0.06978555702291343,
          -0.07022498382209999,
          -0.06540592922776867,
          -0.06031834601336708,
          0.07597365213699955,
          0.02460897589633193,
          0.02836545535908845,
          0.06313086826017716,
          -0.020494911188217384
         ],
         "yaxis": "y4"
        },
        {
         "legendgroup": "0",
         "line": {
          "color": "#808080"
         },
         "mode": "lines",
         "opacity": 0.1,
         "showlegend": false,
         "type": "scatter",
         "x": [
          "Adm-clerical",
          "Armed-Forces",
          "Craft-repair",
          "Exec-managerial",
          "Farming-fishing",
          "Handlers-cleane*",
          "Machine-op-insp*",
          "Other-service",
          "Priv-house-serv",
          "Prof-specialty",
          "Protective-serv",
          "Sales",
          "Tech-support",
          "Transport-movin*"
         ],
         "xaxis": "x4",
         "y": [
          0.0203460527207434,
          0.0739995020310984,
          0.0240416892486588,
          -0.08506056227201794,
          0.14452729417926333,
          0.08067657425223415,
          0.06734898592766969,
          0.058977972871193184,
          0.05700027267099934,
          -0.07425261227548174,
          -0.020484332180925095,
          -0.022991019953302903,
          -0.06571926114188875,
          0.019934983293304183
         ],
         "yaxis": "y4"
        },
        {
         "legendgroup": "1",
         "line": {
          "color": "#808080"
         },
         "mode": "lines",
         "opacity": 0.1,
         "showlegend": false,
         "type": "scatter",
         "x": [
          "Adm-clerical",
          "Armed-Forces",
          "Craft-repair",
          "Exec-managerial",
          "Farming-fishing",
          "Handlers-cleane*",
          "Machine-op-insp*",
          "Other-service",
          "Priv-house-serv",
          "Prof-specialty",
          "Protective-serv",
          "Sales",
          "Tech-support",
          "Transport-movin*"
         ],
         "xaxis": "x4",
         "y": [
          -0.020346052720743427,
          -0.07399950203109838,
          -0.024041689248658793,
          0.08506056227201794,
          -0.14452729417926333,
          -0.08067657425223415,
          -0.0673489859276697,
          -0.058977972871193204,
          -0.05700027267099936,
          0.07425261227548174,
          0.020484332180925102,
          0.02299101995330291,
          0.06571926114188874,
          -0.01993498329330417
         ],
         "yaxis": "y4"
        },
        {
         "legendgroup": "0",
         "line": {
          "color": "#808080"
         },
         "mode": "lines",
         "opacity": 0.1,
         "showlegend": false,
         "type": "scatter",
         "x": [
          "Adm-clerical",
          "Armed-Forces",
          "Craft-repair",
          "Exec-managerial",
          "Farming-fishing",
          "Handlers-cleane*",
          "Machine-op-insp*",
          "Other-service",
          "Priv-house-serv",
          "Prof-specialty",
          "Protective-serv",
          "Sales",
          "Tech-support",
          "Transport-movin*"
         ],
         "xaxis": "x4",
         "y": [
          0.021724698709219545,
          0.051631086016246365,
          0.02842555003268129,
          -0.08566613454792438,
          0.13889906518154624,
          0.0841188631615899,
          0.0678964622780878,
          0.061980114058000337,
          0.05904247768112667,
          -0.0721192414429511,
          -0.019673925042814448,
          -0.03189437539169584,
          -0.061870372616894424,
          0.013237047004489785
         ],
         "yaxis": "y4"
        },
        {
         "legendgroup": "1",
         "line": {
          "color": "#808080"
         },
         "mode": "lines",
         "opacity": 0.1,
         "showlegend": false,
         "type": "scatter",
         "x": [
          "Adm-clerical",
          "Armed-Forces",
          "Craft-repair",
          "Exec-managerial",
          "Farming-fishing",
          "Handlers-cleane*",
          "Machine-op-insp*",
          "Other-service",
          "Priv-house-serv",
          "Prof-specialty",
          "Protective-serv",
          "Sales",
          "Tech-support",
          "Transport-movin*"
         ],
         "xaxis": "x4",
         "y": [
          -0.02172469870921956,
          -0.05163108601624639,
          -0.028425550032681303,
          0.08566613454792435,
          -0.1388990651815463,
          -0.0841188631615899,
          -0.06789646227808782,
          -0.06198011405800035,
          -0.059042477681126686,
          0.07211924144295107,
          0.019673925042814407,
          0.031894375391695824,
          0.06187037261689441,
          -0.013237047004489792
         ],
         "yaxis": "y4"
        },
        {
         "legendgroup": "0",
         "line": {
          "color": "#808080"
         },
         "mode": "lines",
         "opacity": 0.1,
         "showlegend": false,
         "type": "scatter",
         "x": [
          "Adm-clerical",
          "Armed-Forces",
          "Craft-repair",
          "Exec-managerial",
          "Farming-fishing",
          "Handlers-cleane*",
          "Machine-op-insp*",
          "Other-service",
          "Priv-house-serv",
          "Prof-specialty",
          "Protective-serv",
          "Sales",
          "Tech-support",
          "Transport-movin*"
         ],
         "xaxis": "x4",
         "y": [
          0.025695510532573615,
          0.056263098618954344,
          0.02664406745734417,
          -0.09112363163104682,
          0.14119008562778235,
          0.07230137718284398,
          0.07237189061338273,
          0.06965217854170967,
          0.06583016947395416,
          -0.07577089856338008,
          -0.014053044735899314,
          -0.03398497738401553,
          -0.059732375698373655,
          0.019492414931245323
         ],
         "yaxis": "y4"
        },
        {
         "legendgroup": "1",
         "line": {
          "color": "#808080"
         },
         "mode": "lines",
         "opacity": 0.1,
         "showlegend": false,
         "type": "scatter",
         "x": [
          "Adm-clerical",
          "Armed-Forces",
          "Craft-repair",
          "Exec-managerial",
          "Farming-fishing",
          "Handlers-cleane*",
          "Machine-op-insp*",
          "Other-service",
          "Priv-house-serv",
          "Prof-specialty",
          "Protective-serv",
          "Sales",
          "Tech-support",
          "Transport-movin*"
         ],
         "xaxis": "x4",
         "y": [
          -0.025695510532573615,
          -0.05626309861895433,
          -0.02664406745734417,
          0.09112363163104682,
          -0.14119008562778235,
          -0.07230137718284398,
          -0.07237189061338273,
          -0.06965217854170967,
          -0.06583016947395416,
          0.07577089856338008,
          0.014053044735899314,
          0.03398497738401553,
          0.059732375698373655,
          -0.019492414931245323
         ],
         "yaxis": "y4"
        },
        {
         "legendgroup": "0",
         "line": {
          "color": "#808080"
         },
         "mode": "lines",
         "opacity": 0.1,
         "showlegend": false,
         "type": "scatter",
         "x": [
          "Adm-clerical",
          "Armed-Forces",
          "Craft-repair",
          "Exec-managerial",
          "Farming-fishing",
          "Handlers-cleane*",
          "Machine-op-insp*",
          "Other-service",
          "Priv-house-serv",
          "Prof-specialty",
          "Protective-serv",
          "Sales",
          "Tech-support",
          "Transport-movin*"
         ],
         "xaxis": "x4",
         "y": [
          0.027509481804467717,
          0.058725518877756594,
          0.022362046818560494,
          -0.08104333482119663,
          0.12083654360909973,
          0.06518376070612515,
          0.07238587756282311,
          0.0673648022173274,
          0.06616541221697009,
          -0.07004934199901858,
          -0.035051686453841435,
          -0.03076180936277953,
          -0.0760160048594975,
          0.019959548386334194
         ],
         "yaxis": "y4"
        },
        {
         "legendgroup": "1",
         "line": {
          "color": "#808080"
         },
         "mode": "lines",
         "opacity": 0.1,
         "showlegend": false,
         "type": "scatter",
         "x": [
          "Adm-clerical",
          "Armed-Forces",
          "Craft-repair",
          "Exec-managerial",
          "Farming-fishing",
          "Handlers-cleane*",
          "Machine-op-insp*",
          "Other-service",
          "Priv-house-serv",
          "Prof-specialty",
          "Protective-serv",
          "Sales",
          "Tech-support",
          "Transport-movin*"
         ],
         "xaxis": "x4",
         "y": [
          -0.02750948180446773,
          -0.058725518877756594,
          -0.022362046818560494,
          0.08104333482119663,
          -0.12083654360909973,
          -0.06518376070612515,
          -0.07238587756282312,
          -0.0673648022173274,
          -0.06616541221697009,
          0.07004934199901858,
          0.035051686453841435,
          0.03076180936277953,
          0.0760160048594975,
          -0.019959548386334187
         ],
         "yaxis": "y4"
        },
        {
         "legendgroup": "0",
         "line": {
          "color": "#808080"
         },
         "mode": "lines",
         "opacity": 0.1,
         "showlegend": false,
         "type": "scatter",
         "x": [
          "Adm-clerical",
          "Armed-Forces",
          "Craft-repair",
          "Exec-managerial",
          "Farming-fishing",
          "Handlers-cleane*",
          "Machine-op-insp*",
          "Other-service",
          "Priv-house-serv",
          "Prof-specialty",
          "Protective-serv",
          "Sales",
          "Tech-support",
          "Transport-movin*"
         ],
         "xaxis": "x4",
         "y": [
          0.02763803240622372,
          0.06039240543363909,
          0.02801237255946487,
          -0.08543355559750455,
          0.13880715014337255,
          0.06227646324035295,
          0.0772236299381176,
          0.06610403770289426,
          0.062209443001768464,
          -0.07799816316493564,
          -0.03490422907728702,
          -0.029643865960783236,
          -0.07031261632430062,
          0.018497563638033537
         ],
         "yaxis": "y4"
        },
        {
         "legendgroup": "1",
         "line": {
          "color": "#808080"
         },
         "mode": "lines",
         "opacity": 0.1,
         "showlegend": false,
         "type": "scatter",
         "x": [
          "Adm-clerical",
          "Armed-Forces",
          "Craft-repair",
          "Exec-managerial",
          "Farming-fishing",
          "Handlers-cleane*",
          "Machine-op-insp*",
          "Other-service",
          "Priv-house-serv",
          "Prof-specialty",
          "Protective-serv",
          "Sales",
          "Tech-support",
          "Transport-movin*"
         ],
         "xaxis": "x4",
         "y": [
          -0.02763803240622372,
          -0.06039240543363911,
          -0.0280123725594649,
          0.08543355559750453,
          -0.13880715014337258,
          -0.062276463240352964,
          -0.0772236299381176,
          -0.06610403770289426,
          -0.062209443001768464,
          0.07799816316493562,
          0.034904229077287005,
          0.029643865960783222,
          0.07031261632430062,
          -0.018497563638033558
         ],
         "yaxis": "y4"
        },
        {
         "legendgroup": "0",
         "line": {
          "color": "#808080"
         },
         "mode": "lines",
         "opacity": 0.1,
         "showlegend": false,
         "type": "scatter",
         "x": [
          "Adm-clerical",
          "Armed-Forces",
          "Craft-repair",
          "Exec-managerial",
          "Farming-fishing",
          "Handlers-cleane*",
          "Machine-op-insp*",
          "Other-service",
          "Priv-house-serv",
          "Prof-specialty",
          "Protective-serv",
          "Sales",
          "Tech-support",
          "Transport-movin*"
         ],
         "xaxis": "x4",
         "y": [
          0.030742934625508908,
          0.029508084010501326,
          0.02034613419096734,
          -0.0886788052353317,
          0.1197630434720613,
          0.07235221461067168,
          0.07313033027487857,
          0.06626310434417519,
          0.06281717158155584,
          -0.08080396995929498,
          -0.010435234719026978,
          -0.01893457756212638,
          -0.05725697969068182,
          0.01322435301505552
         ],
         "yaxis": "y4"
        },
        {
         "legendgroup": "1",
         "line": {
          "color": "#808080"
         },
         "mode": "lines",
         "opacity": 0.1,
         "showlegend": false,
         "type": "scatter",
         "x": [
          "Adm-clerical",
          "Armed-Forces",
          "Craft-repair",
          "Exec-managerial",
          "Farming-fishing",
          "Handlers-cleane*",
          "Machine-op-insp*",
          "Other-service",
          "Priv-house-serv",
          "Prof-specialty",
          "Protective-serv",
          "Sales",
          "Tech-support",
          "Transport-movin*"
         ],
         "xaxis": "x4",
         "y": [
          -0.030742934625508908,
          -0.029508084010501368,
          -0.020346134190967355,
          0.0886788052353317,
          -0.11976304347206135,
          -0.07235221461067168,
          -0.07313033027487857,
          -0.06626310434417519,
          -0.06281717158155584,
          0.08080396995929498,
          0.010435234719026937,
          0.01893457756212638,
          0.05725697969068182,
          -0.013224353015055527
         ],
         "yaxis": "y4"
        },
        {
         "legendgroup": "0",
         "line": {
          "color": "#808080"
         },
         "mode": "lines",
         "opacity": 0.1,
         "showlegend": false,
         "type": "scatter",
         "x": [
          "Adm-clerical",
          "Armed-Forces",
          "Craft-repair",
          "Exec-managerial",
          "Farming-fishing",
          "Handlers-cleane*",
          "Machine-op-insp*",
          "Other-service",
          "Priv-house-serv",
          "Prof-specialty",
          "Protective-serv",
          "Sales",
          "Tech-support",
          "Transport-movin*"
         ],
         "xaxis": "x4",
         "y": [
          0.0367494917537586,
          0.03827212874430269,
          0.01667169933424656,
          -0.09853003265524603,
          0.12248534515884231,
          0.08310858237843559,
          0.08294318168243828,
          0.08179940191866039,
          0.0748620905558695,
          -0.08343904167611217,
          -0.03527771968401881,
          -0.024646410156901735,
          -0.06435338839318665,
          0.010816604805821015
         ],
         "yaxis": "y4"
        },
        {
         "legendgroup": "1",
         "line": {
          "color": "#808080"
         },
         "mode": "lines",
         "opacity": 0.1,
         "showlegend": false,
         "type": "scatter",
         "x": [
          "Adm-clerical",
          "Armed-Forces",
          "Craft-repair",
          "Exec-managerial",
          "Farming-fishing",
          "Handlers-cleane*",
          "Machine-op-insp*",
          "Other-service",
          "Priv-house-serv",
          "Prof-specialty",
          "Protective-serv",
          "Sales",
          "Tech-support",
          "Transport-movin*"
         ],
         "xaxis": "x4",
         "y": [
          -0.03674949175375861,
          -0.03827212874430268,
          -0.016671699334246545,
          0.09853003265524604,
          -0.1224853451588423,
          -0.08310858237843557,
          -0.08294318168243828,
          -0.0817994019186604,
          -0.07486209055586951,
          0.08343904167611219,
          0.03527771968401883,
          0.02464641015690175,
          0.06435338839318666,
          -0.010816604805821
         ],
         "yaxis": "y4"
        },
        {
         "legendgroup": "0",
         "line": {
          "color": "#808080"
         },
         "mode": "lines",
         "opacity": 0.1,
         "showlegend": false,
         "type": "scatter",
         "x": [
          "Adm-clerical",
          "Armed-Forces",
          "Craft-repair",
          "Exec-managerial",
          "Farming-fishing",
          "Handlers-cleane*",
          "Machine-op-insp*",
          "Other-service",
          "Priv-house-serv",
          "Prof-specialty",
          "Protective-serv",
          "Sales",
          "Tech-support",
          "Transport-movin*"
         ],
         "xaxis": "x4",
         "y": [
          0.03611248987324723,
          0.06339576058391874,
          0.014494359568522353,
          -0.09534462324506221,
          0.13452854640399114,
          0.06944104270708702,
          0.07923716783259274,
          0.06995778007121031,
          0.06463623973580424,
          -0.07806620442000572,
          -0.03414060434018448,
          -0.020728286071754004,
          -0.04970145469486284,
          0.011989942468649047
         ],
         "yaxis": "y4"
        },
        {
         "legendgroup": "1",
         "line": {
          "color": "#808080"
         },
         "mode": "lines",
         "opacity": 0.1,
         "showlegend": false,
         "type": "scatter",
         "x": [
          "Adm-clerical",
          "Armed-Forces",
          "Craft-repair",
          "Exec-managerial",
          "Farming-fishing",
          "Handlers-cleane*",
          "Machine-op-insp*",
          "Other-service",
          "Priv-house-serv",
          "Prof-specialty",
          "Protective-serv",
          "Sales",
          "Tech-support",
          "Transport-movin*"
         ],
         "xaxis": "x4",
         "y": [
          -0.03611248987324722,
          -0.06339576058391869,
          -0.014494359568522339,
          0.09534462324506224,
          -0.13452854640399112,
          -0.06944104270708701,
          -0.07923716783259273,
          -0.06995778007121031,
          -0.06463623973580424,
          0.07806620442000575,
          0.03414060434018454,
          0.020728286071754018,
          0.049701454694862854,
          -0.011989942468649033
         ],
         "yaxis": "y4"
        },
        {
         "legendgroup": "0",
         "line": {
          "color": "#808080"
         },
         "mode": "lines",
         "opacity": 0.1,
         "showlegend": false,
         "type": "scatter",
         "x": [
          "Adm-clerical",
          "Armed-Forces",
          "Craft-repair",
          "Exec-managerial",
          "Farming-fishing",
          "Handlers-cleane*",
          "Machine-op-insp*",
          "Other-service",
          "Priv-house-serv",
          "Prof-specialty",
          "Protective-serv",
          "Sales",
          "Tech-support",
          "Transport-movin*"
         ],
         "xaxis": "x4",
         "y": [
          0.025934085336927384,
          0.07101791310851384,
          0.02680486242229306,
          -0.08862209764341938,
          0.14442878409295545,
          0.06895907634324558,
          0.07040488601453539,
          0.06614432252371813,
          0.06440113788512547,
          -0.07822574263854665,
          -0.004447501211691948,
          -0.03198638272908062,
          -0.06404080188855654,
          0.023007741229733522
         ],
         "yaxis": "y4"
        },
        {
         "legendgroup": "1",
         "line": {
          "color": "#808080"
         },
         "mode": "lines",
         "opacity": 0.1,
         "showlegend": false,
         "type": "scatter",
         "x": [
          "Adm-clerical",
          "Armed-Forces",
          "Craft-repair",
          "Exec-managerial",
          "Farming-fishing",
          "Handlers-cleane*",
          "Machine-op-insp*",
          "Other-service",
          "Priv-house-serv",
          "Prof-specialty",
          "Protective-serv",
          "Sales",
          "Tech-support",
          "Transport-movin*"
         ],
         "xaxis": "x4",
         "y": [
          -0.025934085336927384,
          -0.07101791310851381,
          -0.02680486242229306,
          0.08862209764341938,
          -0.14442878409295543,
          -0.06895907634324558,
          -0.07040488601453539,
          -0.06614432252371813,
          -0.06440113788512547,
          0.07822574263854665,
          0.004447501211691962,
          0.03198638272908062,
          0.06404080188855654,
          -0.023007741229733515
         ],
         "yaxis": "y4"
        },
        {
         "legendgroup": "0",
         "line": {
          "color": "#808080"
         },
         "mode": "lines",
         "opacity": 0.1,
         "showlegend": false,
         "type": "scatter",
         "x": [
          "Adm-clerical",
          "Armed-Forces",
          "Craft-repair",
          "Exec-managerial",
          "Farming-fishing",
          "Handlers-cleane*",
          "Machine-op-insp*",
          "Other-service",
          "Priv-house-serv",
          "Prof-specialty",
          "Protective-serv",
          "Sales",
          "Tech-support",
          "Transport-movin*"
         ],
         "xaxis": "x4",
         "y": [
          0.01943834319935534,
          0.05587495550779872,
          0.02783778218886266,
          -0.07692126472625452,
          0.13372318568610264,
          0.06702054067279786,
          0.06482004370188385,
          0.06560660044509088,
          0.056877819523381494,
          -0.06656710066903174,
          -0.012616604785906683,
          -0.041206129311564345,
          -0.07486920741573222,
          0.02445240367039124
         ],
         "yaxis": "y4"
        },
        {
         "legendgroup": "1",
         "line": {
          "color": "#808080"
         },
         "mode": "lines",
         "opacity": 0.1,
         "showlegend": false,
         "type": "scatter",
         "x": [
          "Adm-clerical",
          "Armed-Forces",
          "Craft-repair",
          "Exec-managerial",
          "Farming-fishing",
          "Handlers-cleane*",
          "Machine-op-insp*",
          "Other-service",
          "Priv-house-serv",
          "Prof-specialty",
          "Protective-serv",
          "Sales",
          "Tech-support",
          "Transport-movin*"
         ],
         "xaxis": "x4",
         "y": [
          -0.019438343199355335,
          -0.05587495550779871,
          -0.027837782188862667,
          0.07692126472625453,
          -0.13372318568610264,
          -0.06702054067279785,
          -0.06482004370188384,
          -0.06560660044509087,
          -0.05687781952338149,
          0.06656710066903175,
          0.01261660478590669,
          0.04120612931156435,
          0.07486920741573223,
          -0.02445240367039124
         ],
         "yaxis": "y4"
        },
        {
         "legendgroup": "0",
         "legendgrouptitle": {
          "text": "0"
         },
         "name": "Relationsh*",
         "type": "scatter",
         "x": [
          "Married",
          "Not-in-family",
          "Other-relative",
          "Own-child",
          "Unmarried"
         ],
         "xaxis": "x5",
         "y": [
          -0.19525228919540563,
          0.15538314504071263,
          0.16125747736489007,
          0.18308997666583907,
          0.16943759159524355
         ],
         "yaxis": "y5"
        },
        {
         "legendgroup": "1",
         "legendgrouptitle": {
          "text": "1"
         },
         "name": "Relationsh*",
         "type": "scatter",
         "x": [
          "Married",
          "Not-in-family",
          "Other-relative",
          "Own-child",
          "Unmarried"
         ],
         "xaxis": "x5",
         "y": [
          0.19525228919540563,
          -0.15538314504071263,
          -0.16125747736489007,
          -0.18308997666583907,
          -0.16943759159524355
         ],
         "yaxis": "y5"
        },
        {
         "legendgroup": "0",
         "line": {
          "color": "#808080"
         },
         "mode": "lines",
         "opacity": 0.1,
         "showlegend": false,
         "type": "scatter",
         "x": [
          "Married",
          "Not-in-family",
          "Other-relative",
          "Own-child",
          "Unmarried"
         ],
         "xaxis": "x5",
         "y": [
          -0.18928172854422406,
          0.15180202458674216,
          0.1549646606184075,
          0.17720003968691975,
          0.16443120642398432
         ],
         "yaxis": "y5"
        },
        {
         "legendgroup": "1",
         "line": {
          "color": "#808080"
         },
         "mode": "lines",
         "opacity": 0.1,
         "showlegend": false,
         "type": "scatter",
         "x": [
          "Married",
          "Not-in-family",
          "Other-relative",
          "Own-child",
          "Unmarried"
         ],
         "xaxis": "x5",
         "y": [
          0.18928172854422406,
          -0.15180202458674216,
          -0.1549646606184075,
          -0.17720003968691975,
          -0.16443120642398432
         ],
         "yaxis": "y5"
        },
        {
         "legendgroup": "0",
         "line": {
          "color": "#808080"
         },
         "mode": "lines",
         "opacity": 0.1,
         "showlegend": false,
         "type": "scatter",
         "x": [
          "Married",
          "Not-in-family",
          "Other-relative",
          "Own-child",
          "Unmarried"
         ],
         "xaxis": "x5",
         "y": [
          -0.19471398291081748,
          0.15779177375730447,
          0.1576141619892802,
          0.17827813608747473,
          0.17143481287857437
         ],
         "yaxis": "y5"
        },
        {
         "legendgroup": "1",
         "line": {
          "color": "#808080"
         },
         "mode": "lines",
         "opacity": 0.1,
         "showlegend": false,
         "type": "scatter",
         "x": [
          "Married",
          "Not-in-family",
          "Other-relative",
          "Own-child",
          "Unmarried"
         ],
         "xaxis": "x5",
         "y": [
          0.19471398291081748,
          -0.15779177375730447,
          -0.1576141619892802,
          -0.17827813608747473,
          -0.17143481287857437
         ],
         "yaxis": "y5"
        },
        {
         "legendgroup": "0",
         "line": {
          "color": "#808080"
         },
         "mode": "lines",
         "opacity": 0.1,
         "showlegend": false,
         "type": "scatter",
         "x": [
          "Married",
          "Not-in-family",
          "Other-relative",
          "Own-child",
          "Unmarried"
         ],
         "xaxis": "x5",
         "y": [
          -0.1986094389258593,
          0.1604785181379616,
          0.161149750096376,
          0.184754508066643,
          0.1717303794327747
         ],
         "yaxis": "y5"
        },
        {
         "legendgroup": "1",
         "line": {
          "color": "#808080"
         },
         "mode": "lines",
         "opacity": 0.1,
         "showlegend": false,
         "type": "scatter",
         "x": [
          "Married",
          "Not-in-family",
          "Other-relative",
          "Own-child",
          "Unmarried"
         ],
         "xaxis": "x5",
         "y": [
          0.1986094389258593,
          -0.1604785181379616,
          -0.161149750096376,
          -0.184754508066643,
          -0.1717303794327747
         ],
         "yaxis": "y5"
        },
        {
         "legendgroup": "0",
         "line": {
          "color": "#808080"
         },
         "mode": "lines",
         "opacity": 0.1,
         "showlegend": false,
         "type": "scatter",
         "x": [
          "Married",
          "Not-in-family",
          "Other-relative",
          "Own-child",
          "Unmarried"
         ],
         "xaxis": "x5",
         "y": [
          -0.1963267589078017,
          0.15523512742481776,
          0.16602787625915177,
          0.18534275854672055,
          0.17222630118820292
         ],
         "yaxis": "y5"
        },
        {
         "legendgroup": "1",
         "line": {
          "color": "#808080"
         },
         "mode": "lines",
         "opacity": 0.1,
         "showlegend": false,
         "type": "scatter",
         "x": [
          "Married",
          "Not-in-family",
          "Other-relative",
          "Own-child",
          "Unmarried"
         ],
         "xaxis": "x5",
         "y": [
          0.1963267589078017,
          -0.15523512742481776,
          -0.16602787625915177,
          -0.18534275854672055,
          -0.17222630118820292
         ],
         "yaxis": "y5"
        },
        {
         "legendgroup": "0",
         "line": {
          "color": "#808080"
         },
         "mode": "lines",
         "opacity": 0.1,
         "showlegend": false,
         "type": "scatter",
         "x": [
          "Married",
          "Not-in-family",
          "Other-relative",
          "Own-child",
          "Unmarried"
         ],
         "xaxis": "x5",
         "y": [
          -0.1976861904653537,
          0.1588855620495894,
          0.16120492737569295,
          0.18492879531638287,
          0.1712792560267448
         ],
         "yaxis": "y5"
        },
        {
         "legendgroup": "1",
         "line": {
          "color": "#808080"
         },
         "mode": "lines",
         "opacity": 0.1,
         "showlegend": false,
         "type": "scatter",
         "x": [
          "Married",
          "Not-in-family",
          "Other-relative",
          "Own-child",
          "Unmarried"
         ],
         "xaxis": "x5",
         "y": [
          0.1976861904653537,
          -0.1588855620495894,
          -0.16120492737569295,
          -0.18492879531638287,
          -0.1712792560267448
         ],
         "yaxis": "y5"
        },
        {
         "legendgroup": "0",
         "line": {
          "color": "#808080"
         },
         "mode": "lines",
         "opacity": 0.1,
         "showlegend": false,
         "type": "scatter",
         "x": [
          "Married",
          "Not-in-family",
          "Other-relative",
          "Own-child",
          "Unmarried"
         ],
         "xaxis": "x5",
         "y": [
          -0.19261995757386366,
          0.15270320188191408,
          0.15924377855253227,
          0.18308939873796973,
          0.16724260688622158
         ],
         "yaxis": "y5"
        },
        {
         "legendgroup": "1",
         "line": {
          "color": "#808080"
         },
         "mode": "lines",
         "opacity": 0.1,
         "showlegend": false,
         "type": "scatter",
         "x": [
          "Married",
          "Not-in-family",
          "Other-relative",
          "Own-child",
          "Unmarried"
         ],
         "xaxis": "x5",
         "y": [
          0.19261995757386366,
          -0.15270320188191408,
          -0.15924377855253227,
          -0.18308939873796973,
          -0.16724260688622158
         ],
         "yaxis": "y5"
        },
        {
         "legendgroup": "0",
         "line": {
          "color": "#808080"
         },
         "mode": "lines",
         "opacity": 0.1,
         "showlegend": false,
         "type": "scatter",
         "x": [
          "Married",
          "Not-in-family",
          "Other-relative",
          "Own-child",
          "Unmarried"
         ],
         "xaxis": "x5",
         "y": [
          -0.19659653041454184,
          0.15581620131393814,
          0.16087749870580054,
          0.18733382041867885,
          0.17058712795681968
         ],
         "yaxis": "y5"
        },
        {
         "legendgroup": "1",
         "line": {
          "color": "#808080"
         },
         "mode": "lines",
         "opacity": 0.1,
         "showlegend": false,
         "type": "scatter",
         "x": [
          "Married",
          "Not-in-family",
          "Other-relative",
          "Own-child",
          "Unmarried"
         ],
         "xaxis": "x5",
         "y": [
          0.19659653041454184,
          -0.15581620131393814,
          -0.16087749870580054,
          -0.18733382041867885,
          -0.17058712795681968
         ],
         "yaxis": "y5"
        },
        {
         "legendgroup": "0",
         "line": {
          "color": "#808080"
         },
         "mode": "lines",
         "opacity": 0.1,
         "showlegend": false,
         "type": "scatter",
         "x": [
          "Married",
          "Not-in-family",
          "Other-relative",
          "Own-child",
          "Unmarried"
         ],
         "xaxis": "x5",
         "y": [
          -0.19451757640603956,
          0.1560018820501552,
          0.16056136019104095,
          0.18178583998578401,
          0.16906451292111968
         ],
         "yaxis": "y5"
        },
        {
         "legendgroup": "1",
         "line": {
          "color": "#808080"
         },
         "mode": "lines",
         "opacity": 0.1,
         "showlegend": false,
         "type": "scatter",
         "x": [
          "Married",
          "Not-in-family",
          "Other-relative",
          "Own-child",
          "Unmarried"
         ],
         "xaxis": "x5",
         "y": [
          0.19451757640603956,
          -0.1560018820501552,
          -0.16056136019104095,
          -0.18178583998578401,
          -0.16906451292111968
         ],
         "yaxis": "y5"
        },
        {
         "legendgroup": "0",
         "line": {
          "color": "#808080"
         },
         "mode": "lines",
         "opacity": 0.1,
         "showlegend": false,
         "type": "scatter",
         "x": [
          "Married",
          "Not-in-family",
          "Other-relative",
          "Own-child",
          "Unmarried"
         ],
         "xaxis": "x5",
         "y": [
          -0.19792694407000266,
          0.1571082880501547,
          0.16712647370913636,
          0.1877340597328721,
          0.17096862003775076
         ],
         "yaxis": "y5"
        },
        {
         "legendgroup": "1",
         "line": {
          "color": "#808080"
         },
         "mode": "lines",
         "opacity": 0.1,
         "showlegend": false,
         "type": "scatter",
         "x": [
          "Married",
          "Not-in-family",
          "Other-relative",
          "Own-child",
          "Unmarried"
         ],
         "xaxis": "x5",
         "y": [
          0.19792694407000266,
          -0.1571082880501547,
          -0.16712647370913636,
          -0.1877340597328721,
          -0.17096862003775076
         ],
         "yaxis": "y5"
        },
        {
         "legendgroup": "0",
         "line": {
          "color": "#808080"
         },
         "mode": "lines",
         "opacity": 0.1,
         "showlegend": false,
         "type": "scatter",
         "x": [
          "Married",
          "Not-in-family",
          "Other-relative",
          "Own-child",
          "Unmarried"
         ],
         "xaxis": "x5",
         "y": [
          -0.19525493577558092,
          0.15615698499325933,
          0.16288617120544455,
          0.1816180834559226,
          0.17150951520915517
         ],
         "yaxis": "y5"
        },
        {
         "legendgroup": "1",
         "line": {
          "color": "#808080"
         },
         "mode": "lines",
         "opacity": 0.1,
         "showlegend": false,
         "type": "scatter",
         "x": [
          "Married",
          "Not-in-family",
          "Other-relative",
          "Own-child",
          "Unmarried"
         ],
         "xaxis": "x5",
         "y": [
          0.19525493577558092,
          -0.15615698499325933,
          -0.16288617120544455,
          -0.1816180834559226,
          -0.17150951520915517
         ],
         "yaxis": "y5"
        },
        {
         "legendgroup": "0",
         "legendgrouptitle": {
          "text": "0"
         },
         "name": "Race",
         "type": "scatter",
         "x": [
          "Amer-Indian-Esk*",
          "Asian-Pac-Islan*",
          "Black",
          "Other",
          "White"
         ],
         "xaxis": "x6",
         "y": [
          0.0702303341645873,
          -0.016766677293453935,
          0.03211883526555262,
          0.06894894406379393,
          -0.004288604925220693
         ],
         "yaxis": "y6"
        },
        {
         "legendgroup": "1",
         "legendgrouptitle": {
          "text": "1"
         },
         "name": "Race",
         "type": "scatter",
         "x": [
          "Amer-Indian-Esk*",
          "Asian-Pac-Islan*",
          "Black",
          "Other",
          "White"
         ],
         "xaxis": "x6",
         "y": [
          -0.0702303341645873,
          0.016766677293453935,
          -0.03211883526555262,
          -0.06894894406379393,
          0.004288604925220693
         ],
         "yaxis": "y6"
        },
        {
         "legendgroup": "0",
         "line": {
          "color": "#808080"
         },
         "mode": "lines",
         "opacity": 0.1,
         "showlegend": false,
         "type": "scatter",
         "x": [
          "Amer-Indian-Esk*",
          "Asian-Pac-Islan*",
          "Black",
          "Other",
          "White"
         ],
         "xaxis": "x6",
         "y": [
          0.06929686992413897,
          -0.014520410423318718,
          0.03348679777725478,
          0.07144167857987431,
          -0.004517938726049012
         ],
         "yaxis": "y6"
        },
        {
         "legendgroup": "1",
         "line": {
          "color": "#808080"
         },
         "mode": "lines",
         "opacity": 0.1,
         "showlegend": false,
         "type": "scatter",
         "x": [
          "Amer-Indian-Esk*",
          "Asian-Pac-Islan*",
          "Black",
          "Other",
          "White"
         ],
         "xaxis": "x6",
         "y": [
          -0.06929686992413896,
          0.014520410423318718,
          -0.03348679777725476,
          -0.07144167857987431,
          0.004517938726049012
         ],
         "yaxis": "y6"
        },
        {
         "legendgroup": "0",
         "line": {
          "color": "#808080"
         },
         "mode": "lines",
         "opacity": 0.1,
         "showlegend": false,
         "type": "scatter",
         "x": [
          "Amer-Indian-Esk*",
          "Asian-Pac-Islan*",
          "Black",
          "Other",
          "White"
         ],
         "xaxis": "x6",
         "y": [
          0.08107694654315126,
          -0.016872831251449158,
          0.03978961972173287,
          0.06951475399395854,
          -0.005229229764844537
         ],
         "yaxis": "y6"
        },
        {
         "legendgroup": "1",
         "line": {
          "color": "#808080"
         },
         "mode": "lines",
         "opacity": 0.1,
         "showlegend": false,
         "type": "scatter",
         "x": [
          "Amer-Indian-Esk*",
          "Asian-Pac-Islan*",
          "Black",
          "Other",
          "White"
         ],
         "xaxis": "x6",
         "y": [
          -0.08107694654315126,
          0.016872831251449158,
          -0.039789619721732866,
          -0.06951475399395854,
          0.005229229764844537
         ],
         "yaxis": "y6"
        },
        {
         "legendgroup": "0",
         "line": {
          "color": "#808080"
         },
         "mode": "lines",
         "opacity": 0.1,
         "showlegend": false,
         "type": "scatter",
         "x": [
          "Amer-Indian-Esk*",
          "Asian-Pac-Islan*",
          "Black",
          "Other",
          "White"
         ],
         "xaxis": "x6",
         "y": [
          0.07080666535881192,
          -0.01616241525697186,
          0.031004517020662425,
          0.06675526525429326,
          -0.00416855356873231
         ],
         "yaxis": "y6"
        },
        {
         "legendgroup": "1",
         "line": {
          "color": "#808080"
         },
         "mode": "lines",
         "opacity": 0.1,
         "showlegend": false,
         "type": "scatter",
         "x": [
          "Amer-Indian-Esk*",
          "Asian-Pac-Islan*",
          "Black",
          "Other",
          "White"
         ],
         "xaxis": "x6",
         "y": [
          -0.07080666535881192,
          0.01616241525697186,
          -0.031004517020662432,
          -0.06675526525429326,
          0.00416855356873231
         ],
         "yaxis": "y6"
        },
        {
         "legendgroup": "0",
         "line": {
          "color": "#808080"
         },
         "mode": "lines",
         "opacity": 0.1,
         "showlegend": false,
         "type": "scatter",
         "x": [
          "Amer-Indian-Esk*",
          "Asian-Pac-Islan*",
          "Black",
          "Other",
          "White"
         ],
         "xaxis": "x6",
         "y": [
          0.09062289167886789,
          -0.0192373497677008,
          0.052639279546305366,
          0.06902971998093876,
          -0.006635083312141514
         ],
         "yaxis": "y6"
        },
        {
         "legendgroup": "1",
         "line": {
          "color": "#808080"
         },
         "mode": "lines",
         "opacity": 0.1,
         "showlegend": false,
         "type": "scatter",
         "x": [
          "Amer-Indian-Esk*",
          "Asian-Pac-Islan*",
          "Black",
          "Other",
          "White"
         ],
         "xaxis": "x6",
         "y": [
          -0.09062289167886788,
          0.0192373497677008,
          -0.052639279546305366,
          -0.06902971998093875,
          0.006635083312141514
         ],
         "yaxis": "y6"
        },
        {
         "legendgroup": "0",
         "line": {
          "color": "#808080"
         },
         "mode": "lines",
         "opacity": 0.1,
         "showlegend": false,
         "type": "scatter",
         "x": [
          "Amer-Indian-Esk*",
          "Asian-Pac-Islan*",
          "Black",
          "Other",
          "White"
         ],
         "xaxis": "x6",
         "y": [
          0.06969360662377234,
          -0.018083154652639197,
          0.03764684376391905,
          0.06765474065088956,
          -0.0048158126365523204
         ],
         "yaxis": "y6"
        },
        {
         "legendgroup": "1",
         "line": {
          "color": "#808080"
         },
         "mode": "lines",
         "opacity": 0.1,
         "showlegend": false,
         "type": "scatter",
         "x": [
          "Amer-Indian-Esk*",
          "Asian-Pac-Islan*",
          "Black",
          "Other",
          "White"
         ],
         "xaxis": "x6",
         "y": [
          -0.06969360662377233,
          0.018083154652639197,
          -0.037646843763919045,
          -0.06765474065088956,
          0.0048158126365523204
         ],
         "yaxis": "y6"
        },
        {
         "legendgroup": "0",
         "line": {
          "color": "#808080"
         },
         "mode": "lines",
         "opacity": 0.1,
         "showlegend": false,
         "type": "scatter",
         "x": [
          "Amer-Indian-Esk*",
          "Asian-Pac-Islan*",
          "Black",
          "Other",
          "White"
         ],
         "xaxis": "x6",
         "y": [
          0.05449009034950254,
          -0.015590741544936473,
          0.01911614199658832,
          0.06878938705735284,
          -0.002745398540401945
         ],
         "yaxis": "y6"
        },
        {
         "legendgroup": "1",
         "line": {
          "color": "#808080"
         },
         "mode": "lines",
         "opacity": 0.1,
         "showlegend": false,
         "type": "scatter",
         "x": [
          "Amer-Indian-Esk*",
          "Asian-Pac-Islan*",
          "Black",
          "Other",
          "White"
         ],
         "xaxis": "x6",
         "y": [
          -0.05449009034950254,
          0.015590741544936473,
          -0.019116141996588305,
          -0.06878938705735284,
          0.002745398540401945
         ],
         "yaxis": "y6"
        },
        {
         "legendgroup": "0",
         "line": {
          "color": "#808080"
         },
         "mode": "lines",
         "opacity": 0.1,
         "showlegend": false,
         "type": "scatter",
         "x": [
          "Amer-Indian-Esk*",
          "Asian-Pac-Islan*",
          "Black",
          "Other",
          "White"
         ],
         "xaxis": "x6",
         "y": [
          0.07389166014570639,
          -0.017189002105644585,
          0.03137448506923253,
          0.0697788474279834,
          -0.004234398521435562
         ],
         "yaxis": "y6"
        },
        {
         "legendgroup": "1",
         "line": {
          "color": "#808080"
         },
         "mode": "lines",
         "opacity": 0.1,
         "showlegend": false,
         "type": "scatter",
         "x": [
          "Amer-Indian-Esk*",
          "Asian-Pac-Islan*",
          "Black",
          "Other",
          "White"
         ],
         "xaxis": "x6",
         "y": [
          -0.07389166014570639,
          0.017189002105644585,
          -0.03137448506923253,
          -0.0697788474279834,
          0.004234398521435562
         ],
         "yaxis": "y6"
        },
        {
         "legendgroup": "0",
         "line": {
          "color": "#808080"
         },
         "mode": "lines",
         "opacity": 0.1,
         "showlegend": false,
         "type": "scatter",
         "x": [
          "Amer-Indian-Esk*",
          "Asian-Pac-Islan*",
          "Black",
          "Other",
          "White"
         ],
         "xaxis": "x6",
         "y": [
          0.06742377191911361,
          -0.017452966125429806,
          0.045444955593624034,
          0.07048456141005299,
          -0.005679340631272761
         ],
         "yaxis": "y6"
        },
        {
         "legendgroup": "1",
         "line": {
          "color": "#808080"
         },
         "mode": "lines",
         "opacity": 0.1,
         "showlegend": false,
         "type": "scatter",
         "x": [
          "Amer-Indian-Esk*",
          "Asian-Pac-Islan*",
          "Black",
          "Other",
          "White"
         ],
         "xaxis": "x6",
         "y": [
          -0.0674237719191136,
          0.017452966125429806,
          -0.045444955593624006,
          -0.07048456141005298,
          0.005679340631272761
         ],
         "yaxis": "y6"
        },
        {
         "legendgroup": "0",
         "line": {
          "color": "#808080"
         },
         "mode": "lines",
         "opacity": 0.1,
         "showlegend": false,
         "type": "scatter",
         "x": [
          "Amer-Indian-Esk*",
          "Asian-Pac-Islan*",
          "Black",
          "Other",
          "White"
         ],
         "xaxis": "x6",
         "y": [
          0.07660510512668935,
          -0.016350053218382343,
          0.03462525179011378,
          0.07083772410635741,
          -0.00465286091164601
         ],
         "yaxis": "y6"
        },
        {
         "legendgroup": "1",
         "line": {
          "color": "#808080"
         },
         "mode": "lines",
         "opacity": 0.1,
         "showlegend": false,
         "type": "scatter",
         "x": [
          "Amer-Indian-Esk*",
          "Asian-Pac-Islan*",
          "Black",
          "Other",
          "White"
         ],
         "xaxis": "x6",
         "y": [
          -0.07660510512668935,
          0.016350053218382343,
          -0.03462525179011378,
          -0.07083772410635741,
          0.00465286091164601
         ],
         "yaxis": "y6"
        },
        {
         "legendgroup": "0",
         "line": {
          "color": "#808080"
         },
         "mode": "lines",
         "opacity": 0.1,
         "showlegend": false,
         "type": "scatter",
         "x": [
          "Amer-Indian-Esk*",
          "Asian-Pac-Islan*",
          "Black",
          "Other",
          "White"
         ],
         "xaxis": "x6",
         "y": [
          0.04296838681862661,
          -0.011292221922077536,
          0.004955699950099356,
          0.07103822652674181,
          -0.0012582322299250614
         ],
         "yaxis": "y6"
        },
        {
         "legendgroup": "1",
         "line": {
          "color": "#808080"
         },
         "mode": "lines",
         "opacity": 0.1,
         "showlegend": false,
         "type": "scatter",
         "x": [
          "Amer-Indian-Esk*",
          "Asian-Pac-Islan*",
          "Black",
          "Other",
          "White"
         ],
         "xaxis": "x6",
         "y": [
          -0.04296838681862661,
          0.011292221922077536,
          -0.004955699950099356,
          -0.07103822652674181,
          0.0012582322299250614
         ],
         "yaxis": "y6"
        },
        {
         "legendgroup": "0",
         "legendgrouptitle": {
          "text": "0"
         },
         "name": "Sex",
         "type": "scatter",
         "x": [
          "Female",
          "Male"
         ],
         "xaxis": "x7",
         "y": [
          0.004024042646575965,
          -0.0019247422350891531
         ],
         "yaxis": "y7"
        },
        {
         "legendgroup": "1",
         "legendgrouptitle": {
          "text": "1"
         },
         "name": "Sex",
         "type": "scatter",
         "x": [
          "Female",
          "Male"
         ],
         "xaxis": "x7",
         "y": [
          -0.004024042646575964,
          0.0019247422350891531
         ],
         "yaxis": "y7"
        },
        {
         "legendgroup": "0",
         "line": {
          "color": "#808080"
         },
         "mode": "lines",
         "opacity": 0.1,
         "showlegend": false,
         "type": "scatter",
         "x": [
          "Female",
          "Male"
         ],
         "xaxis": "x7",
         "y": [
          0.003281575022590621,
          -0.0015683998296544843
         ],
         "yaxis": "y7"
        },
        {
         "legendgroup": "1",
         "line": {
          "color": "#808080"
         },
         "mode": "lines",
         "opacity": 0.1,
         "showlegend": false,
         "type": "scatter",
         "x": [
          "Female",
          "Male"
         ],
         "xaxis": "x7",
         "y": [
          -0.0032815750225906196,
          0.0015683998296544838
         ],
         "yaxis": "y7"
        },
        {
         "legendgroup": "0",
         "line": {
          "color": "#808080"
         },
         "mode": "lines",
         "opacity": 0.1,
         "showlegend": false,
         "type": "scatter",
         "x": [
          "Female",
          "Male"
         ],
         "xaxis": "x7",
         "y": [
          0.0045509598042974345,
          -0.0021750910866543795
         ],
         "yaxis": "y7"
        },
        {
         "legendgroup": "1",
         "line": {
          "color": "#808080"
         },
         "mode": "lines",
         "opacity": 0.1,
         "showlegend": false,
         "type": "scatter",
         "x": [
          "Female",
          "Male"
         ],
         "xaxis": "x7",
         "y": [
          -0.004550959804297433,
          0.0021750910866543786
         ],
         "yaxis": "y7"
        },
        {
         "legendgroup": "0",
         "line": {
          "color": "#808080"
         },
         "mode": "lines",
         "opacity": 0.1,
         "showlegend": false,
         "type": "scatter",
         "x": [
          "Female",
          "Male"
         ],
         "xaxis": "x7",
         "y": [
          0.0029690812976118745,
          -0.0014190462108431608
         ],
         "yaxis": "y7"
        },
        {
         "legendgroup": "1",
         "line": {
          "color": "#808080"
         },
         "mode": "lines",
         "opacity": 0.1,
         "showlegend": false,
         "type": "scatter",
         "x": [
          "Female",
          "Male"
         ],
         "xaxis": "x7",
         "y": [
          -0.002969081297611874,
          0.0014190462108431604
         ],
         "yaxis": "y7"
        },
        {
         "legendgroup": "0",
         "line": {
          "color": "#808080"
         },
         "mode": "lines",
         "opacity": 0.1,
         "showlegend": false,
         "type": "scatter",
         "x": [
          "Female",
          "Male"
         ],
         "xaxis": "x7",
         "y": [
          0.004760757534324701,
          -0.0022753620607358733
         ],
         "yaxis": "y7"
        },
        {
         "legendgroup": "1",
         "line": {
          "color": "#808080"
         },
         "mode": "lines",
         "opacity": 0.1,
         "showlegend": false,
         "type": "scatter",
         "x": [
          "Female",
          "Male"
         ],
         "xaxis": "x7",
         "y": [
          -0.004760757534324701,
          0.0022753620607358733
         ],
         "yaxis": "y7"
        },
        {
         "legendgroup": "0",
         "line": {
          "color": "#808080"
         },
         "mode": "lines",
         "opacity": 0.1,
         "showlegend": false,
         "type": "scatter",
         "x": [
          "Female",
          "Male"
         ],
         "xaxis": "x7",
         "y": [
          0.00492436501438728,
          -0.0023535568123700373
         ],
         "yaxis": "y7"
        },
        {
         "legendgroup": "1",
         "line": {
          "color": "#808080"
         },
         "mode": "lines",
         "opacity": 0.1,
         "showlegend": false,
         "type": "scatter",
         "x": [
          "Female",
          "Male"
         ],
         "xaxis": "x7",
         "y": [
          -0.00492436501438728,
          0.0023535568123700364
         ],
         "yaxis": "y7"
        },
        {
         "legendgroup": "0",
         "line": {
          "color": "#808080"
         },
         "mode": "lines",
         "opacity": 0.1,
         "showlegend": false,
         "type": "scatter",
         "x": [
          "Female",
          "Male"
         ],
         "xaxis": "x7",
         "y": [
          0.00442262884585315,
          -0.0021137564372930746
         ],
         "yaxis": "y7"
        },
        {
         "legendgroup": "1",
         "line": {
          "color": "#808080"
         },
         "mode": "lines",
         "opacity": 0.1,
         "showlegend": false,
         "type": "scatter",
         "x": [
          "Female",
          "Male"
         ],
         "xaxis": "x7",
         "y": [
          -0.0044226288458531484,
          0.0021137564372930738
         ],
         "yaxis": "y7"
        },
        {
         "legendgroup": "0",
         "line": {
          "color": "#808080"
         },
         "mode": "lines",
         "opacity": 0.1,
         "showlegend": false,
         "type": "scatter",
         "x": [
          "Female",
          "Male"
         ],
         "xaxis": "x7",
         "y": [
          0.004313480674253811,
          -0.0020615900316600985
         ],
         "yaxis": "y7"
        },
        {
         "legendgroup": "1",
         "line": {
          "color": "#808080"
         },
         "mode": "lines",
         "opacity": 0.1,
         "showlegend": false,
         "type": "scatter",
         "x": [
          "Female",
          "Male"
         ],
         "xaxis": "x7",
         "y": [
          -0.004313480674253811,
          0.0020615900316600985
         ],
         "yaxis": "y7"
        },
        {
         "legendgroup": "0",
         "line": {
          "color": "#808080"
         },
         "mode": "lines",
         "opacity": 0.1,
         "showlegend": false,
         "type": "scatter",
         "x": [
          "Female",
          "Male"
         ],
         "xaxis": "x7",
         "y": [
          0.005897431556390258,
          -0.0028186253810340966
         ],
         "yaxis": "y7"
        },
        {
         "legendgroup": "1",
         "line": {
          "color": "#808080"
         },
         "mode": "lines",
         "opacity": 0.1,
         "showlegend": false,
         "type": "scatter",
         "x": [
          "Female",
          "Male"
         ],
         "xaxis": "x7",
         "y": [
          -0.0058974315563902575,
          0.0028186253810340957
         ],
         "yaxis": "y7"
        },
        {
         "legendgroup": "0",
         "line": {
          "color": "#808080"
         },
         "mode": "lines",
         "opacity": 0.1,
         "showlegend": false,
         "type": "scatter",
         "x": [
          "Female",
          "Male"
         ],
         "xaxis": "x7",
         "y": [
          0.003819959432259138,
          -0.0018257159082447354
         ],
         "yaxis": "y7"
        },
        {
         "legendgroup": "1",
         "line": {
          "color": "#808080"
         },
         "mode": "lines",
         "opacity": 0.1,
         "showlegend": false,
         "type": "scatter",
         "x": [
          "Female",
          "Male"
         ],
         "xaxis": "x7",
         "y": [
          -0.003819959432259138,
          0.0018257159082447354
         ],
         "yaxis": "y7"
        },
        {
         "legendgroup": "0",
         "line": {
          "color": "#808080"
         },
         "mode": "lines",
         "opacity": 0.1,
         "showlegend": false,
         "type": "scatter",
         "x": [
          "Female",
          "Male"
         ],
         "xaxis": "x7",
         "y": [
          0.003498540344187243,
          -0.0016720964908889528
         ],
         "yaxis": "y7"
        },
        {
         "legendgroup": "1",
         "line": {
          "color": "#808080"
         },
         "mode": "lines",
         "opacity": 0.1,
         "showlegend": false,
         "type": "scatter",
         "x": [
          "Female",
          "Male"
         ],
         "xaxis": "x7",
         "y": [
          -0.0034985403441872426,
          0.0016720964908889524
         ],
         "yaxis": "y7"
        },
        {
         "legendgroup": "0",
         "legendgrouptitle": {
          "text": "0"
         },
         "name": "Hours per *",
         "type": "scatter",
         "x": [
          "BrainDrain",
          "FullTime",
          "MidTime",
          "OverTime",
          "PartTime"
         ],
         "xaxis": "x8",
         "y": [
          -0.0666234947613491,
          0.0025087372468650115,
          0.050199483605919235,
          -0.049551409304463195,
          0.0892263740023097
         ],
         "yaxis": "y8"
        },
        {
         "legendgroup": "1",
         "legendgrouptitle": {
          "text": "1"
         },
         "name": "Hours per *",
         "type": "scatter",
         "x": [
          "BrainDrain",
          "FullTime",
          "MidTime",
          "OverTime",
          "PartTime"
         ],
         "xaxis": "x8",
         "y": [
          0.0666234947613491,
          -0.0025087372468650115,
          -0.050199483605919235,
          0.049551409304463195,
          -0.0892263740023097
         ],
         "yaxis": "y8"
        },
        {
         "legendgroup": "0",
         "line": {
          "color": "#808080"
         },
         "mode": "lines",
         "opacity": 0.1,
         "showlegend": false,
         "type": "scatter",
         "x": [
          "BrainDrain",
          "FullTime",
          "MidTime",
          "OverTime",
          "PartTime"
         ],
         "xaxis": "x8",
         "y": [
          -0.06365427349802326,
          0.002792046206943233,
          0.04606177868580445,
          -0.048200527387109414,
          0.08737083301190669
         ],
         "yaxis": "y8"
        },
        {
         "legendgroup": "1",
         "line": {
          "color": "#808080"
         },
         "mode": "lines",
         "opacity": 0.1,
         "showlegend": false,
         "type": "scatter",
         "x": [
          "BrainDrain",
          "FullTime",
          "MidTime",
          "OverTime",
          "PartTime"
         ],
         "xaxis": "x8",
         "y": [
          0.06365427349802326,
          -0.002792046206943233,
          -0.04606177868580445,
          0.048200527387109414,
          -0.08737083301190669
         ],
         "yaxis": "y8"
        },
        {
         "legendgroup": "0",
         "line": {
          "color": "#808080"
         },
         "mode": "lines",
         "opacity": 0.1,
         "showlegend": false,
         "type": "scatter",
         "x": [
          "BrainDrain",
          "FullTime",
          "MidTime",
          "OverTime",
          "PartTime"
         ],
         "xaxis": "x8",
         "y": [
          -0.06886550465902341,
          0.0020720863969994896,
          0.050285688587591984,
          -0.04973767457154946,
          0.09335758301891603
         ],
         "yaxis": "y8"
        },
        {
         "legendgroup": "1",
         "line": {
          "color": "#808080"
         },
         "mode": "lines",
         "opacity": 0.1,
         "showlegend": false,
         "type": "scatter",
         "x": [
          "BrainDrain",
          "FullTime",
          "MidTime",
          "OverTime",
          "PartTime"
         ],
         "xaxis": "x8",
         "y": [
          0.06886550465902341,
          -0.0020720863969994896,
          -0.050285688587591984,
          0.04973767457154946,
          -0.09335758301891603
         ],
         "yaxis": "y8"
        },
        {
         "legendgroup": "0",
         "line": {
          "color": "#808080"
         },
         "mode": "lines",
         "opacity": 0.1,
         "showlegend": false,
         "type": "scatter",
         "x": [
          "BrainDrain",
          "FullTime",
          "MidTime",
          "OverTime",
          "PartTime"
         ],
         "xaxis": "x8",
         "y": [
          -0.06190549554375327,
          0.0022954677673610174,
          0.04836135006162062,
          -0.04932461928301422,
          0.08803694500303302
         ],
         "yaxis": "y8"
        },
        {
         "legendgroup": "1",
         "line": {
          "color": "#808080"
         },
         "mode": "lines",
         "opacity": 0.1,
         "showlegend": false,
         "type": "scatter",
         "x": [
          "BrainDrain",
          "FullTime",
          "MidTime",
          "OverTime",
          "PartTime"
         ],
         "xaxis": "x8",
         "y": [
          0.06190549554375327,
          -0.0022954677673610174,
          -0.04836135006162062,
          0.04932461928301422,
          -0.08803694500303302
         ],
         "yaxis": "y8"
        },
        {
         "legendgroup": "0",
         "line": {
          "color": "#808080"
         },
         "mode": "lines",
         "opacity": 0.1,
         "showlegend": false,
         "type": "scatter",
         "x": [
          "BrainDrain",
          "FullTime",
          "MidTime",
          "OverTime",
          "PartTime"
         ],
         "xaxis": "x8",
         "y": [
          -0.07027374824930814,
          0.0020463057519922168,
          0.05012555119211669,
          -0.04908116268314052,
          0.09342564152952239
         ],
         "yaxis": "y8"
        },
        {
         "legendgroup": "1",
         "line": {
          "color": "#808080"
         },
         "mode": "lines",
         "opacity": 0.1,
         "showlegend": false,
         "type": "scatter",
         "x": [
          "BrainDrain",
          "FullTime",
          "MidTime",
          "OverTime",
          "PartTime"
         ],
         "xaxis": "x8",
         "y": [
          0.07027374824930814,
          -0.0020463057519922168,
          -0.05012555119211669,
          0.04908116268314053,
          -0.09342564152952236
         ],
         "yaxis": "y8"
        },
        {
         "legendgroup": "0",
         "line": {
          "color": "#808080"
         },
         "mode": "lines",
         "opacity": 0.1,
         "showlegend": false,
         "type": "scatter",
         "x": [
          "BrainDrain",
          "FullTime",
          "MidTime",
          "OverTime",
          "PartTime"
         ],
         "xaxis": "x8",
         "y": [
          -0.06657695294353427,
          0.0014788324347953796,
          0.049050442353027135,
          -0.051051590780964454,
          0.09814454129529199
         ],
         "yaxis": "y8"
        },
        {
         "legendgroup": "1",
         "line": {
          "color": "#808080"
         },
         "mode": "lines",
         "opacity": 0.1,
         "showlegend": false,
         "type": "scatter",
         "x": [
          "BrainDrain",
          "FullTime",
          "MidTime",
          "OverTime",
          "PartTime"
         ],
         "xaxis": "x8",
         "y": [
          0.06657695294353426,
          -0.0014788324347953796,
          -0.04905044235302715,
          0.05105159078096444,
          -0.098144541295292
         ],
         "yaxis": "y8"
        },
        {
         "legendgroup": "0",
         "line": {
          "color": "#808080"
         },
         "mode": "lines",
         "opacity": 0.1,
         "showlegend": false,
         "type": "scatter",
         "x": [
          "BrainDrain",
          "FullTime",
          "MidTime",
          "OverTime",
          "PartTime"
         ],
         "xaxis": "x8",
         "y": [
          -0.06837982356995494,
          0.002448195894244304,
          0.0502866225535364,
          -0.048741212053652526,
          0.08928002244725218
         ],
         "yaxis": "y8"
        },
        {
         "legendgroup": "1",
         "line": {
          "color": "#808080"
         },
         "mode": "lines",
         "opacity": 0.1,
         "showlegend": false,
         "type": "scatter",
         "x": [
          "BrainDrain",
          "FullTime",
          "MidTime",
          "OverTime",
          "PartTime"
         ],
         "xaxis": "x8",
         "y": [
          0.06837982356995494,
          -0.002448195894244304,
          -0.0502866225535364,
          0.048741212053652526,
          -0.08928002244725218
         ],
         "yaxis": "y8"
        },
        {
         "legendgroup": "0",
         "line": {
          "color": "#808080"
         },
         "mode": "lines",
         "opacity": 0.1,
         "showlegend": false,
         "type": "scatter",
         "x": [
          "BrainDrain",
          "FullTime",
          "MidTime",
          "OverTime",
          "PartTime"
         ],
         "xaxis": "x8",
         "y": [
          -0.0665635509438178,
          0.003767057751564093,
          0.05063622334301371,
          -0.049635175911528925,
          0.08343789056387096
         ],
         "yaxis": "y8"
        },
        {
         "legendgroup": "1",
         "line": {
          "color": "#808080"
         },
         "mode": "lines",
         "opacity": 0.1,
         "showlegend": false,
         "type": "scatter",
         "x": [
          "BrainDrain",
          "FullTime",
          "MidTime",
          "OverTime",
          "PartTime"
         ],
         "xaxis": "x8",
         "y": [
          0.06656355094381779,
          -0.003767057751564093,
          -0.05063622334301372,
          0.04963517591152892,
          -0.08343789056387098
         ],
         "yaxis": "y8"
        },
        {
         "legendgroup": "0",
         "line": {
          "color": "#808080"
         },
         "mode": "lines",
         "opacity": 0.1,
         "showlegend": false,
         "type": "scatter",
         "x": [
          "BrainDrain",
          "FullTime",
          "MidTime",
          "OverTime",
          "PartTime"
         ],
         "xaxis": "x8",
         "y": [
          -0.06758488057498457,
          0.0036955685766373175,
          0.04920869644414927,
          -0.05111857251851183,
          0.08908668815189436
         ],
         "yaxis": "y8"
        },
        {
         "legendgroup": "1",
         "line": {
          "color": "#808080"
         },
         "mode": "lines",
         "opacity": 0.1,
         "showlegend": false,
         "type": "scatter",
         "x": [
          "BrainDrain",
          "FullTime",
          "MidTime",
          "OverTime",
          "PartTime"
         ],
         "xaxis": "x8",
         "y": [
          0.06758488057498459,
          -0.0036955685766373036,
          -0.04920869644414927,
          0.051118572518511846,
          -0.08908668815189434
         ],
         "yaxis": "y8"
        },
        {
         "legendgroup": "0",
         "line": {
          "color": "#808080"
         },
         "mode": "lines",
         "opacity": 0.1,
         "showlegend": false,
         "type": "scatter",
         "x": [
          "BrainDrain",
          "FullTime",
          "MidTime",
          "OverTime",
          "PartTime"
         ],
         "xaxis": "x8",
         "y": [
          -0.06874330493846267,
          0.0036457002591034626,
          0.05271892085181841,
          -0.05035468922761387,
          0.08496667828605503
         ],
         "yaxis": "y8"
        },
        {
         "legendgroup": "1",
         "line": {
          "color": "#808080"
         },
         "mode": "lines",
         "opacity": 0.1,
         "showlegend": false,
         "type": "scatter",
         "x": [
          "BrainDrain",
          "FullTime",
          "MidTime",
          "OverTime",
          "PartTime"
         ],
         "xaxis": "x8",
         "y": [
          0.06874330493846267,
          -0.0036457002591034626,
          -0.052718920851818424,
          0.05035468922761387,
          -0.08496667828605506
         ],
         "yaxis": "y8"
        },
        {
         "legendgroup": "0",
         "line": {
          "color": "#808080"
         },
         "mode": "lines",
         "opacity": 0.1,
         "showlegend": false,
         "type": "scatter",
         "x": [
          "BrainDrain",
          "FullTime",
          "MidTime",
          "OverTime",
          "PartTime"
         ],
         "xaxis": "x8",
         "y": [
          -0.06240134756226713,
          0.002663713752653965,
          0.049514413221298625,
          -0.0497100673122055,
          0.08636250293995278
         ],
         "yaxis": "y8"
        },
        {
         "legendgroup": "1",
         "line": {
          "color": "#808080"
         },
         "mode": "lines",
         "opacity": 0.1,
         "showlegend": false,
         "type": "scatter",
         "x": [
          "BrainDrain",
          "FullTime",
          "MidTime",
          "OverTime",
          "PartTime"
         ],
         "xaxis": "x8",
         "y": [
          0.06240134756226713,
          -0.002663713752653965,
          -0.049514413221298625,
          0.0497100673122055,
          -0.08636250293995278
         ],
         "yaxis": "y8"
        },
        {
         "legendgroup": "0",
         "legendgrouptitle": {
          "text": "0"
         },
         "name": "Country",
         "type": "scatter",
         "x": [
          "Cambodia",
          "Canada",
          "China",
          "Columbia",
          "Cuba",
          "Dominican-Repub*",
          "Ecuador",
          "El-Salvador",
          "England",
          "France",
          "Germany",
          "Greece",
          "Guatemala",
          "Haiti",
          "Holand-Netherla*",
          "Honduras",
          "Hong",
          "Hungary",
          "India",
          "Iran",
          "Ireland",
          "Italy",
          "Jamaica",
          "Japan",
          "Laos",
          "Mexico",
          "Nicaragua",
          "Outlying-US(Gua*",
          "Peru",
          "Philippines",
          "Poland",
          "Portugal",
          "Puerto-Rico",
          "Scotland",
          "South",
          "Taiwan",
          "Thailand",
          "Trinadad&Tobago",
          "United-States",
          "Vietnam",
          "Yugoslavia"
         ],
         "xaxis": "x9",
         "y": [
          0.0213179645712565,
          0.029883772549317917,
          0.07932325438598356,
          0.012953154339020445,
          -0.012250963966527747,
          0.08328036411031814,
          0.012953154339020445,
          0.03448908574387195,
          -0.05729913659346611,
          0.013210528410075733,
          -0.009935732497505657,
          0.06727620201985417,
          0.013491415903230743,
          0.008129053274476977,
          0.013491415903230743,
          0.012953154339020445,
          0.0213179645712565,
          0.017151713949461387,
          0.017060280091102834,
          0.025032617835965623,
          0.012953154339020445,
          -0.07898423541634711,
          0.02875634163059366,
          -0.013655184018105376,
          0.025032617835965623,
          0.0634594611721408,
          0.012953154339020445,
          0.013899133613508044,
          0.013491415903230743,
          -0.006819171079176255,
          0.008129053274476977,
          0.008129053274476977,
          0.13727659267413378,
          0.012953154339020445,
          0.05321253765748042,
          0.013440937561574495,
          0.0213179645712565,
          0.025032617835965623,
          -0.0030496392290797793,
          0.06550408298891539,
          0.013439375803652285
         ],
         "yaxis": "y9"
        },
        {
         "legendgroup": "1",
         "legendgrouptitle": {
          "text": "1"
         },
         "name": "Country",
         "type": "scatter",
         "x": [
          "Cambodia",
          "Canada",
          "China",
          "Columbia",
          "Cuba",
          "Dominican-Repub*",
          "Ecuador",
          "El-Salvador",
          "England",
          "France",
          "Germany",
          "Greece",
          "Guatemala",
          "Haiti",
          "Holand-Netherla*",
          "Honduras",
          "Hong",
          "Hungary",
          "India",
          "Iran",
          "Ireland",
          "Italy",
          "Jamaica",
          "Japan",
          "Laos",
          "Mexico",
          "Nicaragua",
          "Outlying-US(Gua*",
          "Peru",
          "Philippines",
          "Poland",
          "Portugal",
          "Puerto-Rico",
          "Scotland",
          "South",
          "Taiwan",
          "Thailand",
          "Trinadad&Tobago",
          "United-States",
          "Vietnam",
          "Yugoslavia"
         ],
         "xaxis": "x9",
         "y": [
          -0.021317964571256537,
          -0.029883772549317913,
          -0.07932325438598359,
          -0.012953154339020466,
          0.012250963966527743,
          -0.08328036411031817,
          -0.012953154339020466,
          -0.034489085743871974,
          0.05729913659346608,
          -0.01321052841007573,
          0.009935732497505657,
          -0.06727620201985421,
          -0.013491415903230768,
          -0.008129053274476983,
          -0.013491415903230768,
          -0.012953154339020466,
          -0.021317964571256537,
          -0.017151713949461397,
          -0.01706028009110286,
          -0.02503261783596566,
          -0.012953154339020466,
          0.07898423541634708,
          -0.028756341630593655,
          0.013655184018105344,
          -0.02503261783596566,
          -0.06345946117214082,
          -0.012953154339020466,
          -0.013899133613508044,
          -0.013491415903230768,
          0.0068191710791762235,
          -0.008129053274476983,
          -0.008129053274476983,
          -0.13727659267413378,
          -0.012953154339020466,
          -0.053212537657480456,
          -0.013440937561574523,
          -0.021317964571256537,
          -0.02503261783596566,
          0.0030496392290797827,
          -0.06550408298891543,
          -0.013439375803652289
         ],
         "yaxis": "y9"
        },
        {
         "legendgroup": "0",
         "line": {
          "color": "#808080"
         },
         "mode": "lines",
         "opacity": 0.1,
         "showlegend": false,
         "type": "scatter",
         "x": [
          "Cambodia",
          "Canada",
          "China",
          "Columbia",
          "Cuba",
          "Dominican-Repub*",
          "Ecuador",
          "El-Salvador",
          "England",
          "France",
          "Germany",
          "Greece",
          "Guatemala",
          "Haiti",
          "Holand-Netherla*",
          "Honduras",
          "Hong",
          "Hungary",
          "India",
          "Iran",
          "Ireland",
          "Italy",
          "Jamaica",
          "Japan",
          "Laos",
          "Mexico",
          "Nicaragua",
          "Outlying-US(Gua*",
          "Peru",
          "Philippines",
          "Poland",
          "Portugal",
          "Puerto-Rico",
          "Scotland",
          "South",
          "Taiwan",
          "Thailand",
          "Trinadad&Tobago",
          "United-States",
          "Vietnam",
          "Yugoslavia"
         ],
         "xaxis": "x9",
         "y": [
          0.00003735120219985422,
          0.025450929027604912,
          0.08966355862739797,
          0.061154243579710145,
          -0.03136657101694109,
          0.11580316064609207,
          0.061154243579710145,
          0.07062422720915047,
          -0.04972806576827101,
          0.012721666677311208,
          -0.03625539049084225,
          0.04317759080760602,
          0.06293898975106457,
          -0.012356070136155075,
          0.06293898975106457,
          0.061154243579710145,
          0.00003735120219985422,
          -0.014055963755065222,
          0.003767379498577842,
          0.006035456269581374,
          0.061154243579710145,
          -0.11124567902583811,
          0.025572715450625044,
          -0.007047083128948866,
          0.006035456269581374,
          0.09719206337281766,
          0.061154243579710145,
          0.012211043452494389,
          0.06293898975106457,
          -0.04487354713323389,
          -0.012356070136155075,
          -0.012356070136155075,
          0.0445148470700338,
          0.061154243579710145,
          0.05201298433049505,
          -0.006423971382909116,
          0.00003735120219985422,
          0.006035456269581374,
          -0.0031233500356728865,
          0.044649451525753885,
          0.003667042550364623
         ],
         "yaxis": "y9"
        },
        {
         "legendgroup": "1",
         "line": {
          "color": "#808080"
         },
         "mode": "lines",
         "opacity": 0.1,
         "showlegend": false,
         "type": "scatter",
         "x": [
          "Cambodia",
          "Canada",
          "China",
          "Columbia",
          "Cuba",
          "Dominican-Repub*",
          "Ecuador",
          "El-Salvador",
          "England",
          "France",
          "Germany",
          "Greece",
          "Guatemala",
          "Haiti",
          "Holand-Netherla*",
          "Honduras",
          "Hong",
          "Hungary",
          "India",
          "Iran",
          "Ireland",
          "Italy",
          "Jamaica",
          "Japan",
          "Laos",
          "Mexico",
          "Nicaragua",
          "Outlying-US(Gua*",
          "Peru",
          "Philippines",
          "Poland",
          "Portugal",
          "Puerto-Rico",
          "Scotland",
          "South",
          "Taiwan",
          "Thailand",
          "Trinadad&Tobago",
          "United-States",
          "Vietnam",
          "Yugoslavia"
         ],
         "xaxis": "x9",
         "y": [
          -0.00003735120219987287,
          -0.02545092902760491,
          -0.08966355862739797,
          -0.061154243579710145,
          0.031366571016941076,
          -0.1158031606460921,
          -0.061154243579710145,
          -0.07062422720915047,
          0.049728065768271004,
          -0.012721666677311212,
          0.03625539049084226,
          -0.043177590807606026,
          -0.06293898975106457,
          0.012356070136155061,
          -0.06293898975106457,
          -0.061154243579710145,
          -0.00003735120219987287,
          0.014055963755065222,
          -0.0037673794985778417,
          -0.006035456269581395,
          -0.061154243579710145,
          0.11124567902583811,
          -0.02557271545062502,
          0.007047083128948866,
          -0.006035456269581395,
          -0.09719206337281766,
          -0.061154243579710145,
          -0.012211043452494389,
          -0.06293898975106457,
          0.044873547133233875,
          0.012356070136155061,
          0.012356070136155061,
          -0.04451484707003379,
          -0.061154243579710145,
          -0.05201298433049504,
          0.006423971382909116,
          -0.00003735120219987287,
          -0.006035456269581395,
          0.003123350035672887,
          -0.044649451525753905,
          -0.003667042550364633
         ],
         "yaxis": "y9"
        },
        {
         "legendgroup": "0",
         "line": {
          "color": "#808080"
         },
         "mode": "lines",
         "opacity": 0.1,
         "showlegend": false,
         "type": "scatter",
         "x": [
          "Cambodia",
          "Canada",
          "China",
          "Columbia",
          "Cuba",
          "Dominican-Repub*",
          "Ecuador",
          "El-Salvador",
          "England",
          "France",
          "Germany",
          "Greece",
          "Guatemala",
          "Haiti",
          "Holand-Netherla*",
          "Honduras",
          "Hong",
          "Hungary",
          "India",
          "Iran",
          "Ireland",
          "Italy",
          "Jamaica",
          "Japan",
          "Laos",
          "Mexico",
          "Nicaragua",
          "Outlying-US(Gua*",
          "Peru",
          "Philippines",
          "Poland",
          "Portugal",
          "Puerto-Rico",
          "Scotland",
          "South",
          "Taiwan",
          "Thailand",
          "Trinadad&Tobago",
          "United-States",
          "Vietnam",
          "Yugoslavia"
         ],
         "xaxis": "x9",
         "y": [
          -0.1156485335066876,
          0.030859506724297853,
          -0.025105099948459962,
          0.07194931038860894,
          -0.02375496702166957,
          0.09198487758808058,
          0.07194931038860894,
          0.07935859202515252,
          -0.195776175804485,
          0.01692191851595433,
          -0.01883664486965643,
          -0.03189454160209511,
          0.0691482147307374,
          0.01447780389956134,
          0.0691482147307374,
          0.07194931038860894,
          -0.1156485335066876,
          0.07686731722668241,
          -0.0587078879234845,
          -0.09009703445770767,
          0.07194931038860894,
          -0.12417830702434621,
          0.03137830685450792,
          -0.1399857673502535,
          -0.09009703445770767,
          0.11967073837090936,
          0.07194931038860894,
          0.016095642695332396,
          0.0691482147307374,
          -0.16275984897548815,
          0.01447780389956134,
          0.01447780389956134,
          0.1597498044835253,
          0.07194931038860894,
          -0.057865697663194944,
          -0.061366315751545684,
          -0.1156485335066876,
          -0.09009703445770767,
          -0.0014551960690628724,
          -0.03171416284399234,
          0.020163136580182442
         ],
         "yaxis": "y9"
        },
        {
         "legendgroup": "1",
         "line": {
          "color": "#808080"
         },
         "mode": "lines",
         "opacity": 0.1,
         "showlegend": false,
         "type": "scatter",
         "x": [
          "Cambodia",
          "Canada",
          "China",
          "Columbia",
          "Cuba",
          "Dominican-Repub*",
          "Ecuador",
          "El-Salvador",
          "England",
          "France",
          "Germany",
          "Greece",
          "Guatemala",
          "Haiti",
          "Holand-Netherla*",
          "Honduras",
          "Hong",
          "Hungary",
          "India",
          "Iran",
          "Ireland",
          "Italy",
          "Jamaica",
          "Japan",
          "Laos",
          "Mexico",
          "Nicaragua",
          "Outlying-US(Gua*",
          "Peru",
          "Philippines",
          "Poland",
          "Portugal",
          "Puerto-Rico",
          "Scotland",
          "South",
          "Taiwan",
          "Thailand",
          "Trinadad&Tobago",
          "United-States",
          "Vietnam",
          "Yugoslavia"
         ],
         "xaxis": "x9",
         "y": [
          0.11564853350668765,
          -0.030859506724297853,
          0.02510509994846001,
          -0.07194931038860895,
          0.02375496702166957,
          -0.09198487758808059,
          -0.07194931038860895,
          -0.07935859202515254,
          0.19577617580448503,
          -0.01692191851595433,
          0.018836644869656444,
          0.03189454160209514,
          -0.06914821473073741,
          -0.01447780389956134,
          -0.06914821473073741,
          -0.07194931038860895,
          0.11564853350668765,
          -0.07686731722668243,
          0.05870788792348454,
          0.09009703445770773,
          -0.07194931038860895,
          0.12417830702434621,
          -0.031378306854507904,
          0.13998576735025353,
          0.09009703445770773,
          -0.1196707383709094,
          -0.07194931038860895,
          -0.016095642695332396,
          -0.06914821473073741,
          0.16275984897548823,
          -0.01447780389956134,
          -0.01447780389956134,
          -0.15974980448352527,
          -0.07194931038860895,
          0.05786569766319501,
          0.06136631575154573,
          0.11564853350668765,
          0.09009703445770773,
          0.0014551960690628654,
          0.03171416284399235,
          -0.020163136580182428
         ],
         "yaxis": "y9"
        },
        {
         "legendgroup": "0",
         "line": {
          "color": "#808080"
         },
         "mode": "lines",
         "opacity": 0.1,
         "showlegend": false,
         "type": "scatter",
         "x": [
          "Cambodia",
          "Canada",
          "China",
          "Columbia",
          "Cuba",
          "Dominican-Repub*",
          "Ecuador",
          "El-Salvador",
          "England",
          "France",
          "Germany",
          "Greece",
          "Guatemala",
          "Haiti",
          "Holand-Netherla*",
          "Honduras",
          "Hong",
          "Hungary",
          "India",
          "Iran",
          "Ireland",
          "Italy",
          "Jamaica",
          "Japan",
          "Laos",
          "Mexico",
          "Nicaragua",
          "Outlying-US(Gua*",
          "Peru",
          "Philippines",
          "Poland",
          "Portugal",
          "Puerto-Rico",
          "Scotland",
          "South",
          "Taiwan",
          "Thailand",
          "Trinadad&Tobago",
          "United-States",
          "Vietnam",
          "Yugoslavia"
         ],
         "xaxis": "x9",
         "y": [
          -0.03574135000123685,
          0.03522880123817604,
          0.03709079069878343,
          0.008242771340593376,
          0.019556175489243044,
          0.10845052641040623,
          0.008242771340593376,
          0.04363174484861483,
          -0.135782833233904,
          0.014791347306094105,
          -0.05406984847831943,
          0.033937064538681186,
          0.008281867152374195,
          0.0005578091113325884,
          0.008281867152374195,
          0.008242771340593376,
          -0.03574135000123685,
          0.05076167909625208,
          -0.04734237413130446,
          -0.03884269291602577,
          0.008242771340593376,
          -0.14866146118365295,
          0.019696507028936883,
          -0.09827736262750339,
          -0.03884269291602577,
          0.07221564964218907,
          0.008242771340593376,
          0.003680083943422688,
          0.008281867152374195,
          -0.06539222974455562,
          0.0005578091113325884,
          0.0005578091113325884,
          0.12477037454889042,
          0.008242771340593376,
          -0.020270215984102488,
          -0.05786124049156673,
          -0.03574135000123685,
          -0.03884269291602577,
          -0.0011622731819534993,
          0.03131326814236596,
          0.003782997981479033
         ],
         "yaxis": "y9"
        },
        {
         "legendgroup": "1",
         "line": {
          "color": "#808080"
         },
         "mode": "lines",
         "opacity": 0.1,
         "showlegend": false,
         "type": "scatter",
         "x": [
          "Cambodia",
          "Canada",
          "China",
          "Columbia",
          "Cuba",
          "Dominican-Repub*",
          "Ecuador",
          "El-Salvador",
          "England",
          "France",
          "Germany",
          "Greece",
          "Guatemala",
          "Haiti",
          "Holand-Netherla*",
          "Honduras",
          "Hong",
          "Hungary",
          "India",
          "Iran",
          "Ireland",
          "Italy",
          "Jamaica",
          "Japan",
          "Laos",
          "Mexico",
          "Nicaragua",
          "Outlying-US(Gua*",
          "Peru",
          "Philippines",
          "Poland",
          "Portugal",
          "Puerto-Rico",
          "Scotland",
          "South",
          "Taiwan",
          "Thailand",
          "Trinadad&Tobago",
          "United-States",
          "Vietnam",
          "Yugoslavia"
         ],
         "xaxis": "x9",
         "y": [
          0.035741350001236884,
          -0.03522880123817604,
          -0.03709079069878338,
          -0.008242771340593383,
          -0.01955617548924303,
          -0.10845052641040624,
          -0.008242771340593383,
          -0.043631744848614845,
          0.13578283323390403,
          -0.014791347306094105,
          0.05406984847831943,
          -0.03393706453868117,
          -0.008281867152374209,
          -0.0005578091113326022,
          -0.008281867152374209,
          -0.008242771340593383,
          0.035741350001236884,
          -0.050761679096252135,
          0.0473423741313045,
          0.038842692916025795,
          -0.008242771340593383,
          0.14866146118365295,
          -0.019696507028936897,
          0.09827736262750345,
          0.038842692916025795,
          -0.07221564964218907,
          -0.008242771340593383,
          -0.003680083943422674,
          -0.008281867152374209,
          0.06539222974455566,
          -0.0005578091113326022,
          -0.0005578091113326022,
          -0.12477037454889049,
          -0.008242771340593383,
          0.020270215984102523,
          0.05786124049156678,
          0.035741350001236884,
          0.038842692916025795,
          0.0011622731819534923,
          -0.031313268142365944,
          -0.0037829979814790263
         ],
         "yaxis": "y9"
        },
        {
         "legendgroup": "0",
         "line": {
          "color": "#808080"
         },
         "mode": "lines",
         "opacity": 0.1,
         "showlegend": false,
         "type": "scatter",
         "x": [
          "Cambodia",
          "Canada",
          "China",
          "Columbia",
          "Cuba",
          "Dominican-Repub*",
          "Ecuador",
          "El-Salvador",
          "England",
          "France",
          "Germany",
          "Greece",
          "Guatemala",
          "Haiti",
          "Holand-Netherla*",
          "Honduras",
          "Hong",
          "Hungary",
          "India",
          "Iran",
          "Ireland",
          "Italy",
          "Jamaica",
          "Japan",
          "Laos",
          "Mexico",
          "Nicaragua",
          "Outlying-US(Gua*",
          "Peru",
          "Philippines",
          "Poland",
          "Portugal",
          "Puerto-Rico",
          "Scotland",
          "South",
          "Taiwan",
          "Thailand",
          "Trinadad&Tobago",
          "United-States",
          "Vietnam",
          "Yugoslavia"
         ],
         "xaxis": "x9",
         "y": [
          0.05309916728325189,
          0.032585792008024014,
          0.08796732622575196,
          -0.0434148286671355,
          -0.05419741811647974,
          0.034656748840516505,
          -0.0434148286671355,
          -0.014782302555915394,
          -0.015686423096306176,
          0.013948431034582124,
          -0.043229508205553976,
          0.09893004923006614,
          -0.04790136741849435,
          0.0015008113066349443,
          -0.04790136741849435,
          -0.0434148286671355,
          0.05309916728325189,
          -0.012978892026799319,
          0.022001796797026005,
          0.048125609903863505,
          -0.0434148286671355,
          -0.12440308379051364,
          0.032974535729066515,
          -0.007810371604077722,
          0.048125609903863505,
          -0.0020201616893934377,
          -0.0434148286671355,
          0.010486090499590345,
          -0.04790136741849435,
          -0.00926529142877168,
          0.0015008113066349443,
          0.0015008113066349443,
          0.0966076209868972,
          -0.0434148286671355,
          0.05002554303243681,
          0.017636929275817465,
          0.05309916728325189,
          0.048125609903863505,
          -0.00042263029702593186,
          0.09685978757010623,
          0.014567556972536349
         ],
         "yaxis": "y9"
        },
        {
         "legendgroup": "1",
         "line": {
          "color": "#808080"
         },
         "mode": "lines",
         "opacity": 0.1,
         "showlegend": false,
         "type": "scatter",
         "x": [
          "Cambodia",
          "Canada",
          "China",
          "Columbia",
          "Cuba",
          "Dominican-Repub*",
          "Ecuador",
          "El-Salvador",
          "England",
          "France",
          "Germany",
          "Greece",
          "Guatemala",
          "Haiti",
          "Holand-Netherla*",
          "Honduras",
          "Hong",
          "Hungary",
          "India",
          "Iran",
          "Ireland",
          "Italy",
          "Jamaica",
          "Japan",
          "Laos",
          "Mexico",
          "Nicaragua",
          "Outlying-US(Gua*",
          "Peru",
          "Philippines",
          "Poland",
          "Portugal",
          "Puerto-Rico",
          "Scotland",
          "South",
          "Taiwan",
          "Thailand",
          "Trinadad&Tobago",
          "United-States",
          "Vietnam",
          "Yugoslavia"
         ],
         "xaxis": "x9",
         "y": [
          -0.05309916728325188,
          -0.032585792008024014,
          -0.08796732622575196,
          0.04341482866713545,
          0.05419741811647971,
          -0.03465674884051656,
          0.04341482866713545,
          0.014782302555915349,
          0.015686423096306166,
          -0.013948431034582121,
          0.04322950820555399,
          -0.09893004923006615,
          0.04790136741849428,
          -0.0015008113066349617,
          0.04790136741849428,
          0.04341482866713545,
          -0.05309916728325188,
          0.012978892026799294,
          -0.022001796797026,
          -0.04812560990386351,
          0.04341482866713545,
          0.12440308379051364,
          -0.0329745357290665,
          0.0078103716040777114,
          -0.04812560990386351,
          0.0020201616893933995,
          0.04341482866713545,
          -0.010486090499590334,
          0.04790136741849428,
          0.009265291428771683,
          -0.0015008113066349617,
          -0.0015008113066349617,
          -0.09660762098689722,
          0.04341482866713545,
          -0.05002554303243678,
          -0.01763692927581746,
          -0.05309916728325188,
          -0.04812560990386351,
          0.0004226302970259353,
          -0.09685978757010624,
          -0.014567556972536339
         ],
         "yaxis": "y9"
        },
        {
         "legendgroup": "0",
         "line": {
          "color": "#808080"
         },
         "mode": "lines",
         "opacity": 0.1,
         "showlegend": false,
         "type": "scatter",
         "x": [
          "Cambodia",
          "Canada",
          "China",
          "Columbia",
          "Cuba",
          "Dominican-Repub*",
          "Ecuador",
          "El-Salvador",
          "England",
          "France",
          "Germany",
          "Greece",
          "Guatemala",
          "Haiti",
          "Holand-Netherla*",
          "Honduras",
          "Hong",
          "Hungary",
          "India",
          "Iran",
          "Ireland",
          "Italy",
          "Jamaica",
          "Japan",
          "Laos",
          "Mexico",
          "Nicaragua",
          "Outlying-US(Gua*",
          "Peru",
          "Philippines",
          "Poland",
          "Portugal",
          "Puerto-Rico",
          "Scotland",
          "South",
          "Taiwan",
          "Thailand",
          "Trinadad&Tobago",
          "United-States",
          "Vietnam",
          "Yugoslavia"
         ],
         "xaxis": "x9",
         "y": [
          0.055655893859808,
          0.028843361087141844,
          0.10430507997637686,
          0.020001668864536037,
          -0.02384323566014029,
          0.10019100699023999,
          0.020001668864536037,
          0.053524572480575766,
          -0.05940138001661864,
          0.013296477097872485,
          -0.03548721607414332,
          0.10639805269456944,
          0.020831942553229354,
          0.03957857018663154,
          0.020831942553229354,
          0.020001668864536037,
          0.055655893859808,
          0.08101780198875289,
          -0.006326229558610997,
          0.05874970243010491,
          0.020001668864536037,
          -0.09718127538229494,
          0.06224362151652707,
          -0.04566605402262315,
          0.05874970243010491,
          0.11302129434056628,
          0.020001668864536037,
          0.03324830416168234,
          0.020831942553229354,
          0.0322502553702107,
          0.03957857018663154,
          0.03957857018663154,
          0.17415271712123068,
          0.020001668864536037,
          0.05592160776672993,
          -0.008856673180485962,
          0.055655893859808,
          0.05874970243010491,
          -0.004850539844509182,
          0.10564907883614649,
          0.036831363806807516
         ],
         "yaxis": "y9"
        },
        {
         "legendgroup": "1",
         "line": {
          "color": "#808080"
         },
         "mode": "lines",
         "opacity": 0.1,
         "showlegend": false,
         "type": "scatter",
         "x": [
          "Cambodia",
          "Canada",
          "China",
          "Columbia",
          "Cuba",
          "Dominican-Repub*",
          "Ecuador",
          "El-Salvador",
          "England",
          "France",
          "Germany",
          "Greece",
          "Guatemala",
          "Haiti",
          "Holand-Netherla*",
          "Honduras",
          "Hong",
          "Hungary",
          "India",
          "Iran",
          "Ireland",
          "Italy",
          "Jamaica",
          "Japan",
          "Laos",
          "Mexico",
          "Nicaragua",
          "Outlying-US(Gua*",
          "Peru",
          "Philippines",
          "Poland",
          "Portugal",
          "Puerto-Rico",
          "Scotland",
          "South",
          "Taiwan",
          "Thailand",
          "Trinadad&Tobago",
          "United-States",
          "Vietnam",
          "Yugoslavia"
         ],
         "xaxis": "x9",
         "y": [
          -0.05565589385980798,
          -0.02884336108714184,
          -0.10430507997637685,
          -0.020001668864536082,
          0.023843235660140273,
          -0.10019100699024006,
          -0.020001668864536082,
          -0.05352457248057583,
          0.059401380016618634,
          -0.013296477097872487,
          0.03548721607414333,
          -0.10639805269456945,
          -0.020831942553229406,
          -0.03957857018663156,
          -0.020831942553229406,
          -0.020001668864536082,
          -0.05565589385980798,
          -0.08101780198875295,
          0.006326229558610985,
          -0.05874970243010489,
          -0.020001668864536082,
          0.09718127538229494,
          -0.06224362151652706,
          0.04566605402262316,
          -0.05874970243010489,
          -0.11302129434056632,
          -0.020001668864536082,
          -0.03324830416168235,
          -0.020831942553229406,
          -0.03225025537021068,
          -0.03957857018663156,
          -0.03957857018663156,
          -0.17415271712123073,
          -0.020001668864536082,
          -0.05592160776672991,
          0.008856673180485943,
          -0.05565589385980798,
          -0.05874970243010489,
          0.004850539844509184,
          -0.10564907883614649,
          -0.03683136380680752
         ],
         "yaxis": "y9"
        },
        {
         "legendgroup": "0",
         "line": {
          "color": "#808080"
         },
         "mode": "lines",
         "opacity": 0.1,
         "showlegend": false,
         "type": "scatter",
         "x": [
          "Cambodia",
          "Canada",
          "China",
          "Columbia",
          "Cuba",
          "Dominican-Repub*",
          "Ecuador",
          "El-Salvador",
          "England",
          "France",
          "Germany",
          "Greece",
          "Guatemala",
          "Haiti",
          "Holand-Netherla*",
          "Honduras",
          "Hong",
          "Hungary",
          "India",
          "Iran",
          "Ireland",
          "Italy",
          "Jamaica",
          "Japan",
          "Laos",
          "Mexico",
          "Nicaragua",
          "Outlying-US(Gua*",
          "Peru",
          "Philippines",
          "Poland",
          "Portugal",
          "Puerto-Rico",
          "Scotland",
          "South",
          "Taiwan",
          "Thailand",
          "Trinadad&Tobago",
          "United-States",
          "Vietnam",
          "Yugoslavia"
         ],
         "xaxis": "x9",
         "y": [
          0.10541122695413202,
          0.021753526522085023,
          0.17613309819188636,
          0.09189743167244371,
          -0.042610606908697224,
          0.13888818213217113,
          0.09189743167244371,
          0.09876691800438203,
          0.03595017660247596,
          0.007030830955036593,
          -0.018917281579833356,
          0.14701967661601217,
          0.09407540077735134,
          0.005178066279290239,
          0.09407540077735134,
          0.09189743167244371,
          0.10541122695413202,
          0.04165670323805562,
          0.13945680234523822,
          0.10296700823798689,
          0.09189743167244371,
          -0.04650678535315014,
          0.013500812376341487,
          0.036458408091214284,
          0.10296700823798689,
          0.14387699378769472,
          0.09189743167244371,
          0.004298756117167624,
          0.09407540077735134,
          0.07292111581952193,
          0.005178066279290239,
          0.005178066279290239,
          0.07901570264537448,
          0.09189743167244371,
          0.14461766597790848,
          0.14101991802559957,
          0.10541122695413202,
          0.10296700823798689,
          -0.00783646847299646,
          0.14930548211079026,
          0.004311305005530702
         ],
         "yaxis": "y9"
        },
        {
         "legendgroup": "1",
         "line": {
          "color": "#808080"
         },
         "mode": "lines",
         "opacity": 0.1,
         "showlegend": false,
         "type": "scatter",
         "x": [
          "Cambodia",
          "Canada",
          "China",
          "Columbia",
          "Cuba",
          "Dominican-Repub*",
          "Ecuador",
          "El-Salvador",
          "England",
          "France",
          "Germany",
          "Greece",
          "Guatemala",
          "Haiti",
          "Holand-Netherla*",
          "Honduras",
          "Hong",
          "Hungary",
          "India",
          "Iran",
          "Ireland",
          "Italy",
          "Jamaica",
          "Japan",
          "Laos",
          "Mexico",
          "Nicaragua",
          "Outlying-US(Gua*",
          "Peru",
          "Philippines",
          "Poland",
          "Portugal",
          "Puerto-Rico",
          "Scotland",
          "South",
          "Taiwan",
          "Thailand",
          "Trinadad&Tobago",
          "United-States",
          "Vietnam",
          "Yugoslavia"
         ],
         "xaxis": "x9",
         "y": [
          -0.10541122695413205,
          -0.02175352652208501,
          -0.17613309819188633,
          -0.09189743167244374,
          0.042610606908697196,
          -0.1388881821321712,
          -0.09189743167244374,
          -0.09876691800438206,
          -0.03595017660247593,
          -0.007030830955036593,
          0.018917281579833356,
          -0.1470196766160122,
          -0.09407540077735135,
          -0.0051780662792902665,
          -0.09407540077735135,
          -0.09189743167244374,
          -0.10541122695413205,
          -0.041656703238055634,
          -0.13945680234523822,
          -0.10296700823798692,
          -0.09189743167244374,
          0.04650678535315014,
          -0.013500812376341487,
          -0.03645840809121431,
          -0.10296700823798692,
          -0.14387699378769475,
          -0.09189743167244374,
          -0.004298756117167624,
          -0.09407540077735135,
          -0.07292111581952196,
          -0.0051780662792902665,
          -0.0051780662792902665,
          -0.07901570264537452,
          -0.09189743167244374,
          -0.14461766597790846,
          -0.1410199180255996,
          -0.10541122695413205,
          -0.10296700823798692,
          0.00783646847299646,
          -0.14930548211079026,
          -0.00431130500553073
         ],
         "yaxis": "y9"
        },
        {
         "legendgroup": "0",
         "line": {
          "color": "#808080"
         },
         "mode": "lines",
         "opacity": 0.1,
         "showlegend": false,
         "type": "scatter",
         "x": [
          "Cambodia",
          "Canada",
          "China",
          "Columbia",
          "Cuba",
          "Dominican-Repub*",
          "Ecuador",
          "El-Salvador",
          "England",
          "France",
          "Germany",
          "Greece",
          "Guatemala",
          "Haiti",
          "Holand-Netherla*",
          "Honduras",
          "Hong",
          "Hungary",
          "India",
          "Iran",
          "Ireland",
          "Italy",
          "Jamaica",
          "Japan",
          "Laos",
          "Mexico",
          "Nicaragua",
          "Outlying-US(Gua*",
          "Peru",
          "Philippines",
          "Poland",
          "Portugal",
          "Puerto-Rico",
          "Scotland",
          "South",
          "Taiwan",
          "Thailand",
          "Trinadad&Tobago",
          "United-States",
          "Vietnam",
          "Yugoslavia"
         ],
         "xaxis": "x9",
         "y": [
          -0.0719383483564871,
          0.03565384570239892,
          -0.010584888473885827,
          -0.06077747981831453,
          -0.016031038658508953,
          0.07827744755795975,
          -0.06077747981831453,
          -0.039798558839543294,
          -0.09773347325985868,
          0.021253002556971642,
          -0.019258552728896247,
          0.03677730442317745,
          -0.060552922759347746,
          -0.011280547526464166,
          -0.060552922759347746,
          -0.06077747981831453,
          -0.0719383483564871,
          -0.04189182245196323,
          -0.04852950897205581,
          -0.060482575909351875,
          -0.06077747981831453,
          -0.0354854195831546,
          0.015376910275399669,
          -0.08596204985760347,
          -0.060482575909351875,
          -0.013003512659806406,
          -0.06077747981831453,
          0.008159054739764818,
          -0.060552922759347746,
          -0.06547501010295881,
          -0.011280547526464166,
          -0.011280547526464166,
          0.01698127696034714,
          -0.06077747981831453,
          -0.0038707682395628176,
          -0.05609696566779731,
          -0.0719383483564871,
          -0.060482575909351875,
          0.002047026497674964,
          0.03862087389435566,
          0.005135539170085357
         ],
         "yaxis": "y9"
        },
        {
         "legendgroup": "1",
         "line": {
          "color": "#808080"
         },
         "mode": "lines",
         "opacity": 0.1,
         "showlegend": false,
         "type": "scatter",
         "x": [
          "Cambodia",
          "Canada",
          "China",
          "Columbia",
          "Cuba",
          "Dominican-Repub*",
          "Ecuador",
          "El-Salvador",
          "England",
          "France",
          "Germany",
          "Greece",
          "Guatemala",
          "Haiti",
          "Holand-Netherla*",
          "Honduras",
          "Hong",
          "Hungary",
          "India",
          "Iran",
          "Ireland",
          "Italy",
          "Jamaica",
          "Japan",
          "Laos",
          "Mexico",
          "Nicaragua",
          "Outlying-US(Gua*",
          "Peru",
          "Philippines",
          "Poland",
          "Portugal",
          "Puerto-Rico",
          "Scotland",
          "South",
          "Taiwan",
          "Thailand",
          "Trinadad&Tobago",
          "United-States",
          "Vietnam",
          "Yugoslavia"
         ],
         "xaxis": "x9",
         "y": [
          0.07193834835648713,
          -0.03565384570239891,
          0.010584888473885876,
          0.06077747981831447,
          0.016031038658508953,
          -0.07827744755795979,
          0.06077747981831447,
          0.039798558839543245,
          0.09773347325985868,
          -0.021253002556971635,
          0.019258552728896254,
          -0.03677730442317744,
          0.0605529227593477,
          0.011280547526464159,
          0.0605529227593477,
          0.06077747981831447,
          0.07193834835648713,
          0.0418918224519632,
          0.048529508972055845,
          0.06048257590935191,
          0.06077747981831447,
          0.03548541958315459,
          -0.015376910275399634,
          0.08596204985760351,
          0.06048257590935191,
          0.013003512659806343,
          0.06077747981831447,
          -0.008159054739764818,
          0.0605529227593477,
          0.06547501010295886,
          0.011280547526464159,
          0.011280547526464159,
          -0.01698127696034716,
          0.06077747981831447,
          0.003870768239562866,
          0.05609696566779736,
          0.07193834835648713,
          0.06048257590935191,
          -0.002047026497674957,
          -0.038620873894355624,
          -0.00513553917008535
         ],
         "yaxis": "y9"
        },
        {
         "legendgroup": "0",
         "line": {
          "color": "#808080"
         },
         "mode": "lines",
         "opacity": 0.1,
         "showlegend": false,
         "type": "scatter",
         "x": [
          "Cambodia",
          "Canada",
          "China",
          "Columbia",
          "Cuba",
          "Dominican-Repub*",
          "Ecuador",
          "El-Salvador",
          "England",
          "France",
          "Germany",
          "Greece",
          "Guatemala",
          "Haiti",
          "Holand-Netherla*",
          "Honduras",
          "Hong",
          "Hungary",
          "India",
          "Iran",
          "Ireland",
          "Italy",
          "Jamaica",
          "Japan",
          "Laos",
          "Mexico",
          "Nicaragua",
          "Outlying-US(Gua*",
          "Peru",
          "Philippines",
          "Poland",
          "Portugal",
          "Puerto-Rico",
          "Scotland",
          "South",
          "Taiwan",
          "Thailand",
          "Trinadad&Tobago",
          "United-States",
          "Vietnam",
          "Yugoslavia"
         ],
         "xaxis": "x9",
         "y": [
          0.08667400835237155,
          0.03200435709197384,
          0.11646711530847059,
          0.04600789235428984,
          -0.02178086310658907,
          0.1084758845580192,
          0.04600789235428984,
          0.06200658626105708,
          -0.0619890302387215,
          0.012389035642340451,
          0.016969194393093037,
          0.10117734838128437,
          0.0429767285469076,
          -0.014445019105141357,
          0.0429767285469076,
          0.04600789235428984,
          0.08667400835237155,
          -0.007231928700991638,
          0.07887878895868687,
          0.08209754048131564,
          0.04600789235428984,
          -0.03712686779590817,
          0.016760061946804412,
          0.0150986588421613,
          0.08209754048131564,
          0.0972608018409071,
          0.04600789235428984,
          0.00891450434281113,
          0.0429767285469076,
          0.052305178629019955,
          -0.014445019105141357,
          -0.014445019105141357,
          0.13714771196851355,
          0.04600789235428984,
          0.10092543080712074,
          0.08471155031894348,
          0.08667400835237155,
          0.08209754048131564,
          -0.00535229784734341,
          0.09407210684855864,
          -0.0009807272716957222
         ],
         "yaxis": "y9"
        },
        {
         "legendgroup": "1",
         "line": {
          "color": "#808080"
         },
         "mode": "lines",
         "opacity": 0.1,
         "showlegend": false,
         "type": "scatter",
         "x": [
          "Cambodia",
          "Canada",
          "China",
          "Columbia",
          "Cuba",
          "Dominican-Repub*",
          "Ecuador",
          "El-Salvador",
          "England",
          "France",
          "Germany",
          "Greece",
          "Guatemala",
          "Haiti",
          "Holand-Netherla*",
          "Honduras",
          "Hong",
          "Hungary",
          "India",
          "Iran",
          "Ireland",
          "Italy",
          "Jamaica",
          "Japan",
          "Laos",
          "Mexico",
          "Nicaragua",
          "Outlying-US(Gua*",
          "Peru",
          "Philippines",
          "Poland",
          "Portugal",
          "Puerto-Rico",
          "Scotland",
          "South",
          "Taiwan",
          "Thailand",
          "Trinadad&Tobago",
          "United-States",
          "Vietnam",
          "Yugoslavia"
         ],
         "xaxis": "x9",
         "y": [
          -0.08667400835237155,
          -0.03200435709197384,
          -0.11646711530847059,
          -0.04600789235428981,
          0.021780863106589082,
          -0.10847588455801917,
          -0.04600789235428981,
          -0.06200658626105705,
          0.0619890302387215,
          -0.012389035642340451,
          -0.01696919439309305,
          -0.10117734838128434,
          -0.04297672854690757,
          0.014445019105141371,
          -0.04297672854690757,
          -0.04600789235428981,
          -0.08667400835237155,
          0.00723192870099168,
          -0.07887878895868687,
          -0.08209754048131564,
          -0.04600789235428981,
          0.03712686779590815,
          -0.01676006194680439,
          -0.015098658842161286,
          -0.08209754048131564,
          -0.09726080184090707,
          -0.04600789235428981,
          -0.00891450434281113,
          -0.04297672854690757,
          -0.052305178629019934,
          0.014445019105141371,
          0.014445019105141371,
          -0.13714771196851352,
          -0.04600789235428981,
          -0.10092543080712074,
          -0.08471155031894348,
          -0.08667400835237155,
          -0.08209754048131564,
          0.00535229784734341,
          -0.09407210684855863,
          0.000980727271695736
         ],
         "yaxis": "y9"
        },
        {
         "legendgroup": "0",
         "line": {
          "color": "#808080"
         },
         "mode": "lines",
         "opacity": 0.1,
         "showlegend": false,
         "type": "scatter",
         "x": [
          "Cambodia",
          "Canada",
          "China",
          "Columbia",
          "Cuba",
          "Dominican-Repub*",
          "Ecuador",
          "El-Salvador",
          "England",
          "France",
          "Germany",
          "Greece",
          "Guatemala",
          "Haiti",
          "Holand-Netherla*",
          "Honduras",
          "Hong",
          "Hungary",
          "India",
          "Iran",
          "Ireland",
          "Italy",
          "Jamaica",
          "Japan",
          "Laos",
          "Mexico",
          "Nicaragua",
          "Outlying-US(Gua*",
          "Peru",
          "Philippines",
          "Poland",
          "Portugal",
          "Puerto-Rico",
          "Scotland",
          "South",
          "Taiwan",
          "Thailand",
          "Trinadad&Tobago",
          "United-States",
          "Vietnam",
          "Yugoslavia"
         ],
         "xaxis": "x9",
         "y": [
          -0.10742627249174316,
          0.03295589090129317,
          -0.012473150698069,
          0.07417555610017978,
          0.016880645221945628,
          0.15516284413618422,
          0.07417555610017978,
          0.0908438390925444,
          -0.10083699594639653,
          0.013379786101276034,
          0.007416015751068525,
          -0.06586769067209299,
          0.07204820476672649,
          0.01346390963077522,
          0.07204820476672649,
          0.07417555610017978,
          -0.10742627249174316,
          -0.013374891700777602,
          -0.06637809663029409,
          -0.11062437638980342,
          0.07417555610017978,
          -0.0778722254553254,
          0.018599135266189407,
          -0.13131401181623623,
          -0.11062437638980342,
          0.12772539458438079,
          0.07417555610017978,
          0.01562797018120038,
          0.07204820476672649,
          -0.1234823867559586,
          0.01346390963077522,
          0.01346390963077522,
          0.1518215450431506,
          0.07417555610017978,
          -0.04014856027722608,
          -0.06895207277703513,
          -0.10742627249174316,
          -0.11062437638980342,
          -0.0025458147288478505,
          -0.07164044691895903,
          0.01761161977672422
         ],
         "yaxis": "y9"
        },
        {
         "legendgroup": "1",
         "line": {
          "color": "#808080"
         },
         "mode": "lines",
         "opacity": 0.1,
         "showlegend": false,
         "type": "scatter",
         "x": [
          "Cambodia",
          "Canada",
          "China",
          "Columbia",
          "Cuba",
          "Dominican-Repub*",
          "Ecuador",
          "El-Salvador",
          "England",
          "France",
          "Germany",
          "Greece",
          "Guatemala",
          "Haiti",
          "Holand-Netherla*",
          "Honduras",
          "Hong",
          "Hungary",
          "India",
          "Iran",
          "Ireland",
          "Italy",
          "Jamaica",
          "Japan",
          "Laos",
          "Mexico",
          "Nicaragua",
          "Outlying-US(Gua*",
          "Peru",
          "Philippines",
          "Poland",
          "Portugal",
          "Puerto-Rico",
          "Scotland",
          "South",
          "Taiwan",
          "Thailand",
          "Trinadad&Tobago",
          "United-States",
          "Vietnam",
          "Yugoslavia"
         ],
         "xaxis": "x9",
         "y": [
          0.10742627249174318,
          -0.03295589090129315,
          0.012473150698068994,
          -0.07417555610017985,
          -0.016880645221945614,
          -0.15516284413618425,
          -0.07417555610017985,
          -0.09084383909254447,
          0.1008369959463965,
          -0.01337978610127602,
          -0.007416015751068525,
          0.06586769067209299,
          -0.07204820476672659,
          -0.013463909630775206,
          -0.07204820476672659,
          -0.07417555610017985,
          0.10742627249174318,
          0.013374891700777589,
          0.06637809663029408,
          0.11062437638980344,
          -0.07417555610017985,
          0.07787222545532538,
          -0.01859913526618942,
          0.13131401181623625,
          0.11062437638980344,
          -0.12772539458438087,
          -0.07417555610017985,
          -0.01562797018120038,
          -0.07204820476672659,
          0.1234823867559586,
          -0.013463909630775206,
          -0.013463909630775206,
          -0.1518215450431506,
          -0.07417555610017985,
          0.04014856027722608,
          0.0689520727770351,
          0.10742627249174318,
          0.11062437638980344,
          0.0025458147288478644,
          0.07164044691895907,
          -0.01761161977672422
         ],
         "yaxis": "y9"
        },
        {
         "legendgroup": "0",
         "line": {
          "color": "#808080"
         },
         "mode": "lines",
         "opacity": 0.1,
         "showlegend": false,
         "type": "scatter",
         "x": [
          "Cambodia",
          "Canada",
          "China",
          "Columbia",
          "Cuba",
          "Dominican-Repub*",
          "Ecuador",
          "El-Salvador",
          "England",
          "France",
          "Germany",
          "Greece",
          "Guatemala",
          "Haiti",
          "Holand-Netherla*",
          "Honduras",
          "Hong",
          "Hungary",
          "India",
          "Iran",
          "Ireland",
          "Italy",
          "Jamaica",
          "Japan",
          "Laos",
          "Mexico",
          "Nicaragua",
          "Outlying-US(Gua*",
          "Peru",
          "Philippines",
          "Poland",
          "Portugal",
          "Puerto-Rico",
          "Scotland",
          "South",
          "Taiwan",
          "Thailand",
          "Trinadad&Tobago",
          "United-States",
          "Vietnam",
          "Yugoslavia"
         ],
         "xaxis": "x9",
         "y": [
          -0.07756118507950825,
          0.028935539503679775,
          -0.08954379801876977,
          0.1005247623336045,
          0.017795523241306233,
          0.14887670489761817,
          0.1005247623336045,
          0.10433339713419812,
          -0.06838710646020994,
          0.012659190822514765,
          -0.017327344288774957,
          0.028019716612829648,
          0.1003965617814194,
          0.04401249438308552,
          0.1003965617814194,
          0.1005247623336045,
          -0.07756118507950825,
          0.008813724160415287,
          -0.12767211916730192,
          -0.06303044778703745,
          0.1005247623336045,
          -0.12756698809292177,
          0.04254385293577981,
          -0.1514864587782479,
          -0.06303044778703745,
          0.160337616312754,
          0.1005247623336045,
          0.03047523891702625,
          0.1003965617814194,
          -0.12132205465095411,
          0.04401249438308552,
          0.04401249438308552,
          0.19435668280917706,
          0.1005247623336045,
          -0.08170082467230017,
          -0.12882014562663788,
          -0.07756118507950825,
          -0.06303044778703745,
          -0.003711754825398872,
          0.02832433438013024,
          0.03934841841474612
         ],
         "yaxis": "y9"
        },
        {
         "legendgroup": "1",
         "line": {
          "color": "#808080"
         },
         "mode": "lines",
         "opacity": 0.1,
         "showlegend": false,
         "type": "scatter",
         "x": [
          "Cambodia",
          "Canada",
          "China",
          "Columbia",
          "Cuba",
          "Dominican-Repub*",
          "Ecuador",
          "El-Salvador",
          "England",
          "France",
          "Germany",
          "Greece",
          "Guatemala",
          "Haiti",
          "Holand-Netherla*",
          "Honduras",
          "Hong",
          "Hungary",
          "India",
          "Iran",
          "Ireland",
          "Italy",
          "Jamaica",
          "Japan",
          "Laos",
          "Mexico",
          "Nicaragua",
          "Outlying-US(Gua*",
          "Peru",
          "Philippines",
          "Poland",
          "Portugal",
          "Puerto-Rico",
          "Scotland",
          "South",
          "Taiwan",
          "Thailand",
          "Trinadad&Tobago",
          "United-States",
          "Vietnam",
          "Yugoslavia"
         ],
         "xaxis": "x9",
         "y": [
          0.07756118507950827,
          -0.028935539503679775,
          0.08954379801876977,
          -0.1005247623336045,
          -0.01779552324130626,
          -0.14887670489761817,
          -0.1005247623336045,
          -0.10433339713419809,
          0.06838710646020993,
          -0.012659190822514765,
          0.017327344288774943,
          -0.028019716612829676,
          -0.10039656178141937,
          -0.04401249438308555,
          -0.10039656178141937,
          -0.1005247623336045,
          0.07756118507950827,
          -0.00881372416041526,
          0.12767211916730192,
          0.06303044778703745,
          -0.1005247623336045,
          0.12756698809292172,
          -0.042543852935779836,
          0.1514864587782479,
          0.06303044778703745,
          -0.160337616312754,
          -0.1005247623336045,
          -0.03047523891702625,
          -0.10039656178141937,
          0.12132205465095414,
          -0.04401249438308555,
          -0.04401249438308555,
          -0.19435668280917706,
          -0.1005247623336045,
          0.08170082467230019,
          0.12882014562663788,
          0.07756118507950827,
          0.06303044778703745,
          0.003711754825398872,
          -0.028324334380130267,
          -0.03934841841474615
         ],
         "yaxis": "y9"
        },
        {
         "legendgroup": "0",
         "legendgrouptitle": {
          "text": "0"
         },
         "name": "Capital Ga*",
         "type": "scatter",
         "x": [
          0,
          99999
         ],
         "xaxis": "x10",
         "y": [
          0.31640145796717756,
          -0.3164014580021468
         ],
         "yaxis": "y10"
        },
        {
         "legendgroup": "1",
         "legendgrouptitle": {
          "text": "1"
         },
         "name": "Capital Ga*",
         "type": "scatter",
         "x": [
          0,
          99999
         ],
         "xaxis": "x10",
         "y": [
          -0.31640145796717756,
          0.3164014580021468
         ],
         "yaxis": "y10"
        },
        {
         "legendgroup": "0",
         "line": {
          "color": "#808080"
         },
         "mode": "lines",
         "opacity": 0.1,
         "showlegend": false,
         "type": "scatter",
         "x": [
          0,
          99999
         ],
         "xaxis": "x10",
         "y": [
          0.31334861231390493,
          -0.3133486126603379
         ],
         "yaxis": "y10"
        },
        {
         "legendgroup": "1",
         "line": {
          "color": "#808080"
         },
         "mode": "lines",
         "opacity": 0.1,
         "showlegend": false,
         "type": "scatter",
         "x": [
          0,
          99999
         ],
         "xaxis": "x10",
         "y": [
          -0.31334861231390493,
          0.3133486126603379
         ],
         "yaxis": "y10"
        },
        {
         "legendgroup": "0",
         "line": {
          "color": "#808080"
         },
         "mode": "lines",
         "opacity": 0.1,
         "showlegend": false,
         "type": "scatter",
         "x": [
          0,
          99999
         ],
         "xaxis": "x10",
         "y": [
          0.31831457610648933,
          -0.3183145764584126
         ],
         "yaxis": "y10"
        },
        {
         "legendgroup": "1",
         "line": {
          "color": "#808080"
         },
         "mode": "lines",
         "opacity": 0.1,
         "showlegend": false,
         "type": "scatter",
         "x": [
          0,
          99999
         ],
         "xaxis": "x10",
         "y": [
          -0.31831457610648933,
          0.3183145764584126
         ],
         "yaxis": "y10"
        },
        {
         "legendgroup": "0",
         "line": {
          "color": "#808080"
         },
         "mode": "lines",
         "opacity": 0.1,
         "showlegend": false,
         "type": "scatter",
         "x": [
          0,
          99999
         ],
         "xaxis": "x10",
         "y": [
          0.3178183376811028,
          -0.3178183380324775
         ],
         "yaxis": "y10"
        },
        {
         "legendgroup": "1",
         "line": {
          "color": "#808080"
         },
         "mode": "lines",
         "opacity": 0.1,
         "showlegend": false,
         "type": "scatter",
         "x": [
          0,
          99999
         ],
         "xaxis": "x10",
         "y": [
          -0.3178183376811028,
          0.3178183380324775
         ],
         "yaxis": "y10"
        },
        {
         "legendgroup": "0",
         "line": {
          "color": "#808080"
         },
         "mode": "lines",
         "opacity": 0.1,
         "showlegend": false,
         "type": "scatter",
         "x": [
          0,
          99999
         ],
         "xaxis": "x10",
         "y": [
          0.32466675401835454,
          -0.32466675437730064
         ],
         "yaxis": "y10"
        },
        {
         "legendgroup": "1",
         "line": {
          "color": "#808080"
         },
         "mode": "lines",
         "opacity": 0.1,
         "showlegend": false,
         "type": "scatter",
         "x": [
          0,
          99999
         ],
         "xaxis": "x10",
         "y": [
          -0.32466675401835454,
          0.32466675437730064
         ],
         "yaxis": "y10"
        },
        {
         "legendgroup": "0",
         "line": {
          "color": "#808080"
         },
         "mode": "lines",
         "opacity": 0.1,
         "showlegend": false,
         "type": "scatter",
         "x": [
          0,
          99999
         ],
         "xaxis": "x10",
         "y": [
          0.3110658158348839,
          -0.31106581617879303
         ],
         "yaxis": "y10"
        },
        {
         "legendgroup": "1",
         "line": {
          "color": "#808080"
         },
         "mode": "lines",
         "opacity": 0.1,
         "showlegend": false,
         "type": "scatter",
         "x": [
          0,
          99999
         ],
         "xaxis": "x10",
         "y": [
          -0.3110658158348839,
          0.31106581617879303
         ],
         "yaxis": "y10"
        },
        {
         "legendgroup": "0",
         "line": {
          "color": "#808080"
         },
         "mode": "lines",
         "opacity": 0.1,
         "showlegend": false,
         "type": "scatter",
         "x": [
          0,
          99999
         ],
         "xaxis": "x10",
         "y": [
          0.3190879227337738,
          -0.31908792308655204
         ],
         "yaxis": "y10"
        },
        {
         "legendgroup": "1",
         "line": {
          "color": "#808080"
         },
         "mode": "lines",
         "opacity": 0.1,
         "showlegend": false,
         "type": "scatter",
         "x": [
          0,
          99999
         ],
         "xaxis": "x10",
         "y": [
          -0.3190879227337738,
          0.31908792308655204
         ],
         "yaxis": "y10"
        },
        {
         "legendgroup": "0",
         "line": {
          "color": "#808080"
         },
         "mode": "lines",
         "opacity": 0.1,
         "showlegend": false,
         "type": "scatter",
         "x": [
          0,
          99999
         ],
         "xaxis": "x10",
         "y": [
          0.31258464010752784,
          -0.3125846404531162
         ],
         "yaxis": "y10"
        },
        {
         "legendgroup": "1",
         "line": {
          "color": "#808080"
         },
         "mode": "lines",
         "opacity": 0.1,
         "showlegend": false,
         "type": "scatter",
         "x": [
          0,
          99999
         ],
         "xaxis": "x10",
         "y": [
          -0.31258464010752784,
          0.3125846404531162
         ],
         "yaxis": "y10"
        },
        {
         "legendgroup": "0",
         "line": {
          "color": "#808080"
         },
         "mode": "lines",
         "opacity": 0.1,
         "showlegend": false,
         "type": "scatter",
         "x": [
          0,
          99999
         ],
         "xaxis": "x10",
         "y": [
          0.31588481544156854,
          -0.3158848157908055
         ],
         "yaxis": "y10"
        },
        {
         "legendgroup": "1",
         "line": {
          "color": "#808080"
         },
         "mode": "lines",
         "opacity": 0.1,
         "showlegend": false,
         "type": "scatter",
         "x": [
          0,
          99999
         ],
         "xaxis": "x10",
         "y": [
          -0.31588481544156854,
          0.3158848157908055
         ],
         "yaxis": "y10"
        },
        {
         "legendgroup": "0",
         "line": {
          "color": "#808080"
         },
         "mode": "lines",
         "opacity": 0.1,
         "showlegend": false,
         "type": "scatter",
         "x": [
          0,
          99999
         ],
         "xaxis": "x10",
         "y": [
          0.3162008216973749,
          -0.31620082204696126
         ],
         "yaxis": "y10"
        },
        {
         "legendgroup": "1",
         "line": {
          "color": "#808080"
         },
         "mode": "lines",
         "opacity": 0.1,
         "showlegend": false,
         "type": "scatter",
         "x": [
          0,
          99999
         ],
         "xaxis": "x10",
         "y": [
          -0.3162008216973749,
          0.31620082204696126
         ],
         "yaxis": "y10"
        },
        {
         "legendgroup": "0",
         "line": {
          "color": "#808080"
         },
         "mode": "lines",
         "opacity": 0.1,
         "showlegend": false,
         "type": "scatter",
         "x": [
          0,
          99999
         ],
         "xaxis": "x10",
         "y": [
          0.32049283791966343,
          -0.320492838273995
         ],
         "yaxis": "y10"
        },
        {
         "legendgroup": "1",
         "line": {
          "color": "#808080"
         },
         "mode": "lines",
         "opacity": 0.1,
         "showlegend": false,
         "type": "scatter",
         "x": [
          0,
          99999
         ],
         "xaxis": "x10",
         "y": [
          -0.32049283791966343,
          0.320492838273995
         ],
         "yaxis": "y10"
        },
        {
         "legendgroup": "0",
         "legendgrouptitle": {
          "text": "0"
         },
         "name": "Capital Lo*",
         "type": "scatter",
         "x": [
          0,
          4356
         ],
         "xaxis": "x11",
         "y": [
          0.079381686670997,
          -0.0793816866797704
         ],
         "yaxis": "y11"
        },
        {
         "legendgroup": "1",
         "legendgrouptitle": {
          "text": "1"
         },
         "name": "Capital Lo*",
         "type": "scatter",
         "x": [
          0,
          4356
         ],
         "xaxis": "x11",
         "y": [
          -0.079381686670997,
          0.0793816866797704
         ],
         "yaxis": "y11"
        },
        {
         "legendgroup": "0",
         "line": {
          "color": "#808080"
         },
         "mode": "lines",
         "opacity": 0.1,
         "showlegend": false,
         "type": "scatter",
         "x": [
          0,
          4356
         ],
         "xaxis": "x11",
         "y": [
          0.07805964143317987,
          -0.0780596415194813
         ],
         "yaxis": "y11"
        },
        {
         "legendgroup": "1",
         "line": {
          "color": "#808080"
         },
         "mode": "lines",
         "opacity": 0.1,
         "showlegend": false,
         "type": "scatter",
         "x": [
          0,
          4356
         ],
         "xaxis": "x11",
         "y": [
          -0.07805964143317987,
          0.0780596415194813
         ],
         "yaxis": "y11"
        },
        {
         "legendgroup": "0",
         "line": {
          "color": "#808080"
         },
         "mode": "lines",
         "opacity": 0.1,
         "showlegend": false,
         "type": "scatter",
         "x": [
          0,
          4356
         ],
         "xaxis": "x11",
         "y": [
          0.07700658373705084,
          -0.07700658382218804
         ],
         "yaxis": "y11"
        },
        {
         "legendgroup": "1",
         "line": {
          "color": "#808080"
         },
         "mode": "lines",
         "opacity": 0.1,
         "showlegend": false,
         "type": "scatter",
         "x": [
          0,
          4356
         ],
         "xaxis": "x11",
         "y": [
          -0.07700658373705084,
          0.07700658382218804
         ],
         "yaxis": "y11"
        },
        {
         "legendgroup": "0",
         "line": {
          "color": "#808080"
         },
         "mode": "lines",
         "opacity": 0.1,
         "showlegend": false,
         "type": "scatter",
         "x": [
          0,
          4356
         ],
         "xaxis": "x11",
         "y": [
          0.0800161330157285,
          -0.08001613310419302
         ],
         "yaxis": "y11"
        },
        {
         "legendgroup": "1",
         "line": {
          "color": "#808080"
         },
         "mode": "lines",
         "opacity": 0.1,
         "showlegend": false,
         "type": "scatter",
         "x": [
          0,
          4356
         ],
         "xaxis": "x11",
         "y": [
          -0.0800161330157285,
          0.08001613310419302
         ],
         "yaxis": "y11"
        },
        {
         "legendgroup": "0",
         "line": {
          "color": "#808080"
         },
         "mode": "lines",
         "opacity": 0.1,
         "showlegend": false,
         "type": "scatter",
         "x": [
          0,
          4356
         ],
         "xaxis": "x11",
         "y": [
          0.07704538108972732,
          -0.0770453811749074
         ],
         "yaxis": "y11"
        },
        {
         "legendgroup": "1",
         "line": {
          "color": "#808080"
         },
         "mode": "lines",
         "opacity": 0.1,
         "showlegend": false,
         "type": "scatter",
         "x": [
          0,
          4356
         ],
         "xaxis": "x11",
         "y": [
          -0.07704538108972732,
          0.0770453811749074
         ],
         "yaxis": "y11"
        },
        {
         "legendgroup": "0",
         "line": {
          "color": "#808080"
         },
         "mode": "lines",
         "opacity": 0.1,
         "showlegend": false,
         "type": "scatter",
         "x": [
          0,
          4356
         ],
         "xaxis": "x11",
         "y": [
          0.0805110057548616,
          -0.08051100584387323
         ],
         "yaxis": "y11"
        },
        {
         "legendgroup": "1",
         "line": {
          "color": "#808080"
         },
         "mode": "lines",
         "opacity": 0.1,
         "showlegend": false,
         "type": "scatter",
         "x": [
          0,
          4356
         ],
         "xaxis": "x11",
         "y": [
          -0.0805110057548616,
          0.08051100584387323
         ],
         "yaxis": "y11"
        },
        {
         "legendgroup": "0",
         "line": {
          "color": "#808080"
         },
         "mode": "lines",
         "opacity": 0.1,
         "showlegend": false,
         "type": "scatter",
         "x": [
          0,
          4356
         ],
         "xaxis": "x11",
         "y": [
          0.07980306067264113,
          -0.07980306076087008
         ],
         "yaxis": "y11"
        },
        {
         "legendgroup": "1",
         "line": {
          "color": "#808080"
         },
         "mode": "lines",
         "opacity": 0.1,
         "showlegend": false,
         "type": "scatter",
         "x": [
          0,
          4356
         ],
         "xaxis": "x11",
         "y": [
          -0.07980306067264113,
          0.07980306076087008
         ],
         "yaxis": "y11"
        },
        {
         "legendgroup": "0",
         "line": {
          "color": "#808080"
         },
         "mode": "lines",
         "opacity": 0.1,
         "showlegend": false,
         "type": "scatter",
         "x": [
          0,
          4356
         ],
         "xaxis": "x11",
         "y": [
          0.07955970967076394,
          -0.07955970975872383
         ],
         "yaxis": "y11"
        },
        {
         "legendgroup": "1",
         "line": {
          "color": "#808080"
         },
         "mode": "lines",
         "opacity": 0.1,
         "showlegend": false,
         "type": "scatter",
         "x": [
          0,
          4356
         ],
         "xaxis": "x11",
         "y": [
          -0.07955970967076394,
          0.07955970975872383
         ],
         "yaxis": "y11"
        },
        {
         "legendgroup": "0",
         "line": {
          "color": "#808080"
         },
         "mode": "lines",
         "opacity": 0.1,
         "showlegend": false,
         "type": "scatter",
         "x": [
          0,
          4356
         ],
         "xaxis": "x11",
         "y": [
          0.07966284461759962,
          -0.07966284470567353
         ],
         "yaxis": "y11"
        },
        {
         "legendgroup": "1",
         "line": {
          "color": "#808080"
         },
         "mode": "lines",
         "opacity": 0.1,
         "showlegend": false,
         "type": "scatter",
         "x": [
          0,
          4356
         ],
         "xaxis": "x11",
         "y": [
          -0.07966284461759962,
          0.07966284470567353
         ],
         "yaxis": "y11"
        },
        {
         "legendgroup": "0",
         "line": {
          "color": "#808080"
         },
         "mode": "lines",
         "opacity": 0.1,
         "showlegend": false,
         "type": "scatter",
         "x": [
          0,
          4356
         ],
         "xaxis": "x11",
         "y": [
          0.07736350761516995,
          -0.07736350770070173
         ],
         "yaxis": "y11"
        },
        {
         "legendgroup": "1",
         "line": {
          "color": "#808080"
         },
         "mode": "lines",
         "opacity": 0.1,
         "showlegend": false,
         "type": "scatter",
         "x": [
          0,
          4356
         ],
         "xaxis": "x11",
         "y": [
          -0.07736350761516995,
          0.07736350770070173
         ],
         "yaxis": "y11"
        },
        {
         "legendgroup": "0",
         "line": {
          "color": "#808080"
         },
         "mode": "lines",
         "opacity": 0.1,
         "showlegend": false,
         "type": "scatter",
         "x": [
          0,
          4356
         ],
         "xaxis": "x11",
         "y": [
          0.07630812622491798,
          -0.07630812630928296
         ],
         "yaxis": "y11"
        },
        {
         "legendgroup": "1",
         "line": {
          "color": "#808080"
         },
         "mode": "lines",
         "opacity": 0.1,
         "showlegend": false,
         "type": "scatter",
         "x": [
          0,
          4356
         ],
         "xaxis": "x11",
         "y": [
          -0.07630812622491798,
          0.07630812630928296
         ],
         "yaxis": "y11"
        }
       ],
       "layout": {
        "annotations": [
         {
          "font": {
           "size": 16
          },
          "showarrow": false,
          "text": "Age",
          "x": 0.225,
          "xanchor": "center",
          "xref": "paper",
          "y": 0.9999999999999999,
          "yanchor": "bottom",
          "yref": "paper"
         },
         {
          "font": {
           "size": 16
          },
          "showarrow": false,
          "text": "Workclass",
          "x": 0.775,
          "xanchor": "center",
          "xref": "paper",
          "y": 0.9999999999999999,
          "yanchor": "bottom",
          "yref": "paper"
         },
         {
          "font": {
           "size": 16
          },
          "showarrow": false,
          "text": "Education",
          "x": 0.225,
          "xanchor": "center",
          "xref": "paper",
          "y": 0.8194444444444444,
          "yanchor": "bottom",
          "yref": "paper"
         },
         {
          "font": {
           "size": 16
          },
          "showarrow": false,
          "text": "Occupation",
          "x": 0.775,
          "xanchor": "center",
          "xref": "paper",
          "y": 0.8194444444444444,
          "yanchor": "bottom",
          "yref": "paper"
         },
         {
          "font": {
           "size": 16
          },
          "showarrow": false,
          "text": "Relationship",
          "x": 0.225,
          "xanchor": "center",
          "xref": "paper",
          "y": 0.638888888888889,
          "yanchor": "bottom",
          "yref": "paper"
         },
         {
          "font": {
           "size": 16
          },
          "showarrow": false,
          "text": "Race",
          "x": 0.775,
          "xanchor": "center",
          "xref": "paper",
          "y": 0.638888888888889,
          "yanchor": "bottom",
          "yref": "paper"
         },
         {
          "font": {
           "size": 16
          },
          "showarrow": false,
          "text": "Sex",
          "x": 0.225,
          "xanchor": "center",
          "xref": "paper",
          "y": 0.4583333333333333,
          "yanchor": "bottom",
          "yref": "paper"
         },
         {
          "font": {
           "size": 16
          },
          "showarrow": false,
          "text": "Hours per week",
          "x": 0.775,
          "xanchor": "center",
          "xref": "paper",
          "y": 0.4583333333333333,
          "yanchor": "bottom",
          "yref": "paper"
         },
         {
          "font": {
           "size": 16
          },
          "showarrow": false,
          "text": "Country",
          "x": 0.225,
          "xanchor": "center",
          "xref": "paper",
          "y": 0.2777777777777778,
          "yanchor": "bottom",
          "yref": "paper"
         },
         {
          "font": {
           "size": 16
          },
          "showarrow": false,
          "text": "Capital Gain",
          "x": 0.775,
          "xanchor": "center",
          "xref": "paper",
          "y": 0.2777777777777778,
          "yanchor": "bottom",
          "yref": "paper"
         },
         {
          "font": {
           "size": 16
          },
          "showarrow": false,
          "text": "Capital Loss",
          "x": 0.225,
          "xanchor": "center",
          "xref": "paper",
          "y": 0.09722222222222222,
          "yanchor": "bottom",
          "yref": "paper"
         }
        ],
        "height": 1560,
        "template": {
         "data": {
          "bar": [
           {
            "error_x": {
             "color": "#2a3f5f"
            },
            "error_y": {
             "color": "#2a3f5f"
            },
            "marker": {
             "line": {
              "color": "#E5ECF6",
              "width": 0.5
             },
             "pattern": {
              "fillmode": "overlay",
              "size": 10,
              "solidity": 0.2
             }
            },
            "type": "bar"
           }
          ],
          "barpolar": [
           {
            "marker": {
             "line": {
              "color": "#E5ECF6",
              "width": 0.5
             },
             "pattern": {
              "fillmode": "overlay",
              "size": 10,
              "solidity": 0.2
             }
            },
            "type": "barpolar"
           }
          ],
          "carpet": [
           {
            "aaxis": {
             "endlinecolor": "#2a3f5f",
             "gridcolor": "white",
             "linecolor": "white",
             "minorgridcolor": "white",
             "startlinecolor": "#2a3f5f"
            },
            "baxis": {
             "endlinecolor": "#2a3f5f",
             "gridcolor": "white",
             "linecolor": "white",
             "minorgridcolor": "white",
             "startlinecolor": "#2a3f5f"
            },
            "type": "carpet"
           }
          ],
          "choropleth": [
           {
            "colorbar": {
             "outlinewidth": 0,
             "ticks": ""
            },
            "type": "choropleth"
           }
          ],
          "contour": [
           {
            "colorbar": {
             "outlinewidth": 0,
             "ticks": ""
            },
            "colorscale": [
             [
              0,
              "#0d0887"
             ],
             [
              0.1111111111111111,
              "#46039f"
             ],
             [
              0.2222222222222222,
              "#7201a8"
             ],
             [
              0.3333333333333333,
              "#9c179e"
             ],
             [
              0.4444444444444444,
              "#bd3786"
             ],
             [
              0.5555555555555556,
              "#d8576b"
             ],
             [
              0.6666666666666666,
              "#ed7953"
             ],
             [
              0.7777777777777778,
              "#fb9f3a"
             ],
             [
              0.8888888888888888,
              "#fdca26"
             ],
             [
              1,
              "#f0f921"
             ]
            ],
            "type": "contour"
           }
          ],
          "contourcarpet": [
           {
            "colorbar": {
             "outlinewidth": 0,
             "ticks": ""
            },
            "type": "contourcarpet"
           }
          ],
          "heatmap": [
           {
            "colorbar": {
             "outlinewidth": 0,
             "ticks": ""
            },
            "colorscale": [
             [
              0,
              "#0d0887"
             ],
             [
              0.1111111111111111,
              "#46039f"
             ],
             [
              0.2222222222222222,
              "#7201a8"
             ],
             [
              0.3333333333333333,
              "#9c179e"
             ],
             [
              0.4444444444444444,
              "#bd3786"
             ],
             [
              0.5555555555555556,
              "#d8576b"
             ],
             [
              0.6666666666666666,
              "#ed7953"
             ],
             [
              0.7777777777777778,
              "#fb9f3a"
             ],
             [
              0.8888888888888888,
              "#fdca26"
             ],
             [
              1,
              "#f0f921"
             ]
            ],
            "type": "heatmap"
           }
          ],
          "heatmapgl": [
           {
            "colorbar": {
             "outlinewidth": 0,
             "ticks": ""
            },
            "colorscale": [
             [
              0,
              "#0d0887"
             ],
             [
              0.1111111111111111,
              "#46039f"
             ],
             [
              0.2222222222222222,
              "#7201a8"
             ],
             [
              0.3333333333333333,
              "#9c179e"
             ],
             [
              0.4444444444444444,
              "#bd3786"
             ],
             [
              0.5555555555555556,
              "#d8576b"
             ],
             [
              0.6666666666666666,
              "#ed7953"
             ],
             [
              0.7777777777777778,
              "#fb9f3a"
             ],
             [
              0.8888888888888888,
              "#fdca26"
             ],
             [
              1,
              "#f0f921"
             ]
            ],
            "type": "heatmapgl"
           }
          ],
          "histogram": [
           {
            "marker": {
             "pattern": {
              "fillmode": "overlay",
              "size": 10,
              "solidity": 0.2
             }
            },
            "type": "histogram"
           }
          ],
          "histogram2d": [
           {
            "colorbar": {
             "outlinewidth": 0,
             "ticks": ""
            },
            "colorscale": [
             [
              0,
              "#0d0887"
             ],
             [
              0.1111111111111111,
              "#46039f"
             ],
             [
              0.2222222222222222,
              "#7201a8"
             ],
             [
              0.3333333333333333,
              "#9c179e"
             ],
             [
              0.4444444444444444,
              "#bd3786"
             ],
             [
              0.5555555555555556,
              "#d8576b"
             ],
             [
              0.6666666666666666,
              "#ed7953"
             ],
             [
              0.7777777777777778,
              "#fb9f3a"
             ],
             [
              0.8888888888888888,
              "#fdca26"
             ],
             [
              1,
              "#f0f921"
             ]
            ],
            "type": "histogram2d"
           }
          ],
          "histogram2dcontour": [
           {
            "colorbar": {
             "outlinewidth": 0,
             "ticks": ""
            },
            "colorscale": [
             [
              0,
              "#0d0887"
             ],
             [
              0.1111111111111111,
              "#46039f"
             ],
             [
              0.2222222222222222,
              "#7201a8"
             ],
             [
              0.3333333333333333,
              "#9c179e"
             ],
             [
              0.4444444444444444,
              "#bd3786"
             ],
             [
              0.5555555555555556,
              "#d8576b"
             ],
             [
              0.6666666666666666,
              "#ed7953"
             ],
             [
              0.7777777777777778,
              "#fb9f3a"
             ],
             [
              0.8888888888888888,
              "#fdca26"
             ],
             [
              1,
              "#f0f921"
             ]
            ],
            "type": "histogram2dcontour"
           }
          ],
          "mesh3d": [
           {
            "colorbar": {
             "outlinewidth": 0,
             "ticks": ""
            },
            "type": "mesh3d"
           }
          ],
          "parcoords": [
           {
            "line": {
             "colorbar": {
              "outlinewidth": 0,
              "ticks": ""
             }
            },
            "type": "parcoords"
           }
          ],
          "pie": [
           {
            "automargin": true,
            "type": "pie"
           }
          ],
          "scatter": [
           {
            "fillpattern": {
             "fillmode": "overlay",
             "size": 10,
             "solidity": 0.2
            },
            "type": "scatter"
           }
          ],
          "scatter3d": [
           {
            "line": {
             "colorbar": {
              "outlinewidth": 0,
              "ticks": ""
             }
            },
            "marker": {
             "colorbar": {
              "outlinewidth": 0,
              "ticks": ""
             }
            },
            "type": "scatter3d"
           }
          ],
          "scattercarpet": [
           {
            "marker": {
             "colorbar": {
              "outlinewidth": 0,
              "ticks": ""
             }
            },
            "type": "scattercarpet"
           }
          ],
          "scattergeo": [
           {
            "marker": {
             "colorbar": {
              "outlinewidth": 0,
              "ticks": ""
             }
            },
            "type": "scattergeo"
           }
          ],
          "scattergl": [
           {
            "marker": {
             "colorbar": {
              "outlinewidth": 0,
              "ticks": ""
             }
            },
            "type": "scattergl"
           }
          ],
          "scattermapbox": [
           {
            "marker": {
             "colorbar": {
              "outlinewidth": 0,
              "ticks": ""
             }
            },
            "type": "scattermapbox"
           }
          ],
          "scatterpolar": [
           {
            "marker": {
             "colorbar": {
              "outlinewidth": 0,
              "ticks": ""
             }
            },
            "type": "scatterpolar"
           }
          ],
          "scatterpolargl": [
           {
            "marker": {
             "colorbar": {
              "outlinewidth": 0,
              "ticks": ""
             }
            },
            "type": "scatterpolargl"
           }
          ],
          "scatterternary": [
           {
            "marker": {
             "colorbar": {
              "outlinewidth": 0,
              "ticks": ""
             }
            },
            "type": "scatterternary"
           }
          ],
          "surface": [
           {
            "colorbar": {
             "outlinewidth": 0,
             "ticks": ""
            },
            "colorscale": [
             [
              0,
              "#0d0887"
             ],
             [
              0.1111111111111111,
              "#46039f"
             ],
             [
              0.2222222222222222,
              "#7201a8"
             ],
             [
              0.3333333333333333,
              "#9c179e"
             ],
             [
              0.4444444444444444,
              "#bd3786"
             ],
             [
              0.5555555555555556,
              "#d8576b"
             ],
             [
              0.6666666666666666,
              "#ed7953"
             ],
             [
              0.7777777777777778,
              "#fb9f3a"
             ],
             [
              0.8888888888888888,
              "#fdca26"
             ],
             [
              1,
              "#f0f921"
             ]
            ],
            "type": "surface"
           }
          ],
          "table": [
           {
            "cells": {
             "fill": {
              "color": "#EBF0F8"
             },
             "line": {
              "color": "white"
             }
            },
            "header": {
             "fill": {
              "color": "#C8D4E3"
             },
             "line": {
              "color": "white"
             }
            },
            "type": "table"
           }
          ]
         },
         "layout": {
          "annotationdefaults": {
           "arrowcolor": "#2a3f5f",
           "arrowhead": 0,
           "arrowwidth": 1
          },
          "autotypenumbers": "strict",
          "coloraxis": {
           "colorbar": {
            "outlinewidth": 0,
            "ticks": ""
           }
          },
          "colorscale": {
           "diverging": [
            [
             0,
             "#8e0152"
            ],
            [
             0.1,
             "#c51b7d"
            ],
            [
             0.2,
             "#de77ae"
            ],
            [
             0.3,
             "#f1b6da"
            ],
            [
             0.4,
             "#fde0ef"
            ],
            [
             0.5,
             "#f7f7f7"
            ],
            [
             0.6,
             "#e6f5d0"
            ],
            [
             0.7,
             "#b8e186"
            ],
            [
             0.8,
             "#7fbc41"
            ],
            [
             0.9,
             "#4d9221"
            ],
            [
             1,
             "#276419"
            ]
           ],
           "sequential": [
            [
             0,
             "#0d0887"
            ],
            [
             0.1111111111111111,
             "#46039f"
            ],
            [
             0.2222222222222222,
             "#7201a8"
            ],
            [
             0.3333333333333333,
             "#9c179e"
            ],
            [
             0.4444444444444444,
             "#bd3786"
            ],
            [
             0.5555555555555556,
             "#d8576b"
            ],
            [
             0.6666666666666666,
             "#ed7953"
            ],
            [
             0.7777777777777778,
             "#fb9f3a"
            ],
            [
             0.8888888888888888,
             "#fdca26"
            ],
            [
             1,
             "#f0f921"
            ]
           ],
           "sequentialminus": [
            [
             0,
             "#0d0887"
            ],
            [
             0.1111111111111111,
             "#46039f"
            ],
            [
             0.2222222222222222,
             "#7201a8"
            ],
            [
             0.3333333333333333,
             "#9c179e"
            ],
            [
             0.4444444444444444,
             "#bd3786"
            ],
            [
             0.5555555555555556,
             "#d8576b"
            ],
            [
             0.6666666666666666,
             "#ed7953"
            ],
            [
             0.7777777777777778,
             "#fb9f3a"
            ],
            [
             0.8888888888888888,
             "#fdca26"
            ],
            [
             1,
             "#f0f921"
            ]
           ]
          },
          "colorway": [
           "#636efa",
           "#EF553B",
           "#00cc96",
           "#ab63fa",
           "#FFA15A",
           "#19d3f3",
           "#FF6692",
           "#B6E880",
           "#FF97FF",
           "#FECB52"
          ],
          "font": {
           "color": "#2a3f5f"
          },
          "geo": {
           "bgcolor": "white",
           "lakecolor": "white",
           "landcolor": "#E5ECF6",
           "showlakes": true,
           "showland": true,
           "subunitcolor": "white"
          },
          "hoverlabel": {
           "align": "left"
          },
          "hovermode": "closest",
          "mapbox": {
           "style": "light"
          },
          "paper_bgcolor": "white",
          "plot_bgcolor": "#E5ECF6",
          "polar": {
           "angularaxis": {
            "gridcolor": "white",
            "linecolor": "white",
            "ticks": ""
           },
           "bgcolor": "#E5ECF6",
           "radialaxis": {
            "gridcolor": "white",
            "linecolor": "white",
            "ticks": ""
           }
          },
          "scene": {
           "xaxis": {
            "backgroundcolor": "#E5ECF6",
            "gridcolor": "white",
            "gridwidth": 2,
            "linecolor": "white",
            "showbackground": true,
            "ticks": "",
            "zerolinecolor": "white"
           },
           "yaxis": {
            "backgroundcolor": "#E5ECF6",
            "gridcolor": "white",
            "gridwidth": 2,
            "linecolor": "white",
            "showbackground": true,
            "ticks": "",
            "zerolinecolor": "white"
           },
           "zaxis": {
            "backgroundcolor": "#E5ECF6",
            "gridcolor": "white",
            "gridwidth": 2,
            "linecolor": "white",
            "showbackground": true,
            "ticks": "",
            "zerolinecolor": "white"
           }
          },
          "shapedefaults": {
           "line": {
            "color": "#2a3f5f"
           }
          },
          "ternary": {
           "aaxis": {
            "gridcolor": "white",
            "linecolor": "white",
            "ticks": ""
           },
           "baxis": {
            "gridcolor": "white",
            "linecolor": "white",
            "ticks": ""
           },
           "bgcolor": "#E5ECF6",
           "caxis": {
            "gridcolor": "white",
            "linecolor": "white",
            "ticks": ""
           }
          },
          "title": {
           "x": 0.05
          },
          "xaxis": {
           "automargin": true,
           "gridcolor": "white",
           "linecolor": "white",
           "ticks": "",
           "title": {
            "standoff": 15
           },
           "zerolinecolor": "white",
           "zerolinewidth": 2
          },
          "yaxis": {
           "automargin": true,
           "gridcolor": "white",
           "linecolor": "white",
           "ticks": "",
           "title": {
            "standoff": 15
           },
           "zerolinecolor": "white",
           "zerolinewidth": 2
          }
         }
        },
        "xaxis": {
         "anchor": "y",
         "domain": [
          0,
          0.45
         ]
        },
        "xaxis10": {
         "anchor": "y10",
         "domain": [
          0.55,
          1
         ]
        },
        "xaxis11": {
         "anchor": "y11",
         "domain": [
          0,
          0.45
         ]
        },
        "xaxis12": {
         "anchor": "y12",
         "domain": [
          0.55,
          1
         ]
        },
        "xaxis2": {
         "anchor": "y2",
         "domain": [
          0.55,
          1
         ]
        },
        "xaxis3": {
         "anchor": "y3",
         "domain": [
          0,
          0.45
         ]
        },
        "xaxis4": {
         "anchor": "y4",
         "domain": [
          0.55,
          1
         ]
        },
        "xaxis5": {
         "anchor": "y5",
         "domain": [
          0,
          0.45
         ]
        },
        "xaxis6": {
         "anchor": "y6",
         "domain": [
          0.55,
          1
         ]
        },
        "xaxis7": {
         "anchor": "y7",
         "domain": [
          0,
          0.45
         ]
        },
        "xaxis8": {
         "anchor": "y8",
         "domain": [
          0.55,
          1
         ]
        },
        "xaxis9": {
         "anchor": "y9",
         "domain": [
          0,
          0.45
         ]
        },
        "yaxis": {
         "anchor": "x",
         "domain": [
          0.9027777777777777,
          0.9999999999999999
         ]
        },
        "yaxis10": {
         "anchor": "x10",
         "domain": [
          0.18055555555555555,
          0.2777777777777778
         ]
        },
        "yaxis11": {
         "anchor": "x11",
         "domain": [
          0,
          0.09722222222222222
         ]
        },
        "yaxis12": {
         "anchor": "x12",
         "domain": [
          0,
          0.09722222222222222
         ]
        },
        "yaxis2": {
         "anchor": "x2",
         "domain": [
          0.9027777777777777,
          0.9999999999999999
         ]
        },
        "yaxis3": {
         "anchor": "x3",
         "domain": [
          0.7222222222222222,
          0.8194444444444444
         ]
        },
        "yaxis4": {
         "anchor": "x4",
         "domain": [
          0.7222222222222222,
          0.8194444444444444
         ]
        },
        "yaxis5": {
         "anchor": "x5",
         "domain": [
          0.5416666666666667,
          0.638888888888889
         ]
        },
        "yaxis6": {
         "anchor": "x6",
         "domain": [
          0.5416666666666667,
          0.638888888888889
         ]
        },
        "yaxis7": {
         "anchor": "x7",
         "domain": [
          0.3611111111111111,
          0.4583333333333333
         ]
        },
        "yaxis8": {
         "anchor": "x8",
         "domain": [
          0.3611111111111111,
          0.4583333333333333
         ]
        },
        "yaxis9": {
         "anchor": "x9",
         "domain": [
          0.18055555555555555,
          0.2777777777777778
         ]
        }
       }
      }
     },
     "metadata": {},
     "output_type": "display_data"
    }
   ],
   "source": [
    "print(\"ALE results:\")\n",
    "global_explanations[\"ale\"].ipython_plot(class_names=class_names)"
   ]
  },
  {
   "cell_type": "code",
   "execution_count": null,
   "id": "01f83983",
   "metadata": {},
   "outputs": [
    {
     "name": "stdout",
     "output_type": "stream",
     "text": [
      "SHAP results:\n"
     ]
    },
    {
     "data": {
      "application/vnd.plotly.v1+json": {
       "config": {
        "linkText": "Export to plot.ly",
        "plotlyServerURL": "https://plot.ly",
        "showLink": false
       },
       "data": [
        {
         "alignmentgroup": "True",
         "hovertemplate": "Importance scores=%{x}<br>Features=%{y}<extra></extra>",
         "legendgroup": "",
         "marker": {
          "color": "#636efa",
          "pattern": {
           "shape": ""
          }
         },
         "name": "",
         "offsetgroup": "",
         "orientation": "h",
         "showlegend": false,
         "textposition": "auto",
         "type": "bar",
         "x": [
          0.035405686928903245,
          0.0753981418069563,
          0.0861354888317256,
          0.08976057454981025,
          0.25684813613986845,
          0.31853258623703823,
          0.3489083948164269,
          0.36047754754187644,
          0.42861524891739394,
          0.4334894410575615,
          1.1493664734791165
         ],
         "xaxis": "x",
         "y": [
          "Country",
          "Sex",
          "Race",
          "Workclass",
          "Hours per week",
          "Capital Loss",
          "Occupation",
          "Education",
          "Capital Gain",
          "Age",
          "Relationship"
         ],
         "yaxis": "y"
        }
       ],
       "layout": {
        "barmode": "relative",
        "legend": {
         "tracegroupgap": 0
        },
        "template": {
         "data": {
          "bar": [
           {
            "error_x": {
             "color": "#2a3f5f"
            },
            "error_y": {
             "color": "#2a3f5f"
            },
            "marker": {
             "line": {
              "color": "#E5ECF6",
              "width": 0.5
             },
             "pattern": {
              "fillmode": "overlay",
              "size": 10,
              "solidity": 0.2
             }
            },
            "type": "bar"
           }
          ],
          "barpolar": [
           {
            "marker": {
             "line": {
              "color": "#E5ECF6",
              "width": 0.5
             },
             "pattern": {
              "fillmode": "overlay",
              "size": 10,
              "solidity": 0.2
             }
            },
            "type": "barpolar"
           }
          ],
          "carpet": [
           {
            "aaxis": {
             "endlinecolor": "#2a3f5f",
             "gridcolor": "white",
             "linecolor": "white",
             "minorgridcolor": "white",
             "startlinecolor": "#2a3f5f"
            },
            "baxis": {
             "endlinecolor": "#2a3f5f",
             "gridcolor": "white",
             "linecolor": "white",
             "minorgridcolor": "white",
             "startlinecolor": "#2a3f5f"
            },
            "type": "carpet"
           }
          ],
          "choropleth": [
           {
            "colorbar": {
             "outlinewidth": 0,
             "ticks": ""
            },
            "type": "choropleth"
           }
          ],
          "contour": [
           {
            "colorbar": {
             "outlinewidth": 0,
             "ticks": ""
            },
            "colorscale": [
             [
              0,
              "#0d0887"
             ],
             [
              0.1111111111111111,
              "#46039f"
             ],
             [
              0.2222222222222222,
              "#7201a8"
             ],
             [
              0.3333333333333333,
              "#9c179e"
             ],
             [
              0.4444444444444444,
              "#bd3786"
             ],
             [
              0.5555555555555556,
              "#d8576b"
             ],
             [
              0.6666666666666666,
              "#ed7953"
             ],
             [
              0.7777777777777778,
              "#fb9f3a"
             ],
             [
              0.8888888888888888,
              "#fdca26"
             ],
             [
              1,
              "#f0f921"
             ]
            ],
            "type": "contour"
           }
          ],
          "contourcarpet": [
           {
            "colorbar": {
             "outlinewidth": 0,
             "ticks": ""
            },
            "type": "contourcarpet"
           }
          ],
          "heatmap": [
           {
            "colorbar": {
             "outlinewidth": 0,
             "ticks": ""
            },
            "colorscale": [
             [
              0,
              "#0d0887"
             ],
             [
              0.1111111111111111,
              "#46039f"
             ],
             [
              0.2222222222222222,
              "#7201a8"
             ],
             [
              0.3333333333333333,
              "#9c179e"
             ],
             [
              0.4444444444444444,
              "#bd3786"
             ],
             [
              0.5555555555555556,
              "#d8576b"
             ],
             [
              0.6666666666666666,
              "#ed7953"
             ],
             [
              0.7777777777777778,
              "#fb9f3a"
             ],
             [
              0.8888888888888888,
              "#fdca26"
             ],
             [
              1,
              "#f0f921"
             ]
            ],
            "type": "heatmap"
           }
          ],
          "heatmapgl": [
           {
            "colorbar": {
             "outlinewidth": 0,
             "ticks": ""
            },
            "colorscale": [
             [
              0,
              "#0d0887"
             ],
             [
              0.1111111111111111,
              "#46039f"
             ],
             [
              0.2222222222222222,
              "#7201a8"
             ],
             [
              0.3333333333333333,
              "#9c179e"
             ],
             [
              0.4444444444444444,
              "#bd3786"
             ],
             [
              0.5555555555555556,
              "#d8576b"
             ],
             [
              0.6666666666666666,
              "#ed7953"
             ],
             [
              0.7777777777777778,
              "#fb9f3a"
             ],
             [
              0.8888888888888888,
              "#fdca26"
             ],
             [
              1,
              "#f0f921"
             ]
            ],
            "type": "heatmapgl"
           }
          ],
          "histogram": [
           {
            "marker": {
             "pattern": {
              "fillmode": "overlay",
              "size": 10,
              "solidity": 0.2
             }
            },
            "type": "histogram"
           }
          ],
          "histogram2d": [
           {
            "colorbar": {
             "outlinewidth": 0,
             "ticks": ""
            },
            "colorscale": [
             [
              0,
              "#0d0887"
             ],
             [
              0.1111111111111111,
              "#46039f"
             ],
             [
              0.2222222222222222,
              "#7201a8"
             ],
             [
              0.3333333333333333,
              "#9c179e"
             ],
             [
              0.4444444444444444,
              "#bd3786"
             ],
             [
              0.5555555555555556,
              "#d8576b"
             ],
             [
              0.6666666666666666,
              "#ed7953"
             ],
             [
              0.7777777777777778,
              "#fb9f3a"
             ],
             [
              0.8888888888888888,
              "#fdca26"
             ],
             [
              1,
              "#f0f921"
             ]
            ],
            "type": "histogram2d"
           }
          ],
          "histogram2dcontour": [
           {
            "colorbar": {
             "outlinewidth": 0,
             "ticks": ""
            },
            "colorscale": [
             [
              0,
              "#0d0887"
             ],
             [
              0.1111111111111111,
              "#46039f"
             ],
             [
              0.2222222222222222,
              "#7201a8"
             ],
             [
              0.3333333333333333,
              "#9c179e"
             ],
             [
              0.4444444444444444,
              "#bd3786"
             ],
             [
              0.5555555555555556,
              "#d8576b"
             ],
             [
              0.6666666666666666,
              "#ed7953"
             ],
             [
              0.7777777777777778,
              "#fb9f3a"
             ],
             [
              0.8888888888888888,
              "#fdca26"
             ],
             [
              1,
              "#f0f921"
             ]
            ],
            "type": "histogram2dcontour"
           }
          ],
          "mesh3d": [
           {
            "colorbar": {
             "outlinewidth": 0,
             "ticks": ""
            },
            "type": "mesh3d"
           }
          ],
          "parcoords": [
           {
            "line": {
             "colorbar": {
              "outlinewidth": 0,
              "ticks": ""
             }
            },
            "type": "parcoords"
           }
          ],
          "pie": [
           {
            "automargin": true,
            "type": "pie"
           }
          ],
          "scatter": [
           {
            "fillpattern": {
             "fillmode": "overlay",
             "size": 10,
             "solidity": 0.2
            },
            "type": "scatter"
           }
          ],
          "scatter3d": [
           {
            "line": {
             "colorbar": {
              "outlinewidth": 0,
              "ticks": ""
             }
            },
            "marker": {
             "colorbar": {
              "outlinewidth": 0,
              "ticks": ""
             }
            },
            "type": "scatter3d"
           }
          ],
          "scattercarpet": [
           {
            "marker": {
             "colorbar": {
              "outlinewidth": 0,
              "ticks": ""
             }
            },
            "type": "scattercarpet"
           }
          ],
          "scattergeo": [
           {
            "marker": {
             "colorbar": {
              "outlinewidth": 0,
              "ticks": ""
             }
            },
            "type": "scattergeo"
           }
          ],
          "scattergl": [
           {
            "marker": {
             "colorbar": {
              "outlinewidth": 0,
              "ticks": ""
             }
            },
            "type": "scattergl"
           }
          ],
          "scattermapbox": [
           {
            "marker": {
             "colorbar": {
              "outlinewidth": 0,
              "ticks": ""
             }
            },
            "type": "scattermapbox"
           }
          ],
          "scatterpolar": [
           {
            "marker": {
             "colorbar": {
              "outlinewidth": 0,
              "ticks": ""
             }
            },
            "type": "scatterpolar"
           }
          ],
          "scatterpolargl": [
           {
            "marker": {
             "colorbar": {
              "outlinewidth": 0,
              "ticks": ""
             }
            },
            "type": "scatterpolargl"
           }
          ],
          "scatterternary": [
           {
            "marker": {
             "colorbar": {
              "outlinewidth": 0,
              "ticks": ""
             }
            },
            "type": "scatterternary"
           }
          ],
          "surface": [
           {
            "colorbar": {
             "outlinewidth": 0,
             "ticks": ""
            },
            "colorscale": [
             [
              0,
              "#0d0887"
             ],
             [
              0.1111111111111111,
              "#46039f"
             ],
             [
              0.2222222222222222,
              "#7201a8"
             ],
             [
              0.3333333333333333,
              "#9c179e"
             ],
             [
              0.4444444444444444,
              "#bd3786"
             ],
             [
              0.5555555555555556,
              "#d8576b"
             ],
             [
              0.6666666666666666,
              "#ed7953"
             ],
             [
              0.7777777777777778,
              "#fb9f3a"
             ],
             [
              0.8888888888888888,
              "#fdca26"
             ],
             [
              1,
              "#f0f921"
             ]
            ],
            "type": "surface"
           }
          ],
          "table": [
           {
            "cells": {
             "fill": {
              "color": "#EBF0F8"
             },
             "line": {
              "color": "white"
             }
            },
            "header": {
             "fill": {
              "color": "#C8D4E3"
             },
             "line": {
              "color": "white"
             }
            },
            "type": "table"
           }
          ]
         },
         "layout": {
          "annotationdefaults": {
           "arrowcolor": "#2a3f5f",
           "arrowhead": 0,
           "arrowwidth": 1
          },
          "autotypenumbers": "strict",
          "coloraxis": {
           "colorbar": {
            "outlinewidth": 0,
            "ticks": ""
           }
          },
          "colorscale": {
           "diverging": [
            [
             0,
             "#8e0152"
            ],
            [
             0.1,
             "#c51b7d"
            ],
            [
             0.2,
             "#de77ae"
            ],
            [
             0.3,
             "#f1b6da"
            ],
            [
             0.4,
             "#fde0ef"
            ],
            [
             0.5,
             "#f7f7f7"
            ],
            [
             0.6,
             "#e6f5d0"
            ],
            [
             0.7,
             "#b8e186"
            ],
            [
             0.8,
             "#7fbc41"
            ],
            [
             0.9,
             "#4d9221"
            ],
            [
             1,
             "#276419"
            ]
           ],
           "sequential": [
            [
             0,
             "#0d0887"
            ],
            [
             0.1111111111111111,
             "#46039f"
            ],
            [
             0.2222222222222222,
             "#7201a8"
            ],
            [
             0.3333333333333333,
             "#9c179e"
            ],
            [
             0.4444444444444444,
             "#bd3786"
            ],
            [
             0.5555555555555556,
             "#d8576b"
            ],
            [
             0.6666666666666666,
             "#ed7953"
            ],
            [
             0.7777777777777778,
             "#fb9f3a"
            ],
            [
             0.8888888888888888,
             "#fdca26"
            ],
            [
             1,
             "#f0f921"
            ]
           ],
           "sequentialminus": [
            [
             0,
             "#0d0887"
            ],
            [
             0.1111111111111111,
             "#46039f"
            ],
            [
             0.2222222222222222,
             "#7201a8"
            ],
            [
             0.3333333333333333,
             "#9c179e"
            ],
            [
             0.4444444444444444,
             "#bd3786"
            ],
            [
             0.5555555555555556,
             "#d8576b"
            ],
            [
             0.6666666666666666,
             "#ed7953"
            ],
            [
             0.7777777777777778,
             "#fb9f3a"
            ],
            [
             0.8888888888888888,
             "#fdca26"
            ],
            [
             1,
             "#f0f921"
            ]
           ]
          },
          "colorway": [
           "#636efa",
           "#EF553B",
           "#00cc96",
           "#ab63fa",
           "#FFA15A",
           "#19d3f3",
           "#FF6692",
           "#B6E880",
           "#FF97FF",
           "#FECB52"
          ],
          "font": {
           "color": "#2a3f5f"
          },
          "geo": {
           "bgcolor": "white",
           "lakecolor": "white",
           "landcolor": "#E5ECF6",
           "showlakes": true,
           "showland": true,
           "subunitcolor": "white"
          },
          "hoverlabel": {
           "align": "left"
          },
          "hovermode": "closest",
          "mapbox": {
           "style": "light"
          },
          "paper_bgcolor": "white",
          "plot_bgcolor": "#E5ECF6",
          "polar": {
           "angularaxis": {
            "gridcolor": "white",
            "linecolor": "white",
            "ticks": ""
           },
           "bgcolor": "#E5ECF6",
           "radialaxis": {
            "gridcolor": "white",
            "linecolor": "white",
            "ticks": ""
           }
          },
          "scene": {
           "xaxis": {
            "backgroundcolor": "#E5ECF6",
            "gridcolor": "white",
            "gridwidth": 2,
            "linecolor": "white",
            "showbackground": true,
            "ticks": "",
            "zerolinecolor": "white"
           },
           "yaxis": {
            "backgroundcolor": "#E5ECF6",
            "gridcolor": "white",
            "gridwidth": 2,
            "linecolor": "white",
            "showbackground": true,
            "ticks": "",
            "zerolinecolor": "white"
           },
           "zaxis": {
            "backgroundcolor": "#E5ECF6",
            "gridcolor": "white",
            "gridwidth": 2,
            "linecolor": "white",
            "showbackground": true,
            "ticks": "",
            "zerolinecolor": "white"
           }
          },
          "shapedefaults": {
           "line": {
            "color": "#2a3f5f"
           }
          },
          "ternary": {
           "aaxis": {
            "gridcolor": "white",
            "linecolor": "white",
            "ticks": ""
           },
           "baxis": {
            "gridcolor": "white",
            "linecolor": "white",
            "ticks": ""
           },
           "bgcolor": "#E5ECF6",
           "caxis": {
            "gridcolor": "white",
            "linecolor": "white",
            "ticks": ""
           }
          },
          "title": {
           "x": 0.05
          },
          "xaxis": {
           "automargin": true,
           "gridcolor": "white",
           "linecolor": "white",
           "ticks": "",
           "title": {
            "standoff": 15
           },
           "zerolinecolor": "white",
           "zerolinewidth": 2
          },
          "yaxis": {
           "automargin": true,
           "gridcolor": "white",
           "linecolor": "white",
           "ticks": "",
           "title": {
            "standoff": 15
           },
           "zerolinecolor": "white",
           "zerolinewidth": 2
          }
         }
        },
        "title": {
         "text": "Global Feature Importance"
        },
        "xaxis": {
         "anchor": "y",
         "domain": [
          0,
          1
         ],
         "title": {
          "text": "Importance scores"
         }
        },
        "yaxis": {
         "anchor": "x",
         "domain": [
          0,
          1
         ],
         "title": {
          "text": "Features"
         }
        }
       }
      }
     },
     "metadata": {},
     "output_type": "display_data"
    }
   ],
   "source": [
    "print(\"SHAP results:\")\n",
    "global_explanations[\"shap_global\"].ipython_plot(class_names=class_names)"
   ]
  },
  {
   "cell_type": "markdown",
   "id": "38db1bc8",
   "metadata": {},
   "source": [
    "# Local Explainability on wrong but confident predictions"
   ]
  },
  {
   "cell_type": "markdown",
   "id": "35c52cd4",
   "metadata": {},
   "source": [
    "#### Find wrong but confident predictions"
   ]
  },
  {
   "cell_type": "code",
   "execution_count": 33,
   "id": "6a08d37f",
   "metadata": {},
   "outputs": [
    {
     "name": "stdout",
     "output_type": "stream",
     "text": [
      "There are 22 instances where the model is very confident but wrong.\n",
      "For example, instance 142 has label 1 and prediction 0.0, with probs [0.98778347 0.01221653]\n"
     ]
    }
   ],
   "source": [
    "# Find instances where the predicted label is different from the actual label\n",
    "miss_indices = np.where(predictions != test_labels)[0]\n",
    "\n",
    "# Create the prediction probabilities\n",
    "proba = model.predict_proba(test)\n",
    "\n",
    "# Find instances where the model is very confident but wrong\n",
    "miss_but_confident = []\n",
    "\n",
    "for idx in miss_indices:\n",
    "    if max(proba[idx]) > 0.95:\n",
    "        miss_but_confident.append(idx)\n",
    "    \n",
    "print(f\"There are {len(miss_but_confident)} instances where the model is very confident but wrong.\")\n",
    "\n",
    "instance_id = miss_but_confident[0]\n",
    "\n",
    "print(f\"For example, instance {instance_id} has label {test_labels[instance_id]} and prediction {predictions[instance_id]}, with probs {model.predict_proba(test[instance_id:instance_id+1])[0]}\")"
   ]
  },
  {
   "cell_type": "markdown",
   "id": "1a642b11",
   "metadata": {},
   "source": [
    "#### Explain these instance using LIME and MACE."
   ]
  },
  {
   "cell_type": "code",
   "execution_count": 34,
   "id": "aecded6d",
   "metadata": {},
   "outputs": [],
   "source": [
    "explainers = TabularExplainer(\n",
    "  explainers=['lime', 'mace'],                       # The explainers to apply\n",
    "  mode=\"classification\",                             # The task type\n",
    "  data=train_data,                                   # The data for initializing the explainers\n",
    "  model=model,                                       # The ML model to explain\n",
    "  preprocess=lambda z: transformer.transform(z),     # Converts raw features into the model inputs\n",
    "  params={\n",
    "        \"mace\": {\"ignored_features\": [\"Sex\", \"Race\"]}# params which cannot change when creating counterfactuals\n",
    "    }\n",
    ")\n",
    "\n",
    "\n",
    "test_instances = test_data[instance_id:instance_id+1]\n",
    "local_explanations = explainers.explain(X=test_instances)"
   ]
  },
  {
   "cell_type": "code",
   "execution_count": 35,
   "id": "32820050",
   "metadata": {},
   "outputs": [
    {
     "name": "stdout",
     "output_type": "stream",
     "text": [
      "LIME explanation\n",
      "Instance 142 has label 1 but prediction 0.0, with probs [0.98778347 0.01221653]\n"
     ]
    },
    {
     "data": {
      "application/vnd.plotly.v1+json": {
       "config": {
        "linkText": "Export to plot.ly",
        "plotlyServerURL": "https://plot.ly",
        "showLink": false
       },
       "data": [
        {
         "alignmentgroup": "True",
         "hovertemplate": "Positive=True<br>Importance scores=%{x}<br>Features=%{y}<extra></extra>",
         "legendgroup": "True",
         "marker": {
          "color": "#008B8B",
          "pattern": {
           "shape": ""
          }
         },
         "name": "True",
         "offsetgroup": "True",
         "orientation": "h",
         "showlegend": true,
         "textposition": "auto",
         "type": "bar",
         "x": [
          0.004207055531362602,
          0.02065027148272222,
          0.054465089037074255,
          0.0694419359553257,
          0.09280501427908397,
          0.13015685142603667,
          0.2169437818559095,
          0.525172356239563
         ],
         "xaxis": "x",
         "y": [
          "Workclass = State-gov",
          "Occupation = Transport-movin*",
          "Education = HS-grad",
          "Hours per week = MidTime",
          "Race = Amer-Indian-Esk*",
          "Age = Young",
          "Relationship = Not-in-family",
          "Capital Gain = 0"
         ],
         "yaxis": "y"
        },
        {
         "alignmentgroup": "True",
         "hovertemplate": "Positive=False<br>Importance scores=%{x}<br>Features=%{y}<extra></extra>",
         "legendgroup": "False",
         "marker": {
          "color": "#DC143C",
          "pattern": {
           "shape": ""
          }
         },
         "name": "False",
         "offsetgroup": "False",
         "orientation": "h",
         "showlegend": true,
         "textposition": "auto",
         "type": "bar",
         "x": [
          -0.008362780848804452,
          -0.053224161361662976
         ],
         "xaxis": "x",
         "y": [
          "Sex = Male",
          "Country = United-States"
         ],
         "yaxis": "y"
        }
       ],
       "layout": {
        "barmode": "relative",
        "legend": {
         "title": {
          "text": "Positive"
         },
         "tracegroupgap": 0
        },
        "template": {
         "data": {
          "bar": [
           {
            "error_x": {
             "color": "#2a3f5f"
            },
            "error_y": {
             "color": "#2a3f5f"
            },
            "marker": {
             "line": {
              "color": "#E5ECF6",
              "width": 0.5
             },
             "pattern": {
              "fillmode": "overlay",
              "size": 10,
              "solidity": 0.2
             }
            },
            "type": "bar"
           }
          ],
          "barpolar": [
           {
            "marker": {
             "line": {
              "color": "#E5ECF6",
              "width": 0.5
             },
             "pattern": {
              "fillmode": "overlay",
              "size": 10,
              "solidity": 0.2
             }
            },
            "type": "barpolar"
           }
          ],
          "carpet": [
           {
            "aaxis": {
             "endlinecolor": "#2a3f5f",
             "gridcolor": "white",
             "linecolor": "white",
             "minorgridcolor": "white",
             "startlinecolor": "#2a3f5f"
            },
            "baxis": {
             "endlinecolor": "#2a3f5f",
             "gridcolor": "white",
             "linecolor": "white",
             "minorgridcolor": "white",
             "startlinecolor": "#2a3f5f"
            },
            "type": "carpet"
           }
          ],
          "choropleth": [
           {
            "colorbar": {
             "outlinewidth": 0,
             "ticks": ""
            },
            "type": "choropleth"
           }
          ],
          "contour": [
           {
            "colorbar": {
             "outlinewidth": 0,
             "ticks": ""
            },
            "colorscale": [
             [
              0,
              "#0d0887"
             ],
             [
              0.1111111111111111,
              "#46039f"
             ],
             [
              0.2222222222222222,
              "#7201a8"
             ],
             [
              0.3333333333333333,
              "#9c179e"
             ],
             [
              0.4444444444444444,
              "#bd3786"
             ],
             [
              0.5555555555555556,
              "#d8576b"
             ],
             [
              0.6666666666666666,
              "#ed7953"
             ],
             [
              0.7777777777777778,
              "#fb9f3a"
             ],
             [
              0.8888888888888888,
              "#fdca26"
             ],
             [
              1,
              "#f0f921"
             ]
            ],
            "type": "contour"
           }
          ],
          "contourcarpet": [
           {
            "colorbar": {
             "outlinewidth": 0,
             "ticks": ""
            },
            "type": "contourcarpet"
           }
          ],
          "heatmap": [
           {
            "colorbar": {
             "outlinewidth": 0,
             "ticks": ""
            },
            "colorscale": [
             [
              0,
              "#0d0887"
             ],
             [
              0.1111111111111111,
              "#46039f"
             ],
             [
              0.2222222222222222,
              "#7201a8"
             ],
             [
              0.3333333333333333,
              "#9c179e"
             ],
             [
              0.4444444444444444,
              "#bd3786"
             ],
             [
              0.5555555555555556,
              "#d8576b"
             ],
             [
              0.6666666666666666,
              "#ed7953"
             ],
             [
              0.7777777777777778,
              "#fb9f3a"
             ],
             [
              0.8888888888888888,
              "#fdca26"
             ],
             [
              1,
              "#f0f921"
             ]
            ],
            "type": "heatmap"
           }
          ],
          "heatmapgl": [
           {
            "colorbar": {
             "outlinewidth": 0,
             "ticks": ""
            },
            "colorscale": [
             [
              0,
              "#0d0887"
             ],
             [
              0.1111111111111111,
              "#46039f"
             ],
             [
              0.2222222222222222,
              "#7201a8"
             ],
             [
              0.3333333333333333,
              "#9c179e"
             ],
             [
              0.4444444444444444,
              "#bd3786"
             ],
             [
              0.5555555555555556,
              "#d8576b"
             ],
             [
              0.6666666666666666,
              "#ed7953"
             ],
             [
              0.7777777777777778,
              "#fb9f3a"
             ],
             [
              0.8888888888888888,
              "#fdca26"
             ],
             [
              1,
              "#f0f921"
             ]
            ],
            "type": "heatmapgl"
           }
          ],
          "histogram": [
           {
            "marker": {
             "pattern": {
              "fillmode": "overlay",
              "size": 10,
              "solidity": 0.2
             }
            },
            "type": "histogram"
           }
          ],
          "histogram2d": [
           {
            "colorbar": {
             "outlinewidth": 0,
             "ticks": ""
            },
            "colorscale": [
             [
              0,
              "#0d0887"
             ],
             [
              0.1111111111111111,
              "#46039f"
             ],
             [
              0.2222222222222222,
              "#7201a8"
             ],
             [
              0.3333333333333333,
              "#9c179e"
             ],
             [
              0.4444444444444444,
              "#bd3786"
             ],
             [
              0.5555555555555556,
              "#d8576b"
             ],
             [
              0.6666666666666666,
              "#ed7953"
             ],
             [
              0.7777777777777778,
              "#fb9f3a"
             ],
             [
              0.8888888888888888,
              "#fdca26"
             ],
             [
              1,
              "#f0f921"
             ]
            ],
            "type": "histogram2d"
           }
          ],
          "histogram2dcontour": [
           {
            "colorbar": {
             "outlinewidth": 0,
             "ticks": ""
            },
            "colorscale": [
             [
              0,
              "#0d0887"
             ],
             [
              0.1111111111111111,
              "#46039f"
             ],
             [
              0.2222222222222222,
              "#7201a8"
             ],
             [
              0.3333333333333333,
              "#9c179e"
             ],
             [
              0.4444444444444444,
              "#bd3786"
             ],
             [
              0.5555555555555556,
              "#d8576b"
             ],
             [
              0.6666666666666666,
              "#ed7953"
             ],
             [
              0.7777777777777778,
              "#fb9f3a"
             ],
             [
              0.8888888888888888,
              "#fdca26"
             ],
             [
              1,
              "#f0f921"
             ]
            ],
            "type": "histogram2dcontour"
           }
          ],
          "mesh3d": [
           {
            "colorbar": {
             "outlinewidth": 0,
             "ticks": ""
            },
            "type": "mesh3d"
           }
          ],
          "parcoords": [
           {
            "line": {
             "colorbar": {
              "outlinewidth": 0,
              "ticks": ""
             }
            },
            "type": "parcoords"
           }
          ],
          "pie": [
           {
            "automargin": true,
            "type": "pie"
           }
          ],
          "scatter": [
           {
            "fillpattern": {
             "fillmode": "overlay",
             "size": 10,
             "solidity": 0.2
            },
            "type": "scatter"
           }
          ],
          "scatter3d": [
           {
            "line": {
             "colorbar": {
              "outlinewidth": 0,
              "ticks": ""
             }
            },
            "marker": {
             "colorbar": {
              "outlinewidth": 0,
              "ticks": ""
             }
            },
            "type": "scatter3d"
           }
          ],
          "scattercarpet": [
           {
            "marker": {
             "colorbar": {
              "outlinewidth": 0,
              "ticks": ""
             }
            },
            "type": "scattercarpet"
           }
          ],
          "scattergeo": [
           {
            "marker": {
             "colorbar": {
              "outlinewidth": 0,
              "ticks": ""
             }
            },
            "type": "scattergeo"
           }
          ],
          "scattergl": [
           {
            "marker": {
             "colorbar": {
              "outlinewidth": 0,
              "ticks": ""
             }
            },
            "type": "scattergl"
           }
          ],
          "scattermapbox": [
           {
            "marker": {
             "colorbar": {
              "outlinewidth": 0,
              "ticks": ""
             }
            },
            "type": "scattermapbox"
           }
          ],
          "scatterpolar": [
           {
            "marker": {
             "colorbar": {
              "outlinewidth": 0,
              "ticks": ""
             }
            },
            "type": "scatterpolar"
           }
          ],
          "scatterpolargl": [
           {
            "marker": {
             "colorbar": {
              "outlinewidth": 0,
              "ticks": ""
             }
            },
            "type": "scatterpolargl"
           }
          ],
          "scatterternary": [
           {
            "marker": {
             "colorbar": {
              "outlinewidth": 0,
              "ticks": ""
             }
            },
            "type": "scatterternary"
           }
          ],
          "surface": [
           {
            "colorbar": {
             "outlinewidth": 0,
             "ticks": ""
            },
            "colorscale": [
             [
              0,
              "#0d0887"
             ],
             [
              0.1111111111111111,
              "#46039f"
             ],
             [
              0.2222222222222222,
              "#7201a8"
             ],
             [
              0.3333333333333333,
              "#9c179e"
             ],
             [
              0.4444444444444444,
              "#bd3786"
             ],
             [
              0.5555555555555556,
              "#d8576b"
             ],
             [
              0.6666666666666666,
              "#ed7953"
             ],
             [
              0.7777777777777778,
              "#fb9f3a"
             ],
             [
              0.8888888888888888,
              "#fdca26"
             ],
             [
              1,
              "#f0f921"
             ]
            ],
            "type": "surface"
           }
          ],
          "table": [
           {
            "cells": {
             "fill": {
              "color": "#EBF0F8"
             },
             "line": {
              "color": "white"
             }
            },
            "header": {
             "fill": {
              "color": "#C8D4E3"
             },
             "line": {
              "color": "white"
             }
            },
            "type": "table"
           }
          ]
         },
         "layout": {
          "annotationdefaults": {
           "arrowcolor": "#2a3f5f",
           "arrowhead": 0,
           "arrowwidth": 1
          },
          "autotypenumbers": "strict",
          "coloraxis": {
           "colorbar": {
            "outlinewidth": 0,
            "ticks": ""
           }
          },
          "colorscale": {
           "diverging": [
            [
             0,
             "#8e0152"
            ],
            [
             0.1,
             "#c51b7d"
            ],
            [
             0.2,
             "#de77ae"
            ],
            [
             0.3,
             "#f1b6da"
            ],
            [
             0.4,
             "#fde0ef"
            ],
            [
             0.5,
             "#f7f7f7"
            ],
            [
             0.6,
             "#e6f5d0"
            ],
            [
             0.7,
             "#b8e186"
            ],
            [
             0.8,
             "#7fbc41"
            ],
            [
             0.9,
             "#4d9221"
            ],
            [
             1,
             "#276419"
            ]
           ],
           "sequential": [
            [
             0,
             "#0d0887"
            ],
            [
             0.1111111111111111,
             "#46039f"
            ],
            [
             0.2222222222222222,
             "#7201a8"
            ],
            [
             0.3333333333333333,
             "#9c179e"
            ],
            [
             0.4444444444444444,
             "#bd3786"
            ],
            [
             0.5555555555555556,
             "#d8576b"
            ],
            [
             0.6666666666666666,
             "#ed7953"
            ],
            [
             0.7777777777777778,
             "#fb9f3a"
            ],
            [
             0.8888888888888888,
             "#fdca26"
            ],
            [
             1,
             "#f0f921"
            ]
           ],
           "sequentialminus": [
            [
             0,
             "#0d0887"
            ],
            [
             0.1111111111111111,
             "#46039f"
            ],
            [
             0.2222222222222222,
             "#7201a8"
            ],
            [
             0.3333333333333333,
             "#9c179e"
            ],
            [
             0.4444444444444444,
             "#bd3786"
            ],
            [
             0.5555555555555556,
             "#d8576b"
            ],
            [
             0.6666666666666666,
             "#ed7953"
            ],
            [
             0.7777777777777778,
             "#fb9f3a"
            ],
            [
             0.8888888888888888,
             "#fdca26"
            ],
            [
             1,
             "#f0f921"
            ]
           ]
          },
          "colorway": [
           "#636efa",
           "#EF553B",
           "#00cc96",
           "#ab63fa",
           "#FFA15A",
           "#19d3f3",
           "#FF6692",
           "#B6E880",
           "#FF97FF",
           "#FECB52"
          ],
          "font": {
           "color": "#2a3f5f"
          },
          "geo": {
           "bgcolor": "white",
           "lakecolor": "white",
           "landcolor": "#E5ECF6",
           "showlakes": true,
           "showland": true,
           "subunitcolor": "white"
          },
          "hoverlabel": {
           "align": "left"
          },
          "hovermode": "closest",
          "mapbox": {
           "style": "light"
          },
          "paper_bgcolor": "white",
          "plot_bgcolor": "#E5ECF6",
          "polar": {
           "angularaxis": {
            "gridcolor": "white",
            "linecolor": "white",
            "ticks": ""
           },
           "bgcolor": "#E5ECF6",
           "radialaxis": {
            "gridcolor": "white",
            "linecolor": "white",
            "ticks": ""
           }
          },
          "scene": {
           "xaxis": {
            "backgroundcolor": "#E5ECF6",
            "gridcolor": "white",
            "gridwidth": 2,
            "linecolor": "white",
            "showbackground": true,
            "ticks": "",
            "zerolinecolor": "white"
           },
           "yaxis": {
            "backgroundcolor": "#E5ECF6",
            "gridcolor": "white",
            "gridwidth": 2,
            "linecolor": "white",
            "showbackground": true,
            "ticks": "",
            "zerolinecolor": "white"
           },
           "zaxis": {
            "backgroundcolor": "#E5ECF6",
            "gridcolor": "white",
            "gridwidth": 2,
            "linecolor": "white",
            "showbackground": true,
            "ticks": "",
            "zerolinecolor": "white"
           }
          },
          "shapedefaults": {
           "line": {
            "color": "#2a3f5f"
           }
          },
          "ternary": {
           "aaxis": {
            "gridcolor": "white",
            "linecolor": "white",
            "ticks": ""
           },
           "baxis": {
            "gridcolor": "white",
            "linecolor": "white",
            "ticks": ""
           },
           "bgcolor": "#E5ECF6",
           "caxis": {
            "gridcolor": "white",
            "linecolor": "white",
            "ticks": ""
           }
          },
          "title": {
           "x": 0.05
          },
          "xaxis": {
           "automargin": true,
           "gridcolor": "white",
           "linecolor": "white",
           "ticks": "",
           "title": {
            "standoff": 15
           },
           "zerolinecolor": "white",
           "zerolinewidth": 2
          },
          "yaxis": {
           "automargin": true,
           "gridcolor": "white",
           "linecolor": "white",
           "ticks": "",
           "title": {
            "standoff": 15
           },
           "zerolinecolor": "white",
           "zerolinewidth": 2
          }
         }
        },
        "title": {
         "text": "Label: Class 0"
        },
        "xaxis": {
         "anchor": "y",
         "domain": [
          0,
          1
         ],
         "title": {
          "text": "Importance scores"
         }
        },
        "yaxis": {
         "anchor": "x",
         "domain": [
          0,
          1
         ],
         "title": {
          "text": "Features"
         }
        }
       }
      }
     },
     "metadata": {},
     "output_type": "display_data"
    }
   ],
   "source": [
    "print(\"LIME explanation\")\n",
    "\n",
    "print(f\"Instance {instance_id} has label {test_labels[instance_id]} but prediction {predictions[instance_id]}, with probs {model.predict_proba(test[instance_id:instance_id+1])[0]}\")\n",
    "local_explanations[\"lime\"].ipython_plot(index=0, class_names=class_names)"
   ]
  },
  {
   "cell_type": "code",
   "execution_count": 37,
   "id": "e76a6dab",
   "metadata": {},
   "outputs": [
    {
     "name": "stdout",
     "output_type": "stream",
     "text": [
      "MACE explanation\n"
     ]
    },
    {
     "data": {
      "text/html": [
       "<style type=\"text/css\">\n",
       "#T_56e95_row1_col2, #T_56e95_row1_col4, #T_56e95_row1_col9, #T_56e95_row1_col11, #T_56e95_row2_col1, #T_56e95_row2_col2, #T_56e95_row2_col3, #T_56e95_row2_col4, #T_56e95_row2_col11, #T_56e95_row3_col0, #T_56e95_row3_col2, #T_56e95_row3_col4, #T_56e95_row3_col9, #T_56e95_row3_col11, #T_56e95_row4_col1, #T_56e95_row4_col3, #T_56e95_row4_col7, #T_56e95_row4_col8, #T_56e95_row4_col9, #T_56e95_row4_col11 {\n",
       "  color: red;\n",
       "}\n",
       "</style>\n",
       "<table id=\"T_56e95\">\n",
       "  <thead>\n",
       "    <tr>\n",
       "      <th class=\"blank level0\" >&nbsp;</th>\n",
       "      <th id=\"T_56e95_level0_col0\" class=\"col_heading level0 col0\" >Age</th>\n",
       "      <th id=\"T_56e95_level0_col1\" class=\"col_heading level0 col1\" >Workclass</th>\n",
       "      <th id=\"T_56e95_level0_col2\" class=\"col_heading level0 col2\" >Education</th>\n",
       "      <th id=\"T_56e95_level0_col3\" class=\"col_heading level0 col3\" >Occupation</th>\n",
       "      <th id=\"T_56e95_level0_col4\" class=\"col_heading level0 col4\" >Relationship</th>\n",
       "      <th id=\"T_56e95_level0_col5\" class=\"col_heading level0 col5\" >Race</th>\n",
       "      <th id=\"T_56e95_level0_col6\" class=\"col_heading level0 col6\" >Sex</th>\n",
       "      <th id=\"T_56e95_level0_col7\" class=\"col_heading level0 col7\" >Capital Gain</th>\n",
       "      <th id=\"T_56e95_level0_col8\" class=\"col_heading level0 col8\" >Capital Loss</th>\n",
       "      <th id=\"T_56e95_level0_col9\" class=\"col_heading level0 col9\" >Hours per week</th>\n",
       "      <th id=\"T_56e95_level0_col10\" class=\"col_heading level0 col10\" >Country</th>\n",
       "      <th id=\"T_56e95_level0_col11\" class=\"col_heading level0 col11\" >label</th>\n",
       "    </tr>\n",
       "  </thead>\n",
       "  <tbody>\n",
       "    <tr>\n",
       "      <th id=\"T_56e95_level0_row0\" class=\"row_heading level0 row0\" >142</th>\n",
       "      <td id=\"T_56e95_row0_col0\" class=\"data row0 col0\" >Young</td>\n",
       "      <td id=\"T_56e95_row0_col1\" class=\"data row0 col1\" >State-gov</td>\n",
       "      <td id=\"T_56e95_row0_col2\" class=\"data row0 col2\" >HS-grad</td>\n",
       "      <td id=\"T_56e95_row0_col3\" class=\"data row0 col3\" >Transport-moving</td>\n",
       "      <td id=\"T_56e95_row0_col4\" class=\"data row0 col4\" >Not-in-family</td>\n",
       "      <td id=\"T_56e95_row0_col5\" class=\"data row0 col5\" >Amer-Indian-Eskimo</td>\n",
       "      <td id=\"T_56e95_row0_col6\" class=\"data row0 col6\" >Male</td>\n",
       "      <td id=\"T_56e95_row0_col7\" class=\"data row0 col7\" >0.000000</td>\n",
       "      <td id=\"T_56e95_row0_col8\" class=\"data row0 col8\" >0.000000</td>\n",
       "      <td id=\"T_56e95_row0_col9\" class=\"data row0 col9\" >MidTime</td>\n",
       "      <td id=\"T_56e95_row0_col10\" class=\"data row0 col10\" >United-States</td>\n",
       "      <td id=\"T_56e95_row0_col11\" class=\"data row0 col11\" >0</td>\n",
       "    </tr>\n",
       "    <tr>\n",
       "      <th id=\"T_56e95_level0_row1\" class=\"row_heading level0 row1\" >CF[0] for 142</th>\n",
       "      <td id=\"T_56e95_row1_col0\" class=\"data row1 col0\" >Young</td>\n",
       "      <td id=\"T_56e95_row1_col1\" class=\"data row1 col1\" >State-gov</td>\n",
       "      <td id=\"T_56e95_row1_col2\" class=\"data row1 col2\" >Bachelors</td>\n",
       "      <td id=\"T_56e95_row1_col3\" class=\"data row1 col3\" >Transport-moving</td>\n",
       "      <td id=\"T_56e95_row1_col4\" class=\"data row1 col4\" >Married</td>\n",
       "      <td id=\"T_56e95_row1_col5\" class=\"data row1 col5\" >Amer-Indian-Eskimo</td>\n",
       "      <td id=\"T_56e95_row1_col6\" class=\"data row1 col6\" >Male</td>\n",
       "      <td id=\"T_56e95_row1_col7\" class=\"data row1 col7\" >0.000000</td>\n",
       "      <td id=\"T_56e95_row1_col8\" class=\"data row1 col8\" >0.000000</td>\n",
       "      <td id=\"T_56e95_row1_col9\" class=\"data row1 col9\" >OverTime</td>\n",
       "      <td id=\"T_56e95_row1_col10\" class=\"data row1 col10\" >United-States</td>\n",
       "      <td id=\"T_56e95_row1_col11\" class=\"data row1 col11\" >1</td>\n",
       "    </tr>\n",
       "    <tr>\n",
       "      <th id=\"T_56e95_level0_row2\" class=\"row_heading level0 row2\" >CF[1] for 142</th>\n",
       "      <td id=\"T_56e95_row2_col0\" class=\"data row2 col0\" >Young</td>\n",
       "      <td id=\"T_56e95_row2_col1\" class=\"data row2 col1\" >Self-emp-inc</td>\n",
       "      <td id=\"T_56e95_row2_col2\" class=\"data row2 col2\" >Bachelors</td>\n",
       "      <td id=\"T_56e95_row2_col3\" class=\"data row2 col3\" >Prof-specialty</td>\n",
       "      <td id=\"T_56e95_row2_col4\" class=\"data row2 col4\" >Married</td>\n",
       "      <td id=\"T_56e95_row2_col5\" class=\"data row2 col5\" >Amer-Indian-Eskimo</td>\n",
       "      <td id=\"T_56e95_row2_col6\" class=\"data row2 col6\" >Male</td>\n",
       "      <td id=\"T_56e95_row2_col7\" class=\"data row2 col7\" >0.000000</td>\n",
       "      <td id=\"T_56e95_row2_col8\" class=\"data row2 col8\" >0.000000</td>\n",
       "      <td id=\"T_56e95_row2_col9\" class=\"data row2 col9\" >MidTime</td>\n",
       "      <td id=\"T_56e95_row2_col10\" class=\"data row2 col10\" >United-States</td>\n",
       "      <td id=\"T_56e95_row2_col11\" class=\"data row2 col11\" >1</td>\n",
       "    </tr>\n",
       "    <tr>\n",
       "      <th id=\"T_56e95_level0_row3\" class=\"row_heading level0 row3\" >CF[2] for 142</th>\n",
       "      <td id=\"T_56e95_row3_col0\" class=\"data row3 col0\" >Aged</td>\n",
       "      <td id=\"T_56e95_row3_col1\" class=\"data row3 col1\" >State-gov</td>\n",
       "      <td id=\"T_56e95_row3_col2\" class=\"data row3 col2\" >Bachelors</td>\n",
       "      <td id=\"T_56e95_row3_col3\" class=\"data row3 col3\" >Transport-moving</td>\n",
       "      <td id=\"T_56e95_row3_col4\" class=\"data row3 col4\" >Married</td>\n",
       "      <td id=\"T_56e95_row3_col5\" class=\"data row3 col5\" >Amer-Indian-Eskimo</td>\n",
       "      <td id=\"T_56e95_row3_col6\" class=\"data row3 col6\" >Male</td>\n",
       "      <td id=\"T_56e95_row3_col7\" class=\"data row3 col7\" >0.000000</td>\n",
       "      <td id=\"T_56e95_row3_col8\" class=\"data row3 col8\" >0.000000</td>\n",
       "      <td id=\"T_56e95_row3_col9\" class=\"data row3 col9\" >FullTime</td>\n",
       "      <td id=\"T_56e95_row3_col10\" class=\"data row3 col10\" >United-States</td>\n",
       "      <td id=\"T_56e95_row3_col11\" class=\"data row3 col11\" >1</td>\n",
       "    </tr>\n",
       "    <tr>\n",
       "      <th id=\"T_56e95_level0_row4\" class=\"row_heading level0 row4\" >CF[3] for 142</th>\n",
       "      <td id=\"T_56e95_row4_col0\" class=\"data row4 col0\" >Young</td>\n",
       "      <td id=\"T_56e95_row4_col1\" class=\"data row4 col1\" >Self-emp-not-inc</td>\n",
       "      <td id=\"T_56e95_row4_col2\" class=\"data row4 col2\" >HS-grad</td>\n",
       "      <td id=\"T_56e95_row4_col3\" class=\"data row4 col3\" >Machine-op-inspct</td>\n",
       "      <td id=\"T_56e95_row4_col4\" class=\"data row4 col4\" >Not-in-family</td>\n",
       "      <td id=\"T_56e95_row4_col5\" class=\"data row4 col5\" >Amer-Indian-Eskimo</td>\n",
       "      <td id=\"T_56e95_row4_col6\" class=\"data row4 col6\" >Male</td>\n",
       "      <td id=\"T_56e95_row4_col7\" class=\"data row4 col7\" >4787.000000</td>\n",
       "      <td id=\"T_56e95_row4_col8\" class=\"data row4 col8\" >1466.250000</td>\n",
       "      <td id=\"T_56e95_row4_col9\" class=\"data row4 col9\" >FullTime</td>\n",
       "      <td id=\"T_56e95_row4_col10\" class=\"data row4 col10\" >United-States</td>\n",
       "      <td id=\"T_56e95_row4_col11\" class=\"data row4 col11\" >1</td>\n",
       "    </tr>\n",
       "  </tbody>\n",
       "</table>\n"
      ],
      "text/plain": [
       "<pandas.io.formats.style.Styler at 0x31ccae700>"
      ]
     },
     "metadata": {},
     "output_type": "display_data"
    }
   ],
   "source": [
    "print(\"MACE explanation\")\n",
    "\n",
    "# query_df = pd.DataFrame(columns=local_explanations['mace'].get_explanations()[0]['query'].columns)\n",
    "query_df = local_explanations['mace'].get_explanations()[0]['query'].reset_index(drop=True)\n",
    "query_df.index = [f\"{instance_id}\"] * len(query_df)\n",
    "\n",
    "\n",
    "counter_df = local_explanations['mace'].get_explanations()[0]['counterfactual'].reset_index(drop=True)\n",
    "counter_df.index = [ f\"CF[{cnt}] for {instance_id}\" for cnt in range(len(counter_df))]\n",
    "\n",
    "combined_df = pd.concat([query_df, counter_df])\n",
    "\n",
    "# Highlighting function\n",
    "def highlight_changes(row):\n",
    "    instance_row = combined_df.iloc[0]  # Reference row for the instance\n",
    "    return [\"color: red\" if row[col] != instance_row[col] else \"\" for col in combined_df.columns]\n",
    "\n",
    "styled_df = combined_df.style.apply(highlight_changes, axis=1)\n",
    "\n",
    "\n",
    "display(styled_df)\n"
   ]
  }
 ],
 "metadata": {
  "kernelspec": {
   "display_name": "dm",
   "language": "python",
   "name": "python3"
  },
  "language_info": {
   "codemirror_mode": {
    "name": "ipython",
    "version": 3
   },
   "file_extension": ".py",
   "mimetype": "text/x-python",
   "name": "python",
   "nbconvert_exporter": "python",
   "pygments_lexer": "ipython3",
   "version": "3.8.20"
  }
 },
 "nbformat": 4,
 "nbformat_minor": 5
}
